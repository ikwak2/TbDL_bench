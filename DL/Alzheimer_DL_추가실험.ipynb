{
 "cells": [
  {
   "cell_type": "code",
   "execution_count": 1,
   "metadata": {},
   "outputs": [
    {
     "data": {
      "text/plain": [
       "device(type='cuda')"
      ]
     },
     "execution_count": 1,
     "metadata": {},
     "output_type": "execute_result"
    }
   ],
   "source": [
    "import os\n",
    "import math\n",
    "import time\n",
    "import argparse\n",
    "import numpy as np\n",
    "import pandas as pd\n",
    "import torch\n",
    "import torch.nn.functional as F\n",
    "from torch.nn import BCEWithLogitsLoss, CrossEntropyLoss, MSELoss, Module\n",
    "from torch.optim.lr_scheduler import ExponentialLR\n",
    "from torchmetrics import AUROC, Accuracy, MeanSquaredError\n",
    "from tqdm import tqdm\n",
    "from sklearn.metrics import roc_auc_score\n",
    "\n",
    "from torch_frame import stype\n",
    "from torch_frame.data import Dataset, DataLoader\n",
    "from torch_frame.datasets import (\n",
    "    ForestCoverType, KDDCensusIncome, DataFrameBenchmark,\n",
    "    AdultCensusIncome, BankMarketing, Dota2\n",
    ")\n",
    "from torch_frame.gbdt import CatBoost, LightGBM, XGBoost\n",
    "from torch_frame.nn import (\n",
    "    EmbeddingEncoder, FTTransformer, LinearBucketEncoder,\n",
    "    LinearEncoder, LinearPeriodicEncoder, ResNet, TabNet, TabTransformer\n",
    ")\n",
    "from torch_frame.nn.models import (\n",
    "    MLP, ExcelFormer, Trompt\n",
    ")\n",
    "from torch_frame.typing import TaskType\n",
    "import matplotlib.pyplot as plt\n",
    "\n",
    "\n",
    "# Use GPU for faster training\n",
    "device = torch.device(\"cuda\" if torch.cuda.is_available() else \"cpu\")\n",
    "device"
   ]
  },
  {
   "cell_type": "markdown",
   "metadata": {},
   "source": [
    "## Model"
   ]
  },
  {
   "cell_type": "code",
   "execution_count": 2,
   "metadata": {},
   "outputs": [],
   "source": [
    "# 분류 task\n",
    "is_classification = True"
   ]
  },
  {
   "cell_type": "markdown",
   "metadata": {},
   "source": [
    "### ResNet"
   ]
  },
  {
   "cell_type": "code",
   "execution_count": 3,
   "metadata": {},
   "outputs": [
    {
     "data": {
      "text/plain": [
       "_StoreTrueAction(option_strings=['--compile'], dest='compile', nargs=0, const=True, default=False, type=None, choices=None, required=False, help=None, metavar=None)"
      ]
     },
     "execution_count": 3,
     "metadata": {},
     "output_type": "execute_result"
    }
   ],
   "source": [
    "parser = argparse.ArgumentParser()\n",
    "parser.add_argument('--dataset', type=str, default='adult')\n",
    "parser.add_argument('--numerical_encoder_type', type=str, default='linear',\n",
    "                    choices=['linear', 'linearbucket', 'linearperiodic'])\n",
    "parser.add_argument('--model_type', type=str, default='fttransformer',\n",
    "                    choices=['fttransformer', 'resnet'])\n",
    "parser.add_argument('--channels', type=int, default=256)\n",
    "parser.add_argument('--num_layers', type=int, default=4)\n",
    "parser.add_argument('--batch_size', type=int, default=512)\n",
    "parser.add_argument('--lr', type=float, default=0.0001)\n",
    "parser.add_argument('--epochs', type=int, default=100)\n",
    "parser.add_argument('--seed', type=int, default=0)\n",
    "parser.add_argument('--compile', action='store_true')"
   ]
  },
  {
   "cell_type": "code",
   "execution_count": 4,
   "metadata": {},
   "outputs": [],
   "source": [
    "# Jupyter에서 실행될 때는 sys.argv를 조정\n",
    "args = parser.parse_args([\n",
    "    #'--dataset', 'adult',\n",
    "    '--numerical_encoder_type', 'linear',\n",
    "    '--model_type', 'resnet',       # fttransformer : FT-T / resnet : ResNet\n",
    "    '--channels', '256',\n",
    "    '--num_layers', '4',\n",
    "    '--batch_size', '256',  # 데이터를 256개씩 한번에 \n",
    "    '--lr', '0.0001',\n",
    "    '--epochs', '15',\n",
    "    '--seed', '0'\n",
    "])"
   ]
  },
  {
   "cell_type": "code",
   "execution_count": 5,
   "metadata": {},
   "outputs": [],
   "source": [
    "def train(epoch: int) -> float:\n",
    "    model.train()\n",
    "    loss_accum = total_count = 0\n",
    "\n",
    "    for tf in tqdm(train_loader, desc=f'Epoch: {epoch}'):\n",
    "        tf = tf.to(device)\n",
    "        pred = model(tf)\n",
    "        if is_classification:\n",
    "            loss = F.cross_entropy(pred, tf.y.long())\n",
    "        else:\n",
    "            loss = F.mse_loss(pred.view(-1), tf.y.view(-1))\n",
    "        optimizer.zero_grad()\n",
    "        loss.backward()\n",
    "        loss_accum += float(loss) * len(tf.y)\n",
    "        total_count += len(tf.y)\n",
    "        optimizer.step()\n",
    "    return loss_accum / total_count\n",
    "\n",
    "\n",
    "@torch.no_grad()\n",
    "def test(loader: DataLoader) -> float:\n",
    "    model.eval()\n",
    "    accum = total_count = 0\n",
    "\n",
    "    for tf in loader:\n",
    "        tf = tf.to(device)\n",
    "        pred = model(tf)\n",
    "        if is_classification:\n",
    "            pred_class = pred.argmax(dim=-1)\n",
    "            accum += float((tf.y == pred_class).sum())\n",
    "        else:\n",
    "            accum += float(\n",
    "                F.mse_loss(pred.view(-1), tf.y.view(-1), reduction='sum'))\n",
    "        total_count += len(tf.y)\n",
    "\n",
    "    if is_classification:\n",
    "        accuracy = accum / total_count\n",
    "        return accuracy\n",
    "    else:\n",
    "        rmse = (accum / total_count)**0.5\n",
    "        return rmse\n"
   ]
  },
  {
   "cell_type": "code",
   "execution_count": 6,
   "metadata": {},
   "outputs": [
    {
     "name": "stderr",
     "output_type": "stream",
     "text": [
      "Epoch: 1: 100%|██████████| 12/12 [00:03<00:00,  3.39it/s]\n"
     ]
    },
    {
     "name": "stdout",
     "output_type": "stream",
     "text": [
      "Train Loss: 0.7200, Train Acc: 0.5947, Val Acc: 0.5720, Test Acc: 0.5927\n",
      "Best Val Acc: 0.5720, Best Test Acc: 0.5927\n"
     ]
    },
    {
     "name": "stderr",
     "output_type": "stream",
     "text": [
      "Epoch: 2: 100%|██████████| 12/12 [00:00<00:00, 99.77it/s]\n"
     ]
    },
    {
     "name": "stdout",
     "output_type": "stream",
     "text": [
      "Train Loss: 0.6534, Train Acc: 0.6370, Val Acc: 0.6120, Test Acc: 0.6453\n",
      "Best Val Acc: 0.6120, Best Test Acc: 0.6453\n"
     ]
    },
    {
     "name": "stderr",
     "output_type": "stream",
     "text": [
      "Epoch: 3: 100%|██████████| 12/12 [00:00<00:00, 138.68it/s]\n"
     ]
    },
    {
     "name": "stdout",
     "output_type": "stream",
     "text": [
      "Train Loss: 0.6459, Train Acc: 0.6413, Val Acc: 0.6280, Test Acc: 0.6293\n",
      "Best Val Acc: 0.6280, Best Test Acc: 0.6293\n"
     ]
    },
    {
     "name": "stderr",
     "output_type": "stream",
     "text": [
      "Epoch: 4: 100%|██████████| 12/12 [00:00<00:00, 135.74it/s]\n"
     ]
    },
    {
     "name": "stdout",
     "output_type": "stream",
     "text": [
      "Train Loss: 0.6411, Train Acc: 0.6490, Val Acc: 0.6300, Test Acc: 0.6380\n",
      "Best Val Acc: 0.6300, Best Test Acc: 0.6380\n"
     ]
    },
    {
     "name": "stderr",
     "output_type": "stream",
     "text": [
      "Epoch: 5: 100%|██████████| 12/12 [00:00<00:00, 137.25it/s]\n"
     ]
    },
    {
     "name": "stdout",
     "output_type": "stream",
     "text": [
      "Train Loss: 0.6348, Train Acc: 0.6503, Val Acc: 0.6320, Test Acc: 0.6393\n",
      "Best Val Acc: 0.6320, Best Test Acc: 0.6393\n"
     ]
    },
    {
     "name": "stderr",
     "output_type": "stream",
     "text": [
      "Epoch: 6: 100%|██████████| 12/12 [00:00<00:00, 143.21it/s]\n"
     ]
    },
    {
     "name": "stdout",
     "output_type": "stream",
     "text": [
      "Train Loss: 0.6259, Train Acc: 0.6657, Val Acc: 0.6540, Test Acc: 0.6487\n",
      "Best Val Acc: 0.6540, Best Test Acc: 0.6487\n"
     ]
    },
    {
     "name": "stderr",
     "output_type": "stream",
     "text": [
      "Epoch: 7: 100%|██████████| 12/12 [00:00<00:00, 71.82it/s]\n"
     ]
    },
    {
     "name": "stdout",
     "output_type": "stream",
     "text": [
      "Train Loss: 0.6165, Train Acc: 0.6580, Val Acc: 0.6340, Test Acc: 0.6500\n",
      "Best Val Acc: 0.6540, Best Test Acc: 0.6487\n"
     ]
    },
    {
     "name": "stderr",
     "output_type": "stream",
     "text": [
      "Epoch: 8: 100%|██████████| 12/12 [00:00<00:00, 84.26it/s]\n"
     ]
    },
    {
     "name": "stdout",
     "output_type": "stream",
     "text": [
      "Train Loss: 0.6069, Train Acc: 0.6950, Val Acc: 0.6400, Test Acc: 0.6467\n",
      "Best Val Acc: 0.6540, Best Test Acc: 0.6487\n"
     ]
    },
    {
     "name": "stderr",
     "output_type": "stream",
     "text": [
      "Epoch: 9: 100%|██████████| 12/12 [00:00<00:00, 89.84it/s]\n"
     ]
    },
    {
     "name": "stdout",
     "output_type": "stream",
     "text": [
      "Train Loss: 0.5913, Train Acc: 0.7207, Val Acc: 0.6640, Test Acc: 0.6553\n",
      "Best Val Acc: 0.6640, Best Test Acc: 0.6553\n"
     ]
    },
    {
     "name": "stderr",
     "output_type": "stream",
     "text": [
      "Epoch: 10: 100%|██████████| 12/12 [00:00<00:00, 89.64it/s]\n"
     ]
    },
    {
     "name": "stdout",
     "output_type": "stream",
     "text": [
      "Train Loss: 0.5728, Train Acc: 0.7387, Val Acc: 0.6560, Test Acc: 0.6780\n",
      "Best Val Acc: 0.6640, Best Test Acc: 0.6553\n"
     ]
    },
    {
     "name": "stderr",
     "output_type": "stream",
     "text": [
      "Epoch: 11: 100%|██████████| 12/12 [00:00<00:00, 94.43it/s]\n"
     ]
    },
    {
     "name": "stdout",
     "output_type": "stream",
     "text": [
      "Train Loss: 0.5470, Train Acc: 0.7637, Val Acc: 0.6580, Test Acc: 0.6893\n",
      "Best Val Acc: 0.6640, Best Test Acc: 0.6553\n"
     ]
    },
    {
     "name": "stderr",
     "output_type": "stream",
     "text": [
      "Epoch: 12: 100%|██████████| 12/12 [00:00<00:00, 134.83it/s]\n"
     ]
    },
    {
     "name": "stdout",
     "output_type": "stream",
     "text": [
      "Train Loss: 0.5311, Train Acc: 0.7677, Val Acc: 0.6760, Test Acc: 0.6807\n",
      "Best Val Acc: 0.6760, Best Test Acc: 0.6807\n"
     ]
    },
    {
     "name": "stderr",
     "output_type": "stream",
     "text": [
      "Epoch: 13: 100%|██████████| 12/12 [00:00<00:00, 128.40it/s]\n"
     ]
    },
    {
     "name": "stdout",
     "output_type": "stream",
     "text": [
      "Train Loss: 0.5278, Train Acc: 0.7507, Val Acc: 0.6660, Test Acc: 0.6880\n",
      "Best Val Acc: 0.6760, Best Test Acc: 0.6807\n"
     ]
    },
    {
     "name": "stderr",
     "output_type": "stream",
     "text": [
      "Epoch: 14: 100%|██████████| 12/12 [00:00<00:00, 154.25it/s]\n"
     ]
    },
    {
     "name": "stdout",
     "output_type": "stream",
     "text": [
      "Train Loss: 0.5073, Train Acc: 0.7953, Val Acc: 0.6760, Test Acc: 0.6940\n",
      "Best Val Acc: 0.6760, Best Test Acc: 0.6807\n"
     ]
    },
    {
     "name": "stderr",
     "output_type": "stream",
     "text": [
      "Epoch: 15: 100%|██████████| 12/12 [00:00<00:00, 104.08it/s]\n"
     ]
    },
    {
     "name": "stdout",
     "output_type": "stream",
     "text": [
      "Train Loss: 0.4852, Train Acc: 0.7977, Val Acc: 0.6680, Test Acc: 0.6900\n",
      "Best Val Acc: 0.6760, Best Test Acc: 0.6807\n"
     ]
    },
    {
     "name": "stderr",
     "output_type": "stream",
     "text": [
      "Epoch: 1: 100%|██████████| 24/24 [00:00<00:00, 142.33it/s]\n"
     ]
    },
    {
     "name": "stdout",
     "output_type": "stream",
     "text": [
      "Train Loss: 0.6713, Train Acc: 0.6322, Val Acc: 0.6480, Test Acc: 0.6327\n",
      "Best Val Acc: 0.6480, Best Test Acc: 0.6327\n"
     ]
    },
    {
     "name": "stderr",
     "output_type": "stream",
     "text": [
      "Epoch: 2: 100%|██████████| 24/24 [00:00<00:00, 133.75it/s]\n"
     ]
    },
    {
     "name": "stdout",
     "output_type": "stream",
     "text": [
      "Train Loss: 0.6459, Train Acc: 0.6463, Val Acc: 0.6370, Test Acc: 0.6443\n",
      "Best Val Acc: 0.6480, Best Test Acc: 0.6327\n"
     ]
    },
    {
     "name": "stderr",
     "output_type": "stream",
     "text": [
      "Epoch: 3: 100%|██████████| 24/24 [00:00<00:00, 133.94it/s]\n"
     ]
    },
    {
     "name": "stdout",
     "output_type": "stream",
     "text": [
      "Train Loss: 0.6339, Train Acc: 0.6608, Val Acc: 0.6540, Test Acc: 0.6497\n",
      "Best Val Acc: 0.6540, Best Test Acc: 0.6497\n"
     ]
    },
    {
     "name": "stderr",
     "output_type": "stream",
     "text": [
      "Epoch: 4: 100%|██████████| 24/24 [00:00<00:00, 146.11it/s]\n"
     ]
    },
    {
     "name": "stdout",
     "output_type": "stream",
     "text": [
      "Train Loss: 0.6247, Train Acc: 0.6727, Val Acc: 0.6680, Test Acc: 0.6597\n",
      "Best Val Acc: 0.6680, Best Test Acc: 0.6597\n"
     ]
    },
    {
     "name": "stderr",
     "output_type": "stream",
     "text": [
      "Epoch: 5: 100%|██████████| 24/24 [00:00<00:00, 149.48it/s]\n"
     ]
    },
    {
     "name": "stdout",
     "output_type": "stream",
     "text": [
      "Train Loss: 0.6040, Train Acc: 0.6952, Val Acc: 0.6720, Test Acc: 0.6777\n",
      "Best Val Acc: 0.6720, Best Test Acc: 0.6777\n"
     ]
    },
    {
     "name": "stderr",
     "output_type": "stream",
     "text": [
      "Epoch: 6: 100%|██████████| 24/24 [00:00<00:00, 122.16it/s]\n"
     ]
    },
    {
     "name": "stdout",
     "output_type": "stream",
     "text": [
      "Train Loss: 0.5753, Train Acc: 0.7202, Val Acc: 0.7030, Test Acc: 0.6933\n",
      "Best Val Acc: 0.7030, Best Test Acc: 0.6933\n"
     ]
    },
    {
     "name": "stderr",
     "output_type": "stream",
     "text": [
      "Epoch: 7: 100%|██████████| 24/24 [00:00<00:00, 131.72it/s]\n"
     ]
    },
    {
     "name": "stdout",
     "output_type": "stream",
     "text": [
      "Train Loss: 0.5559, Train Acc: 0.7358, Val Acc: 0.6960, Test Acc: 0.7130\n",
      "Best Val Acc: 0.7030, Best Test Acc: 0.6933\n"
     ]
    },
    {
     "name": "stderr",
     "output_type": "stream",
     "text": [
      "Epoch: 8: 100%|██████████| 24/24 [00:00<00:00, 130.55it/s]\n"
     ]
    },
    {
     "name": "stdout",
     "output_type": "stream",
     "text": [
      "Train Loss: 0.5567, Train Acc: 0.7358, Val Acc: 0.6940, Test Acc: 0.7030\n",
      "Best Val Acc: 0.7030, Best Test Acc: 0.6933\n"
     ]
    },
    {
     "name": "stderr",
     "output_type": "stream",
     "text": [
      "Epoch: 9: 100%|██████████| 24/24 [00:00<00:00, 135.48it/s]\n"
     ]
    },
    {
     "name": "stdout",
     "output_type": "stream",
     "text": [
      "Train Loss: 0.5383, Train Acc: 0.7465, Val Acc: 0.7000, Test Acc: 0.7137\n",
      "Best Val Acc: 0.7030, Best Test Acc: 0.6933\n"
     ]
    },
    {
     "name": "stderr",
     "output_type": "stream",
     "text": [
      "Epoch: 10: 100%|██████████| 24/24 [00:00<00:00, 124.07it/s]\n"
     ]
    },
    {
     "name": "stdout",
     "output_type": "stream",
     "text": [
      "Train Loss: 0.5266, Train Acc: 0.7557, Val Acc: 0.7000, Test Acc: 0.7063\n",
      "Best Val Acc: 0.7030, Best Test Acc: 0.6933\n"
     ]
    },
    {
     "name": "stderr",
     "output_type": "stream",
     "text": [
      "Epoch: 11: 100%|██████████| 24/24 [00:00<00:00, 108.95it/s]\n"
     ]
    },
    {
     "name": "stdout",
     "output_type": "stream",
     "text": [
      "Train Loss: 0.5149, Train Acc: 0.7622, Val Acc: 0.6920, Test Acc: 0.7147\n",
      "Best Val Acc: 0.7030, Best Test Acc: 0.6933\n"
     ]
    },
    {
     "name": "stderr",
     "output_type": "stream",
     "text": [
      "Epoch: 12: 100%|██████████| 24/24 [00:00<00:00, 120.12it/s]\n"
     ]
    },
    {
     "name": "stdout",
     "output_type": "stream",
     "text": [
      "Train Loss: 0.5116, Train Acc: 0.7632, Val Acc: 0.6990, Test Acc: 0.7053\n",
      "Best Val Acc: 0.7030, Best Test Acc: 0.6933\n"
     ]
    },
    {
     "name": "stderr",
     "output_type": "stream",
     "text": [
      "Epoch: 13: 100%|██████████| 24/24 [00:00<00:00, 137.12it/s]\n"
     ]
    },
    {
     "name": "stdout",
     "output_type": "stream",
     "text": [
      "Train Loss: 0.5060, Train Acc: 0.7702, Val Acc: 0.6970, Test Acc: 0.7043\n",
      "Best Val Acc: 0.7030, Best Test Acc: 0.6933\n"
     ]
    },
    {
     "name": "stderr",
     "output_type": "stream",
     "text": [
      "Epoch: 14: 100%|██████████| 24/24 [00:00<00:00, 160.90it/s]\n"
     ]
    },
    {
     "name": "stdout",
     "output_type": "stream",
     "text": [
      "Train Loss: 0.5017, Train Acc: 0.7623, Val Acc: 0.6750, Test Acc: 0.6990\n",
      "Best Val Acc: 0.7030, Best Test Acc: 0.6933\n"
     ]
    },
    {
     "name": "stderr",
     "output_type": "stream",
     "text": [
      "Epoch: 15: 100%|██████████| 24/24 [00:00<00:00, 134.30it/s]\n"
     ]
    },
    {
     "name": "stdout",
     "output_type": "stream",
     "text": [
      "Train Loss: 0.5002, Train Acc: 0.7887, Val Acc: 0.6960, Test Acc: 0.7037\n",
      "Best Val Acc: 0.7030, Best Test Acc: 0.6933\n"
     ]
    },
    {
     "name": "stderr",
     "output_type": "stream",
     "text": [
      "Epoch: 1: 100%|██████████| 71/71 [00:00<00:00, 131.25it/s]\n"
     ]
    },
    {
     "name": "stdout",
     "output_type": "stream",
     "text": [
      "Train Loss: 0.6537, Train Acc: 0.6457, Val Acc: 0.6340, Test Acc: 0.6347\n",
      "Best Val Acc: 0.6340, Best Test Acc: 0.6347\n"
     ]
    },
    {
     "name": "stderr",
     "output_type": "stream",
     "text": [
      "Epoch: 2: 100%|██████████| 71/71 [00:00<00:00, 129.71it/s]\n"
     ]
    },
    {
     "name": "stdout",
     "output_type": "stream",
     "text": [
      "Train Loss: 0.6210, Train Acc: 0.6787, Val Acc: 0.6713, Test Acc: 0.6627\n",
      "Best Val Acc: 0.6713, Best Test Acc: 0.6627\n"
     ]
    },
    {
     "name": "stderr",
     "output_type": "stream",
     "text": [
      "Epoch: 3: 100%|██████████| 71/71 [00:00<00:00, 112.01it/s]\n"
     ]
    },
    {
     "name": "stdout",
     "output_type": "stream",
     "text": [
      "Train Loss: 0.5730, Train Acc: 0.6997, Val Acc: 0.7000, Test Acc: 0.6858\n",
      "Best Val Acc: 0.7000, Best Test Acc: 0.6858\n"
     ]
    },
    {
     "name": "stderr",
     "output_type": "stream",
     "text": [
      "Epoch: 4: 100%|██████████| 71/71 [00:00<00:00, 120.55it/s]\n"
     ]
    },
    {
     "name": "stdout",
     "output_type": "stream",
     "text": [
      "Train Loss: 0.5504, Train Acc: 0.7192, Val Acc: 0.7110, Test Acc: 0.7026\n",
      "Best Val Acc: 0.7110, Best Test Acc: 0.7026\n"
     ]
    },
    {
     "name": "stderr",
     "output_type": "stream",
     "text": [
      "Epoch: 5: 100%|██████████| 71/71 [00:00<00:00, 113.56it/s]\n"
     ]
    },
    {
     "name": "stdout",
     "output_type": "stream",
     "text": [
      "Train Loss: 0.5461, Train Acc: 0.7247, Val Acc: 0.7143, Test Acc: 0.7011\n",
      "Best Val Acc: 0.7143, Best Test Acc: 0.7011\n"
     ]
    },
    {
     "name": "stderr",
     "output_type": "stream",
     "text": [
      "Epoch: 6: 100%|██████████| 71/71 [00:00<00:00, 115.19it/s]\n"
     ]
    },
    {
     "name": "stdout",
     "output_type": "stream",
     "text": [
      "Train Loss: 0.5410, Train Acc: 0.7227, Val Acc: 0.7170, Test Acc: 0.7013\n",
      "Best Val Acc: 0.7170, Best Test Acc: 0.7013\n"
     ]
    },
    {
     "name": "stderr",
     "output_type": "stream",
     "text": [
      "Epoch: 7: 100%|██████████| 71/71 [00:00<00:00, 108.33it/s]\n"
     ]
    },
    {
     "name": "stdout",
     "output_type": "stream",
     "text": [
      "Train Loss: 0.5374, Train Acc: 0.7296, Val Acc: 0.7137, Test Acc: 0.7046\n",
      "Best Val Acc: 0.7170, Best Test Acc: 0.7013\n"
     ]
    },
    {
     "name": "stderr",
     "output_type": "stream",
     "text": [
      "Epoch: 8: 100%|██████████| 71/71 [00:00<00:00, 87.73it/s] \n"
     ]
    },
    {
     "name": "stdout",
     "output_type": "stream",
     "text": [
      "Train Loss: 0.5336, Train Acc: 0.7323, Val Acc: 0.7150, Test Acc: 0.6994\n",
      "Best Val Acc: 0.7170, Best Test Acc: 0.7013\n"
     ]
    },
    {
     "name": "stderr",
     "output_type": "stream",
     "text": [
      "Epoch: 9: 100%|██████████| 71/71 [00:00<00:00, 119.88it/s]\n"
     ]
    },
    {
     "name": "stdout",
     "output_type": "stream",
     "text": [
      "Train Loss: 0.5331, Train Acc: 0.7377, Val Acc: 0.7107, Test Acc: 0.7003\n",
      "Best Val Acc: 0.7170, Best Test Acc: 0.7013\n"
     ]
    },
    {
     "name": "stderr",
     "output_type": "stream",
     "text": [
      "Epoch: 10: 100%|██████████| 71/71 [00:00<00:00, 131.16it/s]\n"
     ]
    },
    {
     "name": "stdout",
     "output_type": "stream",
     "text": [
      "Train Loss: 0.5313, Train Acc: 0.7335, Val Acc: 0.7153, Test Acc: 0.7004\n",
      "Best Val Acc: 0.7170, Best Test Acc: 0.7013\n"
     ]
    },
    {
     "name": "stderr",
     "output_type": "stream",
     "text": [
      "Epoch: 11: 100%|██████████| 71/71 [00:00<00:00, 130.02it/s]\n"
     ]
    },
    {
     "name": "stdout",
     "output_type": "stream",
     "text": [
      "Train Loss: 0.5265, Train Acc: 0.7400, Val Acc: 0.7157, Test Acc: 0.7040\n",
      "Best Val Acc: 0.7170, Best Test Acc: 0.7013\n"
     ]
    },
    {
     "name": "stderr",
     "output_type": "stream",
     "text": [
      "Epoch: 12: 100%|██████████| 71/71 [00:00<00:00, 121.69it/s]\n"
     ]
    },
    {
     "name": "stdout",
     "output_type": "stream",
     "text": [
      "Train Loss: 0.5233, Train Acc: 0.7423, Val Acc: 0.7130, Test Acc: 0.7004\n",
      "Best Val Acc: 0.7170, Best Test Acc: 0.7013\n"
     ]
    },
    {
     "name": "stderr",
     "output_type": "stream",
     "text": [
      "Epoch: 13: 100%|██████████| 71/71 [00:00<00:00, 115.56it/s]\n"
     ]
    },
    {
     "name": "stdout",
     "output_type": "stream",
     "text": [
      "Train Loss: 0.5175, Train Acc: 0.7463, Val Acc: 0.7037, Test Acc: 0.6989\n",
      "Best Val Acc: 0.7170, Best Test Acc: 0.7013\n"
     ]
    },
    {
     "name": "stderr",
     "output_type": "stream",
     "text": [
      "Epoch: 14: 100%|██████████| 71/71 [00:00<00:00, 115.18it/s]\n"
     ]
    },
    {
     "name": "stdout",
     "output_type": "stream",
     "text": [
      "Train Loss: 0.5155, Train Acc: 0.7476, Val Acc: 0.7080, Test Acc: 0.6989\n",
      "Best Val Acc: 0.7170, Best Test Acc: 0.7013\n"
     ]
    },
    {
     "name": "stderr",
     "output_type": "stream",
     "text": [
      "Epoch: 15: 100%|██████████| 71/71 [00:00<00:00, 119.88it/s]\n"
     ]
    },
    {
     "name": "stdout",
     "output_type": "stream",
     "text": [
      "Train Loss: 0.5123, Train Acc: 0.7538, Val Acc: 0.7067, Test Acc: 0.7021\n",
      "Best Val Acc: 0.7170, Best Test Acc: 0.7013\n"
     ]
    },
    {
     "name": "stderr",
     "output_type": "stream",
     "text": [
      "Epoch: 1: 100%|██████████| 118/118 [00:00<00:00, 130.38it/s]\n"
     ]
    },
    {
     "name": "stdout",
     "output_type": "stream",
     "text": [
      "Train Loss: 0.6506, Train Acc: 0.6693, Val Acc: 0.6676, Test Acc: 0.6663\n",
      "Best Val Acc: 0.6676, Best Test Acc: 0.6663\n"
     ]
    },
    {
     "name": "stderr",
     "output_type": "stream",
     "text": [
      "Epoch: 2: 100%|██████████| 118/118 [00:01<00:00, 101.03it/s]\n"
     ]
    },
    {
     "name": "stdout",
     "output_type": "stream",
     "text": [
      "Train Loss: 0.5784, Train Acc: 0.7082, Val Acc: 0.7140, Test Acc: 0.7059\n",
      "Best Val Acc: 0.7140, Best Test Acc: 0.7059\n"
     ]
    },
    {
     "name": "stderr",
     "output_type": "stream",
     "text": [
      "Epoch: 3: 100%|██████████| 118/118 [00:01<00:00, 87.58it/s]\n"
     ]
    },
    {
     "name": "stdout",
     "output_type": "stream",
     "text": [
      "Train Loss: 0.5567, Train Acc: 0.7145, Val Acc: 0.7268, Test Acc: 0.7141\n",
      "Best Val Acc: 0.7268, Best Test Acc: 0.7141\n"
     ]
    },
    {
     "name": "stderr",
     "output_type": "stream",
     "text": [
      "Epoch: 4: 100%|██████████| 118/118 [00:01<00:00, 114.89it/s]\n"
     ]
    },
    {
     "name": "stdout",
     "output_type": "stream",
     "text": [
      "Train Loss: 0.5492, Train Acc: 0.7017, Val Acc: 0.7082, Test Acc: 0.7041\n",
      "Best Val Acc: 0.7268, Best Test Acc: 0.7141\n"
     ]
    },
    {
     "name": "stderr",
     "output_type": "stream",
     "text": [
      "Epoch: 5: 100%|██████████| 118/118 [00:00<00:00, 133.44it/s]\n"
     ]
    },
    {
     "name": "stdout",
     "output_type": "stream",
     "text": [
      "Train Loss: 0.5449, Train Acc: 0.7167, Val Acc: 0.7296, Test Acc: 0.7105\n",
      "Best Val Acc: 0.7296, Best Test Acc: 0.7105\n"
     ]
    },
    {
     "name": "stderr",
     "output_type": "stream",
     "text": [
      "Epoch: 6: 100%|██████████| 118/118 [00:00<00:00, 119.68it/s]\n"
     ]
    },
    {
     "name": "stdout",
     "output_type": "stream",
     "text": [
      "Train Loss: 0.5438, Train Acc: 0.7193, Val Acc: 0.7230, Test Acc: 0.7126\n",
      "Best Val Acc: 0.7296, Best Test Acc: 0.7105\n"
     ]
    },
    {
     "name": "stderr",
     "output_type": "stream",
     "text": [
      "Epoch: 7: 100%|██████████| 118/118 [00:01<00:00, 115.82it/s]\n"
     ]
    },
    {
     "name": "stdout",
     "output_type": "stream",
     "text": [
      "Train Loss: 0.5401, Train Acc: 0.7215, Val Acc: 0.7284, Test Acc: 0.7142\n",
      "Best Val Acc: 0.7296, Best Test Acc: 0.7105\n"
     ]
    },
    {
     "name": "stderr",
     "output_type": "stream",
     "text": [
      "Epoch: 8: 100%|██████████| 118/118 [00:01<00:00, 105.74it/s]\n"
     ]
    },
    {
     "name": "stdout",
     "output_type": "stream",
     "text": [
      "Train Loss: 0.5395, Train Acc: 0.7235, Val Acc: 0.7246, Test Acc: 0.7113\n",
      "Best Val Acc: 0.7296, Best Test Acc: 0.7105\n"
     ]
    },
    {
     "name": "stderr",
     "output_type": "stream",
     "text": [
      "Epoch: 9: 100%|██████████| 118/118 [00:00<00:00, 128.27it/s]\n"
     ]
    },
    {
     "name": "stdout",
     "output_type": "stream",
     "text": [
      "Train Loss: 0.5378, Train Acc: 0.7246, Val Acc: 0.7272, Test Acc: 0.7136\n",
      "Best Val Acc: 0.7296, Best Test Acc: 0.7105\n"
     ]
    },
    {
     "name": "stderr",
     "output_type": "stream",
     "text": [
      "Epoch: 10: 100%|██████████| 118/118 [00:01<00:00, 112.28it/s]\n"
     ]
    },
    {
     "name": "stdout",
     "output_type": "stream",
     "text": [
      "Train Loss: 0.5352, Train Acc: 0.7257, Val Acc: 0.7260, Test Acc: 0.7113\n",
      "Best Val Acc: 0.7296, Best Test Acc: 0.7105\n"
     ]
    },
    {
     "name": "stderr",
     "output_type": "stream",
     "text": [
      "Epoch: 11: 100%|██████████| 118/118 [00:01<00:00, 105.27it/s]\n"
     ]
    },
    {
     "name": "stdout",
     "output_type": "stream",
     "text": [
      "Train Loss: 0.5319, Train Acc: 0.7283, Val Acc: 0.7256, Test Acc: 0.7115\n",
      "Best Val Acc: 0.7296, Best Test Acc: 0.7105\n"
     ]
    },
    {
     "name": "stderr",
     "output_type": "stream",
     "text": [
      "Epoch: 12: 100%|██████████| 118/118 [00:00<00:00, 125.04it/s]\n"
     ]
    },
    {
     "name": "stdout",
     "output_type": "stream",
     "text": [
      "Train Loss: 0.5294, Train Acc: 0.7340, Val Acc: 0.7258, Test Acc: 0.7105\n",
      "Best Val Acc: 0.7296, Best Test Acc: 0.7105\n"
     ]
    },
    {
     "name": "stderr",
     "output_type": "stream",
     "text": [
      "Epoch: 13: 100%|██████████| 118/118 [00:01<00:00, 94.68it/s]\n"
     ]
    },
    {
     "name": "stdout",
     "output_type": "stream",
     "text": [
      "Train Loss: 0.5262, Train Acc: 0.7318, Val Acc: 0.7248, Test Acc: 0.7086\n",
      "Best Val Acc: 0.7296, Best Test Acc: 0.7105\n"
     ]
    },
    {
     "name": "stderr",
     "output_type": "stream",
     "text": [
      "Epoch: 14: 100%|██████████| 118/118 [00:01<00:00, 75.38it/s]\n"
     ]
    },
    {
     "name": "stdout",
     "output_type": "stream",
     "text": [
      "Train Loss: 0.5240, Train Acc: 0.7380, Val Acc: 0.7238, Test Acc: 0.7063\n",
      "Best Val Acc: 0.7296, Best Test Acc: 0.7105\n"
     ]
    },
    {
     "name": "stderr",
     "output_type": "stream",
     "text": [
      "Epoch: 15: 100%|██████████| 118/118 [00:01<00:00, 84.97it/s]\n"
     ]
    },
    {
     "name": "stdout",
     "output_type": "stream",
     "text": [
      "Train Loss: 0.5221, Train Acc: 0.7385, Val Acc: 0.7290, Test Acc: 0.7073\n",
      "Best Val Acc: 0.7296, Best Test Acc: 0.7105\n"
     ]
    },
    {
     "name": "stderr",
     "output_type": "stream",
     "text": [
      "Epoch: 1: 100%|██████████| 165/165 [00:01<00:00, 114.10it/s]\n"
     ]
    },
    {
     "name": "stdout",
     "output_type": "stream",
     "text": [
      "Train Loss: 0.6362, Train Acc: 0.7017, Val Acc: 0.7036, Test Acc: 0.7022\n",
      "Best Val Acc: 0.7036, Best Test Acc: 0.7022\n"
     ]
    },
    {
     "name": "stderr",
     "output_type": "stream",
     "text": [
      "Epoch: 2: 100%|██████████| 165/165 [00:01<00:00, 95.74it/s] \n"
     ]
    },
    {
     "name": "stdout",
     "output_type": "stream",
     "text": [
      "Train Loss: 0.5596, Train Acc: 0.7141, Val Acc: 0.7196, Test Acc: 0.7136\n",
      "Best Val Acc: 0.7196, Best Test Acc: 0.7136\n"
     ]
    },
    {
     "name": "stderr",
     "output_type": "stream",
     "text": [
      "Epoch: 3: 100%|██████████| 165/165 [00:01<00:00, 109.58it/s]\n"
     ]
    },
    {
     "name": "stdout",
     "output_type": "stream",
     "text": [
      "Train Loss: 0.5485, Train Acc: 0.7130, Val Acc: 0.7164, Test Acc: 0.7097\n",
      "Best Val Acc: 0.7196, Best Test Acc: 0.7136\n"
     ]
    },
    {
     "name": "stderr",
     "output_type": "stream",
     "text": [
      "Epoch: 4: 100%|██████████| 165/165 [00:01<00:00, 114.33it/s]\n"
     ]
    },
    {
     "name": "stdout",
     "output_type": "stream",
     "text": [
      "Train Loss: 0.5447, Train Acc: 0.7186, Val Acc: 0.7197, Test Acc: 0.7163\n",
      "Best Val Acc: 0.7197, Best Test Acc: 0.7163\n"
     ]
    },
    {
     "name": "stderr",
     "output_type": "stream",
     "text": [
      "Epoch: 5: 100%|██████████| 165/165 [00:01<00:00, 109.12it/s]\n"
     ]
    },
    {
     "name": "stdout",
     "output_type": "stream",
     "text": [
      "Train Loss: 0.5436, Train Acc: 0.7186, Val Acc: 0.7236, Test Acc: 0.7159\n",
      "Best Val Acc: 0.7236, Best Test Acc: 0.7159\n"
     ]
    },
    {
     "name": "stderr",
     "output_type": "stream",
     "text": [
      "Epoch: 6: 100%|██████████| 165/165 [00:01<00:00, 94.06it/s]\n"
     ]
    },
    {
     "name": "stdout",
     "output_type": "stream",
     "text": [
      "Train Loss: 0.5410, Train Acc: 0.7200, Val Acc: 0.7213, Test Acc: 0.7131\n",
      "Best Val Acc: 0.7236, Best Test Acc: 0.7159\n"
     ]
    },
    {
     "name": "stderr",
     "output_type": "stream",
     "text": [
      "Epoch: 7: 100%|██████████| 165/165 [00:01<00:00, 120.47it/s]\n"
     ]
    },
    {
     "name": "stdout",
     "output_type": "stream",
     "text": [
      "Train Loss: 0.5397, Train Acc: 0.7232, Val Acc: 0.7236, Test Acc: 0.7149\n",
      "Best Val Acc: 0.7236, Best Test Acc: 0.7159\n"
     ]
    },
    {
     "name": "stderr",
     "output_type": "stream",
     "text": [
      "Epoch: 8: 100%|██████████| 165/165 [00:01<00:00, 108.64it/s]\n"
     ]
    },
    {
     "name": "stdout",
     "output_type": "stream",
     "text": [
      "Train Loss: 0.5360, Train Acc: 0.7179, Val Acc: 0.7126, Test Acc: 0.7116\n",
      "Best Val Acc: 0.7236, Best Test Acc: 0.7159\n"
     ]
    },
    {
     "name": "stderr",
     "output_type": "stream",
     "text": [
      "Epoch: 9: 100%|██████████| 165/165 [00:01<00:00, 127.84it/s]\n"
     ]
    },
    {
     "name": "stdout",
     "output_type": "stream",
     "text": [
      "Train Loss: 0.5346, Train Acc: 0.7275, Val Acc: 0.7189, Test Acc: 0.7161\n",
      "Best Val Acc: 0.7236, Best Test Acc: 0.7159\n"
     ]
    },
    {
     "name": "stderr",
     "output_type": "stream",
     "text": [
      "Epoch: 10: 100%|██████████| 165/165 [00:02<00:00, 78.46it/s]\n"
     ]
    },
    {
     "name": "stdout",
     "output_type": "stream",
     "text": [
      "Train Loss: 0.5315, Train Acc: 0.7295, Val Acc: 0.7201, Test Acc: 0.7187\n",
      "Best Val Acc: 0.7236, Best Test Acc: 0.7159\n"
     ]
    },
    {
     "name": "stderr",
     "output_type": "stream",
     "text": [
      "Epoch: 11: 100%|██████████| 165/165 [00:01<00:00, 124.01it/s]\n"
     ]
    },
    {
     "name": "stdout",
     "output_type": "stream",
     "text": [
      "Train Loss: 0.5299, Train Acc: 0.7311, Val Acc: 0.7176, Test Acc: 0.7152\n",
      "Best Val Acc: 0.7236, Best Test Acc: 0.7159\n"
     ]
    },
    {
     "name": "stderr",
     "output_type": "stream",
     "text": [
      "Epoch: 12: 100%|██████████| 165/165 [00:01<00:00, 125.05it/s]\n"
     ]
    },
    {
     "name": "stdout",
     "output_type": "stream",
     "text": [
      "Train Loss: 0.5278, Train Acc: 0.7257, Val Acc: 0.7121, Test Acc: 0.7070\n",
      "Best Val Acc: 0.7236, Best Test Acc: 0.7159\n"
     ]
    },
    {
     "name": "stderr",
     "output_type": "stream",
     "text": [
      "Epoch: 13: 100%|██████████| 165/165 [00:01<00:00, 90.61it/s] \n"
     ]
    },
    {
     "name": "stdout",
     "output_type": "stream",
     "text": [
      "Train Loss: 0.5253, Train Acc: 0.7329, Val Acc: 0.7180, Test Acc: 0.7137\n",
      "Best Val Acc: 0.7236, Best Test Acc: 0.7159\n"
     ]
    },
    {
     "name": "stderr",
     "output_type": "stream",
     "text": [
      "Epoch: 14: 100%|██████████| 165/165 [00:01<00:00, 124.81it/s]\n"
     ]
    },
    {
     "name": "stdout",
     "output_type": "stream",
     "text": [
      "Train Loss: 0.5243, Train Acc: 0.7385, Val Acc: 0.7187, Test Acc: 0.7142\n",
      "Best Val Acc: 0.7236, Best Test Acc: 0.7159\n"
     ]
    },
    {
     "name": "stderr",
     "output_type": "stream",
     "text": [
      "Epoch: 15: 100%|██████████| 165/165 [00:01<00:00, 103.62it/s]\n"
     ]
    },
    {
     "name": "stdout",
     "output_type": "stream",
     "text": [
      "Train Loss: 0.5221, Train Acc: 0.7320, Val Acc: 0.7134, Test Acc: 0.7098\n",
      "Best Val Acc: 0.7236, Best Test Acc: 0.7159\n"
     ]
    }
   ],
   "source": [
    "from torch_frame import numerical, categorical, text_embedded, embedding\n",
    "\n",
    "data_sizes = [5000, 10000, 30000, 50000, 70000]\n",
    "resnet_results = []\n",
    "\n",
    "for size in data_sizes:\n",
    "    df = pd.read_csv(\"alzheimers_prediction_dataset.csv\")\n",
    "\n",
    "    # 데이터 사이즈별 추출 \n",
    "    df = df.sample(n = size, random_state=42)\n",
    "\n",
    "    ## 칼럼 별 Dtype 지정 \n",
    "    col_to_stype={\"Country\" : categorical,\n",
    "                \"Age\" : numerical,\n",
    "                \"Gender\" : categorical,\n",
    "                \"Education Level\" : numerical,\n",
    "                \"BMI\" : numerical,\n",
    "                \"Physical Activity Level\" : categorical,\n",
    "                \"Smoking Status\" : categorical,\n",
    "                \"Alcohol Consumption\" : categorical,\n",
    "                \"Diabetes\" : categorical,\n",
    "                \"Hypertension\" : categorical,\n",
    "                \"Cholesterol Level\" : categorical,\n",
    "                \"Family History of Alzheimer’s\" : categorical,\n",
    "                \"Cognitive Test Score\" : numerical,\n",
    "                \"Depression Level\" : categorical,\n",
    "                \"Sleep Quality\" : categorical,\n",
    "                \"Dietary Habits\" : categorical,\n",
    "                \"Air Pollution Exposure\" : categorical,\n",
    "                \"Employment Status\" : categorical,\n",
    "                \"Marital Status\" : categorical,\n",
    "                \"Genetic Risk Factor (APOE-ε4 allele)\" : categorical,\n",
    "                \"Social Engagement Level\" : categorical,\n",
    "                \"Income Level\" : categorical,\n",
    "                \"Stress Levels\" : categorical,\n",
    "                \"Urban vs Rural Living\" : categorical,\n",
    "                \"Alzheimer’s Diagnosis\" : categorical\n",
    "                }\n",
    "\n",
    "    dataset = Dataset(df = df, \n",
    "                    col_to_stype = col_to_stype, \n",
    "                    target_col = \"Alzheimer’s Diagnosis\")\n",
    "\n",
    "    dataset.materialize()\n",
    "    \n",
    "    # 여기에 데이터 셋을 나누고 모델을 학습하는 코드 추가\n",
    "    train_dataset, val_dataset, test_dataset = dataset[:0.6], dataset[0.6:0.7], dataset[0.7:]\n",
    "    \n",
    "    train_tensor_frame = train_dataset.tensor_frame\n",
    "    val_tensor_frame = val_dataset.tensor_frame\n",
    "    test_tensor_frame = test_dataset.tensor_frame\n",
    "    train_loader = DataLoader(train_tensor_frame, batch_size=args.batch_size,\n",
    "                          shuffle=True)\n",
    "    val_loader = DataLoader(val_tensor_frame, batch_size=args.batch_size)\n",
    "    test_loader = DataLoader(test_tensor_frame, batch_size=args.batch_size)\n",
    "\n",
    "    if args.numerical_encoder_type == 'linear':\n",
    "        numerical_encoder = LinearEncoder()\n",
    "    elif args.numerical_encoder_type == 'linearbucket':\n",
    "        numerical_encoder = LinearBucketEncoder()\n",
    "    elif args.numerical_encoder_type == 'linearperiodic':\n",
    "        numerical_encoder = LinearPeriodicEncoder()\n",
    "    else:\n",
    "        raise ValueError(\n",
    "            f'Unsupported encoder type: {args.numerical_encoder_type}')\n",
    "\n",
    "    stype_encoder_dict = {\n",
    "        stype.categorical: EmbeddingEncoder(),\n",
    "        stype.numerical: numerical_encoder,\n",
    "    }\n",
    "    \n",
    "    if is_classification:\n",
    "        #output_channels = dataset.num_classes    ->   contains StatType.COUNT을 포함하지 않아서 오류(?)\n",
    "        output_channels = 2 # 그냥 수동으로 설정.,,,,   => 분류 칼럼 unique 개수로 설정 \n",
    "    else:\n",
    "        output_channels = 1\n",
    "    \n",
    "\n",
    "    if args.model_type == 'fttransformer':\n",
    "        model = FTTransformer(\n",
    "            channels=args.channels,\n",
    "            out_channels=output_channels,\n",
    "            num_layers=args.num_layers,\n",
    "            col_stats=dataset.col_stats,    # TensorFrame이 col_stats를 안받아서 transor frame으로 바꾸기 전으로 받아와야 함 \n",
    "            col_names_dict=train_tensor_frame.col_names_dict,\n",
    "            stype_encoder_dict=stype_encoder_dict,\n",
    "        ).to(device)\n",
    "\n",
    "    elif args.model_type == 'resnet':\n",
    "        model = ResNet(\n",
    "            channels=args.channels,\n",
    "            out_channels=output_channels,\n",
    "            num_layers=args.num_layers,\n",
    "            col_stats=dataset.col_stats,\n",
    "            col_names_dict=train_tensor_frame.col_names_dict,\n",
    "        ).to(device)\n",
    "    else:\n",
    "        raise ValueError(f'Unsupported model type: {args.model_type}')\n",
    "\n",
    "    model = torch.compile(model, dynamic=True) if args.compile else model\n",
    "    optimizer = torch.optim.AdamW(model.parameters(), lr=args.lr)\n",
    "\n",
    "    \n",
    "    # 훈련 및 테스트\n",
    "    if is_classification:\n",
    "        metric = 'Acc'\n",
    "        best_val_metric = 0\n",
    "        best_test_metric = 0\n",
    "    else:\n",
    "        metric = 'RMSE'\n",
    "        best_val_metric = float('inf')\n",
    "        best_test_metric = float('inf')\n",
    "\n",
    "    for epoch in range(1, args.epochs + 1):\n",
    "        train_loss = train(epoch)\n",
    "        train_metric = test(train_loader)\n",
    "        val_metric = test(val_loader)\n",
    "        test_metric = test(test_loader)\n",
    "\n",
    "        if is_classification and val_metric > best_val_metric:\n",
    "            best_val_metric = val_metric\n",
    "            best_test_metric = test_metric\n",
    "        elif not is_classification and val_metric < best_val_metric:\n",
    "            best_val_metric = val_metric\n",
    "            best_test_metric = test_metric\n",
    "\n",
    "        print(f'Train Loss: {train_loss:.4f}, Train {metric}: {train_metric:.4f}, '\n",
    "                f'Val {metric}: {val_metric:.4f}, Test {metric}: {test_metric:.4f}')\n",
    "\n",
    "        print(f'Best Val {metric}: {best_val_metric:.4f}, '\n",
    "                f'Best Test {metric}: {best_test_metric:.4f}')\n",
    "        \n",
    "    resnet_results.append(best_test_metric)\n",
    "    \n"
   ]
  },
  {
   "cell_type": "code",
   "execution_count": 7,
   "metadata": {},
   "outputs": [
    {
     "data": {
      "image/png": "[encoded data removed]",
      "text/plain": [
       "<Figure size 1000x600 with 1 Axes>"
      ]
     },
     "metadata": {},
     "output_type": "display_data"
    }
   ],
   "source": [
    "# ✅ 그래프 그리기\n",
    "plt.figure(figsize=(10, 6))\n",
    "\n",
    "plt.plot(data_sizes, resnet_results, marker=\"o\", linestyle=\"-\", label=\"ResNet Accuracy\")\n",
    "\n",
    "\n",
    "#plt.xscale(\"log\")  # 로그 스케일 적용 (샘플 크기가 큰 차이가 나기 때문)\n",
    "plt.xlabel(\"Sample Size\")\n",
    "plt.ylabel(\"Performance Score\")\n",
    "plt.title(\"Sample Size vs Model Performance\")\n",
    "plt.legend()\n",
    "plt.grid(True)\n",
    "plt.show()"
   ]
  },
  {
   "cell_type": "markdown",
   "metadata": {},
   "source": [
    "### FT-T"
   ]
  },
  {
   "cell_type": "code",
   "execution_count": 8,
   "metadata": {},
   "outputs": [
    {
     "data": {
      "text/plain": [
       "_StoreTrueAction(option_strings=['--compile'], dest='compile', nargs=0, const=True, default=False, type=None, choices=None, required=False, help=None, metavar=None)"
      ]
     },
     "execution_count": 8,
     "metadata": {},
     "output_type": "execute_result"
    }
   ],
   "source": [
    "parser = argparse.ArgumentParser()\n",
    "parser.add_argument('--dataset', type=str, default='adult')\n",
    "parser.add_argument('--numerical_encoder_type', type=str, default='linear',\n",
    "                    choices=['linear', 'linearbucket', 'linearperiodic'])\n",
    "parser.add_argument('--model_type', type=str, default='fttransformer',\n",
    "                    choices=['fttransformer', 'resnet'])\n",
    "parser.add_argument('--channels', type=int, default=256)\n",
    "parser.add_argument('--num_layers', type=int, default=4)\n",
    "parser.add_argument('--batch_size', type=int, default=512)\n",
    "parser.add_argument('--lr', type=float, default=0.0001)\n",
    "parser.add_argument('--epochs', type=int, default=100)\n",
    "parser.add_argument('--seed', type=int, default=0)\n",
    "parser.add_argument('--compile', action='store_true')"
   ]
  },
  {
   "cell_type": "code",
   "execution_count": 9,
   "metadata": {},
   "outputs": [],
   "source": [
    "# Jupyter에서 실행될 때는 sys.argv를 조정\n",
    "args = parser.parse_args([\n",
    "    #'--dataset', 'adult',\n",
    "    '--numerical_encoder_type', 'linear',\n",
    "    '--model_type', 'fttransformer',       # fttransformer : FT-T / resnet : ResNet\n",
    "    '--channels', '256',\n",
    "    '--num_layers', '4',\n",
    "    '--batch_size', '256',  # 데이터를 256개씩 한번에 \n",
    "    '--lr', '0.0001',\n",
    "    '--epochs', '15',\n",
    "    '--seed', '0'\n",
    "])"
   ]
  },
  {
   "cell_type": "code",
   "execution_count": 10,
   "metadata": {},
   "outputs": [],
   "source": [
    "def train(epoch: int) -> float:\n",
    "    model.train()\n",
    "    loss_accum = total_count = 0\n",
    "\n",
    "    for tf in tqdm(train_loader, desc=f'Epoch: {epoch}'):\n",
    "        tf = tf.to(device)\n",
    "        pred = model(tf)\n",
    "        if is_classification:\n",
    "            loss = F.cross_entropy(pred, tf.y.long())\n",
    "        else:\n",
    "            loss = F.mse_loss(pred.view(-1), tf.y.view(-1))\n",
    "        optimizer.zero_grad()\n",
    "        loss.backward()\n",
    "        loss_accum += float(loss) * len(tf.y)\n",
    "        total_count += len(tf.y)\n",
    "        optimizer.step()\n",
    "    return loss_accum / total_count\n",
    "\n",
    "\n",
    "@torch.no_grad()\n",
    "def test(loader: DataLoader) -> float:\n",
    "    model.eval()\n",
    "    accum = total_count = 0\n",
    "\n",
    "    for tf in loader:\n",
    "        tf = tf.to(device)\n",
    "        pred = model(tf)\n",
    "        if is_classification:\n",
    "            pred_class = pred.argmax(dim=-1)\n",
    "            accum += float((tf.y == pred_class).sum())\n",
    "        else:\n",
    "            accum += float(\n",
    "                F.mse_loss(pred.view(-1), tf.y.view(-1), reduction='sum'))\n",
    "        total_count += len(tf.y)\n",
    "\n",
    "    if is_classification:\n",
    "        accuracy = accum / total_count\n",
    "        return accuracy\n",
    "    else:\n",
    "        rmse = (accum / total_count)**0.5\n",
    "        return rmse\n"
   ]
  },
  {
   "cell_type": "code",
   "execution_count": 12,
   "metadata": {},
   "outputs": [
    {
     "name": "stderr",
     "output_type": "stream",
     "text": [
      "Epoch: 1: 100%|██████████| 12/12 [00:00<00:00, 55.41it/s]\n"
     ]
    },
    {
     "name": "stdout",
     "output_type": "stream",
     "text": [
      "Train Loss: 0.6914, Train Acc: 0.5990, Val Acc: 0.5820, Test Acc: 0.5987\n",
      "Best Val Acc: 0.5820, Best Test Acc: 0.5987\n"
     ]
    },
    {
     "name": "stderr",
     "output_type": "stream",
     "text": [
      "Epoch: 2: 100%|██████████| 12/12 [00:00<00:00, 62.66it/s]\n"
     ]
    },
    {
     "name": "stdout",
     "output_type": "stream",
     "text": [
      "Train Loss: 0.6749, Train Acc: 0.6150, Val Acc: 0.5800, Test Acc: 0.6160\n",
      "Best Val Acc: 0.5820, Best Test Acc: 0.5987\n"
     ]
    },
    {
     "name": "stderr",
     "output_type": "stream",
     "text": [
      "Epoch: 3: 100%|██████████| 12/12 [00:00<00:00, 35.15it/s]\n"
     ]
    },
    {
     "name": "stdout",
     "output_type": "stream",
     "text": [
      "Train Loss: 0.6634, Train Acc: 0.6287, Val Acc: 0.6080, Test Acc: 0.6340\n",
      "Best Val Acc: 0.6080, Best Test Acc: 0.6340\n"
     ]
    },
    {
     "name": "stderr",
     "output_type": "stream",
     "text": [
      "Epoch: 4: 100%|██████████| 12/12 [00:00<00:00, 46.40it/s]\n"
     ]
    },
    {
     "name": "stdout",
     "output_type": "stream",
     "text": [
      "Train Loss: 0.6611, Train Acc: 0.6377, Val Acc: 0.6260, Test Acc: 0.6347\n",
      "Best Val Acc: 0.6260, Best Test Acc: 0.6347\n"
     ]
    },
    {
     "name": "stderr",
     "output_type": "stream",
     "text": [
      "Epoch: 5: 100%|██████████| 12/12 [00:00<00:00, 53.14it/s]\n"
     ]
    },
    {
     "name": "stdout",
     "output_type": "stream",
     "text": [
      "Train Loss: 0.6585, Train Acc: 0.6457, Val Acc: 0.6300, Test Acc: 0.6300\n",
      "Best Val Acc: 0.6300, Best Test Acc: 0.6300\n"
     ]
    },
    {
     "name": "stderr",
     "output_type": "stream",
     "text": [
      "Epoch: 6: 100%|██████████| 12/12 [00:00<00:00, 49.51it/s]\n"
     ]
    },
    {
     "name": "stdout",
     "output_type": "stream",
     "text": [
      "Train Loss: 0.6560, Train Acc: 0.6460, Val Acc: 0.6400, Test Acc: 0.6300\n",
      "Best Val Acc: 0.6400, Best Test Acc: 0.6300\n"
     ]
    },
    {
     "name": "stderr",
     "output_type": "stream",
     "text": [
      "Epoch: 7: 100%|██████████| 12/12 [00:00<00:00, 34.98it/s]\n"
     ]
    },
    {
     "name": "stdout",
     "output_type": "stream",
     "text": [
      "Train Loss: 0.6459, Train Acc: 0.6433, Val Acc: 0.6280, Test Acc: 0.6360\n",
      "Best Val Acc: 0.6400, Best Test Acc: 0.6300\n"
     ]
    },
    {
     "name": "stderr",
     "output_type": "stream",
     "text": [
      "Epoch: 8: 100%|██████████| 12/12 [00:00<00:00, 49.31it/s]\n"
     ]
    },
    {
     "name": "stdout",
     "output_type": "stream",
     "text": [
      "Train Loss: 0.6461, Train Acc: 0.6500, Val Acc: 0.6420, Test Acc: 0.6340\n",
      "Best Val Acc: 0.6420, Best Test Acc: 0.6340\n"
     ]
    },
    {
     "name": "stderr",
     "output_type": "stream",
     "text": [
      "Epoch: 9: 100%|██████████| 12/12 [00:00<00:00, 60.90it/s]\n"
     ]
    },
    {
     "name": "stdout",
     "output_type": "stream",
     "text": [
      "Train Loss: 0.6438, Train Acc: 0.6577, Val Acc: 0.6420, Test Acc: 0.6333\n",
      "Best Val Acc: 0.6420, Best Test Acc: 0.6340\n"
     ]
    },
    {
     "name": "stderr",
     "output_type": "stream",
     "text": [
      "Epoch: 10: 100%|██████████| 12/12 [00:00<00:00, 48.15it/s]\n"
     ]
    },
    {
     "name": "stdout",
     "output_type": "stream",
     "text": [
      "Train Loss: 0.6403, Train Acc: 0.6490, Val Acc: 0.6380, Test Acc: 0.6253\n",
      "Best Val Acc: 0.6420, Best Test Acc: 0.6340\n"
     ]
    },
    {
     "name": "stderr",
     "output_type": "stream",
     "text": [
      "Epoch: 11: 100%|██████████| 12/12 [00:00<00:00, 58.33it/s]\n"
     ]
    },
    {
     "name": "stdout",
     "output_type": "stream",
     "text": [
      "Train Loss: 0.6358, Train Acc: 0.6630, Val Acc: 0.6380, Test Acc: 0.6420\n",
      "Best Val Acc: 0.6420, Best Test Acc: 0.6340\n"
     ]
    },
    {
     "name": "stderr",
     "output_type": "stream",
     "text": [
      "Epoch: 12: 100%|██████████| 12/12 [00:00<00:00, 49.87it/s]\n"
     ]
    },
    {
     "name": "stdout",
     "output_type": "stream",
     "text": [
      "Train Loss: 0.6348, Train Acc: 0.6673, Val Acc: 0.6340, Test Acc: 0.6467\n",
      "Best Val Acc: 0.6420, Best Test Acc: 0.6340\n"
     ]
    },
    {
     "name": "stderr",
     "output_type": "stream",
     "text": [
      "Epoch: 13: 100%|██████████| 12/12 [00:00<00:00, 57.85it/s]\n"
     ]
    },
    {
     "name": "stdout",
     "output_type": "stream",
     "text": [
      "Train Loss: 0.6336, Train Acc: 0.6597, Val Acc: 0.6380, Test Acc: 0.6307\n",
      "Best Val Acc: 0.6420, Best Test Acc: 0.6340\n"
     ]
    },
    {
     "name": "stderr",
     "output_type": "stream",
     "text": [
      "Epoch: 14: 100%|██████████| 12/12 [00:00<00:00, 56.39it/s]\n"
     ]
    },
    {
     "name": "stdout",
     "output_type": "stream",
     "text": [
      "Train Loss: 0.6302, Train Acc: 0.6730, Val Acc: 0.6460, Test Acc: 0.6473\n",
      "Best Val Acc: 0.6460, Best Test Acc: 0.6473\n"
     ]
    },
    {
     "name": "stderr",
     "output_type": "stream",
     "text": [
      "Epoch: 15: 100%|██████████| 12/12 [00:00<00:00, 43.29it/s]\n"
     ]
    },
    {
     "name": "stdout",
     "output_type": "stream",
     "text": [
      "Train Loss: 0.6235, Train Acc: 0.6763, Val Acc: 0.6440, Test Acc: 0.6407\n",
      "Best Val Acc: 0.6460, Best Test Acc: 0.6473\n"
     ]
    },
    {
     "name": "stderr",
     "output_type": "stream",
     "text": [
      "Epoch: 1: 100%|██████████| 24/24 [00:00<00:00, 51.73it/s]\n"
     ]
    },
    {
     "name": "stdout",
     "output_type": "stream",
     "text": [
      "Train Loss: 0.6926, Train Acc: 0.6147, Val Acc: 0.6260, Test Acc: 0.6273\n",
      "Best Val Acc: 0.6260, Best Test Acc: 0.6273\n"
     ]
    },
    {
     "name": "stderr",
     "output_type": "stream",
     "text": [
      "Epoch: 2: 100%|██████████| 24/24 [00:00<00:00, 43.69it/s]\n"
     ]
    },
    {
     "name": "stdout",
     "output_type": "stream",
     "text": [
      "Train Loss: 0.6699, Train Acc: 0.6250, Val Acc: 0.6280, Test Acc: 0.6163\n",
      "Best Val Acc: 0.6280, Best Test Acc: 0.6163\n"
     ]
    },
    {
     "name": "stderr",
     "output_type": "stream",
     "text": [
      "Epoch: 3: 100%|██████████| 24/24 [00:00<00:00, 47.65it/s]\n"
     ]
    },
    {
     "name": "stdout",
     "output_type": "stream",
     "text": [
      "Train Loss: 0.6620, Train Acc: 0.6340, Val Acc: 0.6330, Test Acc: 0.6287\n",
      "Best Val Acc: 0.6330, Best Test Acc: 0.6287\n"
     ]
    },
    {
     "name": "stderr",
     "output_type": "stream",
     "text": [
      "Epoch: 4: 100%|██████████| 24/24 [00:00<00:00, 48.36it/s]\n"
     ]
    },
    {
     "name": "stdout",
     "output_type": "stream",
     "text": [
      "Train Loss: 0.6600, Train Acc: 0.6408, Val Acc: 0.6420, Test Acc: 0.6387\n",
      "Best Val Acc: 0.6420, Best Test Acc: 0.6387\n"
     ]
    },
    {
     "name": "stderr",
     "output_type": "stream",
     "text": [
      "Epoch: 5: 100%|██████████| 24/24 [00:00<00:00, 52.50it/s]\n"
     ]
    },
    {
     "name": "stdout",
     "output_type": "stream",
     "text": [
      "Train Loss: 0.6466, Train Acc: 0.6488, Val Acc: 0.6510, Test Acc: 0.6377\n",
      "Best Val Acc: 0.6510, Best Test Acc: 0.6377\n"
     ]
    },
    {
     "name": "stderr",
     "output_type": "stream",
     "text": [
      "Epoch: 6: 100%|██████████| 24/24 [00:00<00:00, 52.92it/s]\n"
     ]
    },
    {
     "name": "stdout",
     "output_type": "stream",
     "text": [
      "Train Loss: 0.6429, Train Acc: 0.6435, Val Acc: 0.6350, Test Acc: 0.6357\n",
      "Best Val Acc: 0.6510, Best Test Acc: 0.6377\n"
     ]
    },
    {
     "name": "stderr",
     "output_type": "stream",
     "text": [
      "Epoch: 7: 100%|██████████| 24/24 [00:00<00:00, 49.36it/s]\n"
     ]
    },
    {
     "name": "stdout",
     "output_type": "stream",
     "text": [
      "Train Loss: 0.6426, Train Acc: 0.6538, Val Acc: 0.6450, Test Acc: 0.6457\n",
      "Best Val Acc: 0.6510, Best Test Acc: 0.6377\n"
     ]
    },
    {
     "name": "stderr",
     "output_type": "stream",
     "text": [
      "Epoch: 8: 100%|██████████| 24/24 [00:00<00:00, 50.94it/s]\n"
     ]
    },
    {
     "name": "stdout",
     "output_type": "stream",
     "text": [
      "Train Loss: 0.6335, Train Acc: 0.6622, Val Acc: 0.6680, Test Acc: 0.6530\n",
      "Best Val Acc: 0.6680, Best Test Acc: 0.6530\n"
     ]
    },
    {
     "name": "stderr",
     "output_type": "stream",
     "text": [
      "Epoch: 9: 100%|██████████| 24/24 [00:00<00:00, 51.16it/s]\n"
     ]
    },
    {
     "name": "stdout",
     "output_type": "stream",
     "text": [
      "Train Loss: 0.6216, Train Acc: 0.6718, Val Acc: 0.6510, Test Acc: 0.6613\n",
      "Best Val Acc: 0.6680, Best Test Acc: 0.6530\n"
     ]
    },
    {
     "name": "stderr",
     "output_type": "stream",
     "text": [
      "Epoch: 10: 100%|██████████| 24/24 [00:00<00:00, 49.83it/s]\n"
     ]
    },
    {
     "name": "stdout",
     "output_type": "stream",
     "text": [
      "Train Loss: 0.6100, Train Acc: 0.6818, Val Acc: 0.6800, Test Acc: 0.6813\n",
      "Best Val Acc: 0.6800, Best Test Acc: 0.6813\n"
     ]
    },
    {
     "name": "stderr",
     "output_type": "stream",
     "text": [
      "Epoch: 11: 100%|██████████| 24/24 [00:00<00:00, 54.91it/s]\n"
     ]
    },
    {
     "name": "stdout",
     "output_type": "stream",
     "text": [
      "Train Loss: 0.5922, Train Acc: 0.7002, Val Acc: 0.6940, Test Acc: 0.6937\n",
      "Best Val Acc: 0.6940, Best Test Acc: 0.6937\n"
     ]
    },
    {
     "name": "stderr",
     "output_type": "stream",
     "text": [
      "Epoch: 12: 100%|██████████| 24/24 [00:00<00:00, 60.47it/s]\n"
     ]
    },
    {
     "name": "stdout",
     "output_type": "stream",
     "text": [
      "Train Loss: 0.5661, Train Acc: 0.7247, Val Acc: 0.6980, Test Acc: 0.7113\n",
      "Best Val Acc: 0.6980, Best Test Acc: 0.7113\n"
     ]
    },
    {
     "name": "stderr",
     "output_type": "stream",
     "text": [
      "Epoch: 13: 100%|██████████| 24/24 [00:00<00:00, 49.22it/s]\n"
     ]
    },
    {
     "name": "stdout",
     "output_type": "stream",
     "text": [
      "Train Loss: 0.5539, Train Acc: 0.7382, Val Acc: 0.6960, Test Acc: 0.7220\n",
      "Best Val Acc: 0.6980, Best Test Acc: 0.7113\n"
     ]
    },
    {
     "name": "stderr",
     "output_type": "stream",
     "text": [
      "Epoch: 14: 100%|██████████| 24/24 [00:00<00:00, 45.33it/s]\n"
     ]
    },
    {
     "name": "stdout",
     "output_type": "stream",
     "text": [
      "Train Loss: 0.5533, Train Acc: 0.7220, Val Acc: 0.7040, Test Acc: 0.7163\n",
      "Best Val Acc: 0.7040, Best Test Acc: 0.7163\n"
     ]
    },
    {
     "name": "stderr",
     "output_type": "stream",
     "text": [
      "Epoch: 15: 100%|██████████| 24/24 [00:00<00:00, 46.05it/s]\n"
     ]
    },
    {
     "name": "stdout",
     "output_type": "stream",
     "text": [
      "Train Loss: 0.5443, Train Acc: 0.7362, Val Acc: 0.7040, Test Acc: 0.7193\n",
      "Best Val Acc: 0.7040, Best Test Acc: 0.7163\n"
     ]
    },
    {
     "name": "stderr",
     "output_type": "stream",
     "text": [
      "Epoch: 1: 100%|██████████| 71/71 [00:01<00:00, 54.23it/s]\n"
     ]
    },
    {
     "name": "stdout",
     "output_type": "stream",
     "text": [
      "Train Loss: 0.6714, Train Acc: 0.6325, Val Acc: 0.6137, Test Acc: 0.6184\n",
      "Best Val Acc: 0.6137, Best Test Acc: 0.6184\n"
     ]
    },
    {
     "name": "stderr",
     "output_type": "stream",
     "text": [
      "Epoch: 2: 100%|██████████| 71/71 [00:01<00:00, 39.70it/s]\n"
     ]
    },
    {
     "name": "stdout",
     "output_type": "stream",
     "text": [
      "Train Loss: 0.6507, Train Acc: 0.6393, Val Acc: 0.6280, Test Acc: 0.6237\n",
      "Best Val Acc: 0.6280, Best Test Acc: 0.6237\n"
     ]
    },
    {
     "name": "stderr",
     "output_type": "stream",
     "text": [
      "Epoch: 3: 100%|██████████| 71/71 [00:01<00:00, 35.53it/s]\n"
     ]
    },
    {
     "name": "stdout",
     "output_type": "stream",
     "text": [
      "Train Loss: 0.6390, Train Acc: 0.6634, Val Acc: 0.6510, Test Acc: 0.6450\n",
      "Best Val Acc: 0.6510, Best Test Acc: 0.6450\n"
     ]
    },
    {
     "name": "stderr",
     "output_type": "stream",
     "text": [
      "Epoch: 4: 100%|██████████| 71/71 [00:01<00:00, 53.79it/s]\n"
     ]
    },
    {
     "name": "stdout",
     "output_type": "stream",
     "text": [
      "Train Loss: 0.5987, Train Acc: 0.7217, Val Acc: 0.7257, Test Acc: 0.7054\n",
      "Best Val Acc: 0.7257, Best Test Acc: 0.7054\n"
     ]
    },
    {
     "name": "stderr",
     "output_type": "stream",
     "text": [
      "Epoch: 5: 100%|██████████| 71/71 [00:01<00:00, 54.91it/s]\n"
     ]
    },
    {
     "name": "stdout",
     "output_type": "stream",
     "text": [
      "Train Loss: 0.5537, Train Acc: 0.7222, Val Acc: 0.7230, Test Acc: 0.7074\n",
      "Best Val Acc: 0.7257, Best Test Acc: 0.7054\n"
     ]
    },
    {
     "name": "stderr",
     "output_type": "stream",
     "text": [
      "Epoch: 6: 100%|██████████| 71/71 [00:01<00:00, 55.46it/s]\n"
     ]
    },
    {
     "name": "stdout",
     "output_type": "stream",
     "text": [
      "Train Loss: 0.5521, Train Acc: 0.7252, Val Acc: 0.7297, Test Acc: 0.7081\n",
      "Best Val Acc: 0.7297, Best Test Acc: 0.7081\n"
     ]
    },
    {
     "name": "stderr",
     "output_type": "stream",
     "text": [
      "Epoch: 7: 100%|██████████| 71/71 [00:01<00:00, 42.17it/s]\n"
     ]
    },
    {
     "name": "stdout",
     "output_type": "stream",
     "text": [
      "Train Loss: 0.5430, Train Acc: 0.7281, Val Acc: 0.7287, Test Acc: 0.7098\n",
      "Best Val Acc: 0.7297, Best Test Acc: 0.7081\n"
     ]
    },
    {
     "name": "stderr",
     "output_type": "stream",
     "text": [
      "Epoch: 8: 100%|██████████| 71/71 [00:01<00:00, 51.01it/s]\n"
     ]
    },
    {
     "name": "stdout",
     "output_type": "stream",
     "text": [
      "Train Loss: 0.5424, Train Acc: 0.7259, Val Acc: 0.7293, Test Acc: 0.7117\n",
      "Best Val Acc: 0.7297, Best Test Acc: 0.7081\n"
     ]
    },
    {
     "name": "stderr",
     "output_type": "stream",
     "text": [
      "Epoch: 9: 100%|██████████| 71/71 [00:01<00:00, 44.23it/s]\n"
     ]
    },
    {
     "name": "stdout",
     "output_type": "stream",
     "text": [
      "Train Loss: 0.5389, Train Acc: 0.7282, Val Acc: 0.7250, Test Acc: 0.7108\n",
      "Best Val Acc: 0.7297, Best Test Acc: 0.7081\n"
     ]
    },
    {
     "name": "stderr",
     "output_type": "stream",
     "text": [
      "Epoch: 10: 100%|██████████| 71/71 [00:01<00:00, 44.59it/s]\n"
     ]
    },
    {
     "name": "stdout",
     "output_type": "stream",
     "text": [
      "Train Loss: 0.5363, Train Acc: 0.7292, Val Acc: 0.7253, Test Acc: 0.7160\n",
      "Best Val Acc: 0.7297, Best Test Acc: 0.7081\n"
     ]
    },
    {
     "name": "stderr",
     "output_type": "stream",
     "text": [
      "Epoch: 11: 100%|██████████| 71/71 [00:01<00:00, 55.13it/s]\n"
     ]
    },
    {
     "name": "stdout",
     "output_type": "stream",
     "text": [
      "Train Loss: 0.5372, Train Acc: 0.7283, Val Acc: 0.7323, Test Acc: 0.7127\n",
      "Best Val Acc: 0.7323, Best Test Acc: 0.7127\n"
     ]
    },
    {
     "name": "stderr",
     "output_type": "stream",
     "text": [
      "Epoch: 12: 100%|██████████| 71/71 [00:01<00:00, 44.13it/s]\n"
     ]
    },
    {
     "name": "stdout",
     "output_type": "stream",
     "text": [
      "Train Loss: 0.5351, Train Acc: 0.7316, Val Acc: 0.7320, Test Acc: 0.7121\n",
      "Best Val Acc: 0.7323, Best Test Acc: 0.7127\n"
     ]
    },
    {
     "name": "stderr",
     "output_type": "stream",
     "text": [
      "Epoch: 13: 100%|██████████| 71/71 [00:01<00:00, 50.67it/s]\n"
     ]
    },
    {
     "name": "stdout",
     "output_type": "stream",
     "text": [
      "Train Loss: 0.5330, Train Acc: 0.7302, Val Acc: 0.7273, Test Acc: 0.7142\n",
      "Best Val Acc: 0.7323, Best Test Acc: 0.7127\n"
     ]
    },
    {
     "name": "stderr",
     "output_type": "stream",
     "text": [
      "Epoch: 14: 100%|██████████| 71/71 [00:01<00:00, 40.46it/s]\n"
     ]
    },
    {
     "name": "stdout",
     "output_type": "stream",
     "text": [
      "Train Loss: 0.5331, Train Acc: 0.7313, Val Acc: 0.7263, Test Acc: 0.7134\n",
      "Best Val Acc: 0.7323, Best Test Acc: 0.7127\n"
     ]
    },
    {
     "name": "stderr",
     "output_type": "stream",
     "text": [
      "Epoch: 15: 100%|██████████| 71/71 [00:01<00:00, 52.11it/s]\n"
     ]
    },
    {
     "name": "stdout",
     "output_type": "stream",
     "text": [
      "Train Loss: 0.5322, Train Acc: 0.7269, Val Acc: 0.7200, Test Acc: 0.7099\n",
      "Best Val Acc: 0.7323, Best Test Acc: 0.7127\n"
     ]
    },
    {
     "name": "stderr",
     "output_type": "stream",
     "text": [
      "Epoch: 1: 100%|██████████| 118/118 [00:02<00:00, 48.69it/s]\n"
     ]
    },
    {
     "name": "stdout",
     "output_type": "stream",
     "text": [
      "Train Loss: 0.6683, Train Acc: 0.6357, Val Acc: 0.6308, Test Acc: 0.6390\n",
      "Best Val Acc: 0.6308, Best Test Acc: 0.6390\n"
     ]
    },
    {
     "name": "stderr",
     "output_type": "stream",
     "text": [
      "Epoch: 2: 100%|██████████| 118/118 [00:02<00:00, 50.89it/s]\n"
     ]
    },
    {
     "name": "stdout",
     "output_type": "stream",
     "text": [
      "Train Loss: 0.6423, Train Acc: 0.6588, Val Acc: 0.6634, Test Acc: 0.6605\n",
      "Best Val Acc: 0.6634, Best Test Acc: 0.6605\n"
     ]
    },
    {
     "name": "stderr",
     "output_type": "stream",
     "text": [
      "Epoch: 3: 100%|██████████| 118/118 [00:02<00:00, 51.91it/s]\n"
     ]
    },
    {
     "name": "stdout",
     "output_type": "stream",
     "text": [
      "Train Loss: 0.5850, Train Acc: 0.7184, Val Acc: 0.7358, Test Acc: 0.7179\n",
      "Best Val Acc: 0.7358, Best Test Acc: 0.7179\n"
     ]
    },
    {
     "name": "stderr",
     "output_type": "stream",
     "text": [
      "Epoch: 4: 100%|██████████| 118/118 [00:02<00:00, 53.67it/s]\n"
     ]
    },
    {
     "name": "stdout",
     "output_type": "stream",
     "text": [
      "Train Loss: 0.5538, Train Acc: 0.7170, Val Acc: 0.7208, Test Acc: 0.7121\n",
      "Best Val Acc: 0.7358, Best Test Acc: 0.7179\n"
     ]
    },
    {
     "name": "stderr",
     "output_type": "stream",
     "text": [
      "Epoch: 5: 100%|██████████| 118/118 [00:02<00:00, 53.90it/s]\n"
     ]
    },
    {
     "name": "stdout",
     "output_type": "stream",
     "text": [
      "Train Loss: 0.5472, Train Acc: 0.7230, Val Acc: 0.7396, Test Acc: 0.7213\n",
      "Best Val Acc: 0.7396, Best Test Acc: 0.7213\n"
     ]
    },
    {
     "name": "stderr",
     "output_type": "stream",
     "text": [
      "Epoch: 6: 100%|██████████| 118/118 [00:02<00:00, 47.07it/s]\n"
     ]
    },
    {
     "name": "stdout",
     "output_type": "stream",
     "text": [
      "Train Loss: 0.5435, Train Acc: 0.7228, Val Acc: 0.7370, Test Acc: 0.7219\n",
      "Best Val Acc: 0.7396, Best Test Acc: 0.7213\n"
     ]
    },
    {
     "name": "stderr",
     "output_type": "stream",
     "text": [
      "Epoch: 7: 100%|██████████| 118/118 [00:02<00:00, 49.31it/s]\n"
     ]
    },
    {
     "name": "stdout",
     "output_type": "stream",
     "text": [
      "Train Loss: 0.5430, Train Acc: 0.7232, Val Acc: 0.7376, Test Acc: 0.7213\n",
      "Best Val Acc: 0.7396, Best Test Acc: 0.7213\n"
     ]
    },
    {
     "name": "stderr",
     "output_type": "stream",
     "text": [
      "Epoch: 8: 100%|██████████| 118/118 [00:02<00:00, 46.06it/s]\n"
     ]
    },
    {
     "name": "stdout",
     "output_type": "stream",
     "text": [
      "Train Loss: 0.5391, Train Acc: 0.7259, Val Acc: 0.7372, Test Acc: 0.7220\n",
      "Best Val Acc: 0.7396, Best Test Acc: 0.7213\n"
     ]
    },
    {
     "name": "stderr",
     "output_type": "stream",
     "text": [
      "Epoch: 9: 100%|██████████| 118/118 [00:02<00:00, 52.44it/s]\n"
     ]
    },
    {
     "name": "stdout",
     "output_type": "stream",
     "text": [
      "Train Loss: 0.5382, Train Acc: 0.7239, Val Acc: 0.7316, Test Acc: 0.7195\n",
      "Best Val Acc: 0.7396, Best Test Acc: 0.7213\n"
     ]
    },
    {
     "name": "stderr",
     "output_type": "stream",
     "text": [
      "Epoch: 10: 100%|██████████| 118/118 [00:02<00:00, 57.51it/s]\n"
     ]
    },
    {
     "name": "stdout",
     "output_type": "stream",
     "text": [
      "Train Loss: 0.5358, Train Acc: 0.7262, Val Acc: 0.7354, Test Acc: 0.7217\n",
      "Best Val Acc: 0.7396, Best Test Acc: 0.7213\n"
     ]
    },
    {
     "name": "stderr",
     "output_type": "stream",
     "text": [
      "Epoch: 11: 100%|██████████| 118/118 [00:02<00:00, 48.76it/s]\n"
     ]
    },
    {
     "name": "stdout",
     "output_type": "stream",
     "text": [
      "Train Loss: 0.5361, Train Acc: 0.7268, Val Acc: 0.7356, Test Acc: 0.7226\n",
      "Best Val Acc: 0.7396, Best Test Acc: 0.7213\n"
     ]
    },
    {
     "name": "stderr",
     "output_type": "stream",
     "text": [
      "Epoch: 12: 100%|██████████| 118/118 [00:02<00:00, 45.66it/s]\n"
     ]
    },
    {
     "name": "stdout",
     "output_type": "stream",
     "text": [
      "Train Loss: 0.5350, Train Acc: 0.7246, Val Acc: 0.7294, Test Acc: 0.7180\n",
      "Best Val Acc: 0.7396, Best Test Acc: 0.7213\n"
     ]
    },
    {
     "name": "stderr",
     "output_type": "stream",
     "text": [
      "Epoch: 13: 100%|██████████| 118/118 [00:02<00:00, 40.97it/s]\n"
     ]
    },
    {
     "name": "stdout",
     "output_type": "stream",
     "text": [
      "Train Loss: 0.5348, Train Acc: 0.7278, Val Acc: 0.7388, Test Acc: 0.7227\n",
      "Best Val Acc: 0.7396, Best Test Acc: 0.7213\n"
     ]
    },
    {
     "name": "stderr",
     "output_type": "stream",
     "text": [
      "Epoch: 14: 100%|██████████| 118/118 [00:02<00:00, 52.19it/s]\n"
     ]
    },
    {
     "name": "stdout",
     "output_type": "stream",
     "text": [
      "Train Loss: 0.5325, Train Acc: 0.7273, Val Acc: 0.7374, Test Acc: 0.7203\n",
      "Best Val Acc: 0.7396, Best Test Acc: 0.7213\n"
     ]
    },
    {
     "name": "stderr",
     "output_type": "stream",
     "text": [
      "Epoch: 15: 100%|██████████| 118/118 [00:02<00:00, 48.77it/s]\n"
     ]
    },
    {
     "name": "stdout",
     "output_type": "stream",
     "text": [
      "Train Loss: 0.5320, Train Acc: 0.7272, Val Acc: 0.7350, Test Acc: 0.7195\n",
      "Best Val Acc: 0.7396, Best Test Acc: 0.7213\n"
     ]
    },
    {
     "name": "stderr",
     "output_type": "stream",
     "text": [
      "Epoch: 1: 100%|██████████| 165/165 [00:03<00:00, 49.56it/s]\n"
     ]
    },
    {
     "name": "stdout",
     "output_type": "stream",
     "text": [
      "Train Loss: 0.6642, Train Acc: 0.6441, Val Acc: 0.6483, Test Acc: 0.6419\n",
      "Best Val Acc: 0.6483, Best Test Acc: 0.6419\n"
     ]
    },
    {
     "name": "stderr",
     "output_type": "stream",
     "text": [
      "Epoch: 2: 100%|██████████| 165/165 [00:03<00:00, 50.33it/s]\n"
     ]
    },
    {
     "name": "stdout",
     "output_type": "stream",
     "text": [
      "Train Loss: 0.6142, Train Acc: 0.7100, Val Acc: 0.7089, Test Acc: 0.7050\n",
      "Best Val Acc: 0.7089, Best Test Acc: 0.7050\n"
     ]
    },
    {
     "name": "stderr",
     "output_type": "stream",
     "text": [
      "Epoch: 3: 100%|██████████| 165/165 [00:03<00:00, 45.07it/s]\n"
     ]
    },
    {
     "name": "stdout",
     "output_type": "stream",
     "text": [
      "Train Loss: 0.5542, Train Acc: 0.7232, Val Acc: 0.7260, Test Acc: 0.7204\n",
      "Best Val Acc: 0.7260, Best Test Acc: 0.7204\n"
     ]
    },
    {
     "name": "stderr",
     "output_type": "stream",
     "text": [
      "Epoch: 4: 100%|██████████| 165/165 [00:03<00:00, 43.44it/s]\n"
     ]
    },
    {
     "name": "stdout",
     "output_type": "stream",
     "text": [
      "Train Loss: 0.5472, Train Acc: 0.7212, Val Acc: 0.7243, Test Acc: 0.7185\n",
      "Best Val Acc: 0.7260, Best Test Acc: 0.7204\n"
     ]
    },
    {
     "name": "stderr",
     "output_type": "stream",
     "text": [
      "Epoch: 5: 100%|██████████| 165/165 [00:03<00:00, 52.13it/s]\n"
     ]
    },
    {
     "name": "stdout",
     "output_type": "stream",
     "text": [
      "Train Loss: 0.5441, Train Acc: 0.7216, Val Acc: 0.7214, Test Acc: 0.7194\n",
      "Best Val Acc: 0.7260, Best Test Acc: 0.7204\n"
     ]
    },
    {
     "name": "stderr",
     "output_type": "stream",
     "text": [
      "Epoch: 6: 100%|██████████| 165/165 [00:03<00:00, 51.64it/s]\n"
     ]
    },
    {
     "name": "stdout",
     "output_type": "stream",
     "text": [
      "Train Loss: 0.5407, Train Acc: 0.7190, Val Acc: 0.7180, Test Acc: 0.7157\n",
      "Best Val Acc: 0.7260, Best Test Acc: 0.7204\n"
     ]
    },
    {
     "name": "stderr",
     "output_type": "stream",
     "text": [
      "Epoch: 7: 100%|██████████| 165/165 [00:03<00:00, 42.06it/s]\n"
     ]
    },
    {
     "name": "stdout",
     "output_type": "stream",
     "text": [
      "Train Loss: 0.5406, Train Acc: 0.7245, Val Acc: 0.7241, Test Acc: 0.7213\n",
      "Best Val Acc: 0.7260, Best Test Acc: 0.7204\n"
     ]
    },
    {
     "name": "stderr",
     "output_type": "stream",
     "text": [
      "Epoch: 8: 100%|██████████| 165/165 [00:02<00:00, 56.98it/s]\n"
     ]
    },
    {
     "name": "stdout",
     "output_type": "stream",
     "text": [
      "Train Loss: 0.5374, Train Acc: 0.7217, Val Acc: 0.7184, Test Acc: 0.7184\n",
      "Best Val Acc: 0.7260, Best Test Acc: 0.7204\n"
     ]
    },
    {
     "name": "stderr",
     "output_type": "stream",
     "text": [
      "Epoch: 9: 100%|██████████| 165/165 [00:03<00:00, 54.76it/s]\n"
     ]
    },
    {
     "name": "stdout",
     "output_type": "stream",
     "text": [
      "Train Loss: 0.5371, Train Acc: 0.7228, Val Acc: 0.7194, Test Acc: 0.7180\n",
      "Best Val Acc: 0.7260, Best Test Acc: 0.7204\n"
     ]
    },
    {
     "name": "stderr",
     "output_type": "stream",
     "text": [
      "Epoch: 10: 100%|██████████| 165/165 [00:02<00:00, 55.45it/s]\n"
     ]
    },
    {
     "name": "stdout",
     "output_type": "stream",
     "text": [
      "Train Loss: 0.5350, Train Acc: 0.7245, Val Acc: 0.7214, Test Acc: 0.7210\n",
      "Best Val Acc: 0.7260, Best Test Acc: 0.7204\n"
     ]
    },
    {
     "name": "stderr",
     "output_type": "stream",
     "text": [
      "Epoch: 11: 100%|██████████| 165/165 [00:02<00:00, 58.34it/s]\n"
     ]
    },
    {
     "name": "stdout",
     "output_type": "stream",
     "text": [
      "Train Loss: 0.5334, Train Acc: 0.7251, Val Acc: 0.7239, Test Acc: 0.7205\n",
      "Best Val Acc: 0.7260, Best Test Acc: 0.7204\n"
     ]
    },
    {
     "name": "stderr",
     "output_type": "stream",
     "text": [
      "Epoch: 12: 100%|██████████| 165/165 [00:02<00:00, 55.24it/s]\n"
     ]
    },
    {
     "name": "stdout",
     "output_type": "stream",
     "text": [
      "Train Loss: 0.5326, Train Acc: 0.7254, Val Acc: 0.7234, Test Acc: 0.7202\n",
      "Best Val Acc: 0.7260, Best Test Acc: 0.7204\n"
     ]
    },
    {
     "name": "stderr",
     "output_type": "stream",
     "text": [
      "Epoch: 13: 100%|██████████| 165/165 [00:03<00:00, 53.60it/s]\n"
     ]
    },
    {
     "name": "stdout",
     "output_type": "stream",
     "text": [
      "Train Loss: 0.5322, Train Acc: 0.7277, Val Acc: 0.7246, Test Acc: 0.7224\n",
      "Best Val Acc: 0.7260, Best Test Acc: 0.7204\n"
     ]
    },
    {
     "name": "stderr",
     "output_type": "stream",
     "text": [
      "Epoch: 14: 100%|██████████| 165/165 [00:02<00:00, 58.27it/s]\n"
     ]
    },
    {
     "name": "stdout",
     "output_type": "stream",
     "text": [
      "Train Loss: 0.5312, Train Acc: 0.7280, Val Acc: 0.7244, Test Acc: 0.7215\n",
      "Best Val Acc: 0.7260, Best Test Acc: 0.7204\n"
     ]
    },
    {
     "name": "stderr",
     "output_type": "stream",
     "text": [
      "Epoch: 15: 100%|██████████| 165/165 [00:03<00:00, 53.36it/s]\n"
     ]
    },
    {
     "name": "stdout",
     "output_type": "stream",
     "text": [
      "Train Loss: 0.5305, Train Acc: 0.7268, Val Acc: 0.7223, Test Acc: 0.7200\n",
      "Best Val Acc: 0.7260, Best Test Acc: 0.7204\n"
     ]
    }
   ],
   "source": [
    "from torch_frame import numerical, categorical, text_embedded, embedding\n",
    "\n",
    "data_sizes = [5000, 10000, 30000, 50000, 70000]\n",
    "ftt_results = []\n",
    "\n",
    "for size in data_sizes:\n",
    "    df = pd.read_csv(\"alzheimers_prediction_dataset.csv\")\n",
    "\n",
    "    # 데이터 사이즈별 추출 \n",
    "    df = df.sample(n = size, random_state=42)\n",
    "\n",
    "    ## 칼럼 별 Dtype 지정 \n",
    "    col_to_stype={\"Country\" : categorical,\n",
    "                \"Age\" : numerical,\n",
    "                \"Gender\" : categorical,\n",
    "                \"Education Level\" : numerical,\n",
    "                \"BMI\" : numerical,\n",
    "                \"Physical Activity Level\" : categorical,\n",
    "                \"Smoking Status\" : categorical,\n",
    "                \"Alcohol Consumption\" : categorical,\n",
    "                \"Diabetes\" : categorical,\n",
    "                \"Hypertension\" : categorical,\n",
    "                \"Cholesterol Level\" : categorical,\n",
    "                \"Family History of Alzheimer’s\" : categorical,\n",
    "                \"Cognitive Test Score\" : numerical,\n",
    "                \"Depression Level\" : categorical,\n",
    "                \"Sleep Quality\" : categorical,\n",
    "                \"Dietary Habits\" : categorical,\n",
    "                \"Air Pollution Exposure\" : categorical,\n",
    "                \"Employment Status\" : categorical,\n",
    "                \"Marital Status\" : categorical,\n",
    "                \"Genetic Risk Factor (APOE-ε4 allele)\" : categorical,\n",
    "                \"Social Engagement Level\" : categorical,\n",
    "                \"Income Level\" : categorical,\n",
    "                \"Stress Levels\" : categorical,\n",
    "                \"Urban vs Rural Living\" : categorical,\n",
    "                \"Alzheimer’s Diagnosis\" : categorical\n",
    "                }\n",
    "\n",
    "    dataset = Dataset(df = df, \n",
    "                    col_to_stype = col_to_stype, \n",
    "                    target_col = \"Alzheimer’s Diagnosis\")\n",
    "\n",
    "    dataset.materialize()\n",
    "    \n",
    "    # 여기에 데이터 셋을 나누고 모델을 학습하는 코드 추가\n",
    "    train_dataset, val_dataset, test_dataset = dataset[:0.6], dataset[0.6:0.7], dataset[0.7:]\n",
    "    \n",
    "    train_tensor_frame = train_dataset.tensor_frame\n",
    "    val_tensor_frame = val_dataset.tensor_frame\n",
    "    test_tensor_frame = test_dataset.tensor_frame\n",
    "    train_loader = DataLoader(train_tensor_frame, batch_size=args.batch_size,\n",
    "                          shuffle=True)\n",
    "    val_loader = DataLoader(val_tensor_frame, batch_size=args.batch_size)\n",
    "    test_loader = DataLoader(test_tensor_frame, batch_size=args.batch_size)\n",
    "\n",
    "    if args.numerical_encoder_type == 'linear':\n",
    "        numerical_encoder = LinearEncoder()\n",
    "    elif args.numerical_encoder_type == 'linearbucket':\n",
    "        numerical_encoder = LinearBucketEncoder()\n",
    "    elif args.numerical_encoder_type == 'linearperiodic':\n",
    "        numerical_encoder = LinearPeriodicEncoder()\n",
    "    else:\n",
    "        raise ValueError(\n",
    "            f'Unsupported encoder type: {args.numerical_encoder_type}')\n",
    "\n",
    "    stype_encoder_dict = {\n",
    "        stype.categorical: EmbeddingEncoder(),\n",
    "        stype.numerical: numerical_encoder,\n",
    "    }\n",
    "    \n",
    "    if is_classification:\n",
    "        #output_channels = dataset.num_classes    ->   contains StatType.COUNT을 포함하지 않아서 오류(?)\n",
    "        output_channels = 2 # 그냥 수동으로 설정.,,,,   => 분류 칼럼 unique 개수로 설정 \n",
    "    else:\n",
    "        output_channels = 1\n",
    "    \n",
    "\n",
    "    if args.model_type == 'fttransformer':\n",
    "        model = FTTransformer(\n",
    "            channels=args.channels,\n",
    "            out_channels=output_channels,\n",
    "            num_layers=args.num_layers,\n",
    "            col_stats=dataset.col_stats,    # TensorFrame이 col_stats를 안받아서 transor frame으로 바꾸기 전으로 받아와야 함 \n",
    "            col_names_dict=train_tensor_frame.col_names_dict,\n",
    "            stype_encoder_dict=stype_encoder_dict,\n",
    "        ).to(device)\n",
    "\n",
    "    elif args.model_type == 'resnet':\n",
    "        model = ResNet(\n",
    "            channels=args.channels,\n",
    "            out_channels=output_channels,\n",
    "            num_layers=args.num_layers,\n",
    "            col_stats=dataset.col_stats,\n",
    "            col_names_dict=train_tensor_frame.col_names_dict,\n",
    "        ).to(device)\n",
    "    else:\n",
    "        raise ValueError(f'Unsupported model type: {args.model_type}')\n",
    "\n",
    "    model = torch.compile(model, dynamic=True) if args.compile else model\n",
    "    optimizer = torch.optim.AdamW(model.parameters(), lr=args.lr)\n",
    "\n",
    "    \n",
    "    # 훈련 및 테스트\n",
    "    if is_classification:\n",
    "        metric = 'Acc'\n",
    "        best_val_metric = 0\n",
    "        best_test_metric = 0\n",
    "    else:\n",
    "        metric = 'RMSE'\n",
    "        best_val_metric = float('inf')\n",
    "        best_test_metric = float('inf')\n",
    "\n",
    "    for epoch in range(1, args.epochs + 1):\n",
    "        train_loss = train(epoch)\n",
    "        train_metric = test(train_loader)\n",
    "        val_metric = test(val_loader)\n",
    "        test_metric = test(test_loader)\n",
    "\n",
    "        if is_classification and val_metric > best_val_metric:\n",
    "            best_val_metric = val_metric\n",
    "            best_test_metric = test_metric\n",
    "        elif not is_classification and val_metric < best_val_metric:\n",
    "            best_val_metric = val_metric\n",
    "            best_test_metric = test_metric\n",
    "\n",
    "        print(f'Train Loss: {train_loss:.4f}, Train {metric}: {train_metric:.4f}, '\n",
    "                f'Val {metric}: {val_metric:.4f}, Test {metric}: {test_metric:.4f}')\n",
    "\n",
    "        print(f'Best Val {metric}: {best_val_metric:.4f}, '\n",
    "                f'Best Test {metric}: {best_test_metric:.4f}')\n",
    "        \n",
    "    ftt_results.append(best_test_metric)\n",
    "    "
   ]
  },
  {
   "cell_type": "code",
   "execution_count": 13,
   "metadata": {},
   "outputs": [
    {
     "data": {
      "image/png": "[encoded data removed]",
      "text/plain": [
       "<Figure size 1000x600 with 1 Axes>"
      ]
     },
     "metadata": {},
     "output_type": "display_data"
    }
   ],
   "source": [
    "# ✅ 그래프 그리기\n",
    "plt.figure(figsize=(10, 6))\n",
    "\n",
    "plt.plot(data_sizes, ftt_results, marker=\"o\", linestyle=\"-\", label=\"Ftt Accuracy\")\n",
    "\n",
    "\n",
    "#plt.xscale(\"log\")  # 로그 스케일 적용 (샘플 크기가 큰 차이가 나기 때문)\n",
    "plt.xlabel(\"Sample Size\")\n",
    "plt.ylabel(\"Performance Score\")\n",
    "plt.title(\"Sample Size vs Model Performance\")\n",
    "plt.legend()\n",
    "plt.grid(True)\n",
    "plt.show()"
   ]
  },
  {
   "cell_type": "markdown",
   "metadata": {},
   "source": [
    "### TabNet"
   ]
  },
  {
   "cell_type": "code",
   "execution_count": 14,
   "metadata": {},
   "outputs": [
    {
     "data": {
      "text/plain": [
       "<torch._C.Generator at 0x7f8716abb1f0>"
      ]
     },
     "execution_count": 14,
     "metadata": {},
     "output_type": "execute_result"
    }
   ],
   "source": [
    "parser = argparse.ArgumentParser()\n",
    "parser.add_argument('--dataset', type=str, default=\"ForestCoverType\",\n",
    "                    choices=[\"ForestCoverType\", \"KDDCensusIncome\"])\n",
    "parser.add_argument('--channels', type=int, default=128)\n",
    "parser.add_argument('--gamma', type=int, default=1.2)\n",
    "parser.add_argument('--num_layers', type=int, default=6)\n",
    "parser.add_argument('--batch_size', type=int, default=4096)\n",
    "parser.add_argument('--lr', type=float, default=0.005)\n",
    "parser.add_argument('--epochs', type=int, default=50)\n",
    "parser.add_argument('--seed', type=int, default=0)\n",
    "parser.add_argument('--compile', action='store_true')\n",
    "\n",
    "\n",
    "args = parser.parse_args([\n",
    "    \"--channels\", \"256\",\n",
    "    \"--num_layers\", \"4\",\n",
    "    \"--batch_size\", \"256\",\n",
    "    \"--lr\", \"0.0001\",\n",
    "    \"--epochs\", \"15\"\n",
    "])\n",
    "\n",
    "torch.manual_seed(args.seed)"
   ]
  },
  {
   "cell_type": "code",
   "execution_count": 15,
   "metadata": {},
   "outputs": [],
   "source": [
    "def train(epoch: int) -> float:\n",
    "    model.train()\n",
    "    loss_accum = total_count = 0\n",
    "\n",
    "    for tf in tqdm(train_loader, desc=f'Epoch: {epoch}'):\n",
    "        tf = tf.to(device)\n",
    "        pred = model(tf)\n",
    "        loss = F.cross_entropy(pred, tf.y.long())\n",
    "        optimizer.zero_grad()\n",
    "        loss.backward()\n",
    "        loss_accum += float(loss) * len(tf.y)\n",
    "        total_count += len(tf.y)\n",
    "        optimizer.step()\n",
    "    return loss_accum / total_count\n",
    "\n",
    "\n",
    "@torch.no_grad()\n",
    "def test(loader: DataLoader) -> float:\n",
    "    model.eval()\n",
    "    accum = total_count = 0\n",
    "\n",
    "    for tf in loader:\n",
    "        tf = tf.to(device)\n",
    "        pred = model(tf)\n",
    "        pred_class = pred.argmax(dim=-1)\n",
    "        accum += float((tf.y == pred_class).sum())\n",
    "        total_count += len(tf.y)\n",
    "\n",
    "    return accum / total_count"
   ]
  },
  {
   "cell_type": "code",
   "execution_count": 16,
   "metadata": {},
   "outputs": [
    {
     "name": "stderr",
     "output_type": "stream",
     "text": [
      "Epoch: 1: 100%|██████████| 12/12 [00:00<00:00, 69.62it/s]\n"
     ]
    },
    {
     "name": "stdout",
     "output_type": "stream",
     "text": [
      "Train Loss: 0.6920, Train Acc: 0.6057, Val Acc: 0.5980, Test Acc: 0.5967\n"
     ]
    },
    {
     "name": "stderr",
     "output_type": "stream",
     "text": [
      "Epoch: 2: 100%|██████████| 12/12 [00:00<00:00, 70.05it/s]\n"
     ]
    },
    {
     "name": "stdout",
     "output_type": "stream",
     "text": [
      "Train Loss: 0.6858, Train Acc: 0.6927, Val Acc: 0.6780, Test Acc: 0.6747\n"
     ]
    },
    {
     "name": "stderr",
     "output_type": "stream",
     "text": [
      "Epoch: 3: 100%|██████████| 12/12 [00:00<00:00, 72.67it/s]\n"
     ]
    },
    {
     "name": "stdout",
     "output_type": "stream",
     "text": [
      "Train Loss: 0.6742, Train Acc: 0.7067, Val Acc: 0.6620, Test Acc: 0.6860\n"
     ]
    },
    {
     "name": "stderr",
     "output_type": "stream",
     "text": [
      "Epoch: 4: 100%|██████████| 12/12 [00:00<00:00, 57.60it/s]\n"
     ]
    },
    {
     "name": "stdout",
     "output_type": "stream",
     "text": [
      "Train Loss: 0.6541, Train Acc: 0.7090, Val Acc: 0.6480, Test Acc: 0.6867\n"
     ]
    },
    {
     "name": "stderr",
     "output_type": "stream",
     "text": [
      "Epoch: 5: 100%|██████████| 12/12 [00:00<00:00, 70.70it/s]\n"
     ]
    },
    {
     "name": "stdout",
     "output_type": "stream",
     "text": [
      "Train Loss: 0.6258, Train Acc: 0.7047, Val Acc: 0.6640, Test Acc: 0.6833\n"
     ]
    },
    {
     "name": "stderr",
     "output_type": "stream",
     "text": [
      "Epoch: 6: 100%|██████████| 12/12 [00:00<00:00, 72.06it/s]\n"
     ]
    },
    {
     "name": "stdout",
     "output_type": "stream",
     "text": [
      "Train Loss: 0.5955, Train Acc: 0.7067, Val Acc: 0.6660, Test Acc: 0.6787\n"
     ]
    },
    {
     "name": "stderr",
     "output_type": "stream",
     "text": [
      "Epoch: 7: 100%|██████████| 12/12 [00:00<00:00, 70.60it/s]\n"
     ]
    },
    {
     "name": "stdout",
     "output_type": "stream",
     "text": [
      "Train Loss: 0.5625, Train Acc: 0.7077, Val Acc: 0.6700, Test Acc: 0.6787\n"
     ]
    },
    {
     "name": "stderr",
     "output_type": "stream",
     "text": [
      "Epoch: 8: 100%|██████████| 12/12 [00:00<00:00, 76.34it/s]\n"
     ]
    },
    {
     "name": "stdout",
     "output_type": "stream",
     "text": [
      "Train Loss: 0.5327, Train Acc: 0.7233, Val Acc: 0.6560, Test Acc: 0.6827\n"
     ]
    },
    {
     "name": "stderr",
     "output_type": "stream",
     "text": [
      "Epoch: 9: 100%|██████████| 12/12 [00:00<00:00, 52.87it/s]\n"
     ]
    },
    {
     "name": "stdout",
     "output_type": "stream",
     "text": [
      "Train Loss: 0.5041, Train Acc: 0.7440, Val Acc: 0.6720, Test Acc: 0.6820\n"
     ]
    },
    {
     "name": "stderr",
     "output_type": "stream",
     "text": [
      "Epoch: 10: 100%|██████████| 12/12 [00:00<00:00, 62.51it/s]\n"
     ]
    },
    {
     "name": "stdout",
     "output_type": "stream",
     "text": [
      "Train Loss: 0.4771, Train Acc: 0.7560, Val Acc: 0.6740, Test Acc: 0.6780\n"
     ]
    },
    {
     "name": "stderr",
     "output_type": "stream",
     "text": [
      "Epoch: 11: 100%|██████████| 12/12 [00:00<00:00, 74.46it/s]\n"
     ]
    },
    {
     "name": "stdout",
     "output_type": "stream",
     "text": [
      "Train Loss: 0.4531, Train Acc: 0.7687, Val Acc: 0.6680, Test Acc: 0.6733\n"
     ]
    },
    {
     "name": "stderr",
     "output_type": "stream",
     "text": [
      "Epoch: 12: 100%|██████████| 12/12 [00:00<00:00, 64.38it/s]\n"
     ]
    },
    {
     "name": "stdout",
     "output_type": "stream",
     "text": [
      "Train Loss: 0.4271, Train Acc: 0.7813, Val Acc: 0.6780, Test Acc: 0.6767\n"
     ]
    },
    {
     "name": "stderr",
     "output_type": "stream",
     "text": [
      "Epoch: 13: 100%|██████████| 12/12 [00:00<00:00, 69.26it/s]\n"
     ]
    },
    {
     "name": "stdout",
     "output_type": "stream",
     "text": [
      "Train Loss: 0.4102, Train Acc: 0.7917, Val Acc: 0.6740, Test Acc: 0.6787\n"
     ]
    },
    {
     "name": "stderr",
     "output_type": "stream",
     "text": [
      "Epoch: 14: 100%|██████████| 12/12 [00:00<00:00, 68.43it/s]\n"
     ]
    },
    {
     "name": "stdout",
     "output_type": "stream",
     "text": [
      "Train Loss: 0.3926, Train Acc: 0.7990, Val Acc: 0.6800, Test Acc: 0.6827\n"
     ]
    },
    {
     "name": "stderr",
     "output_type": "stream",
     "text": [
      "Epoch: 15: 100%|██████████| 12/12 [00:00<00:00, 51.30it/s]\n"
     ]
    },
    {
     "name": "stdout",
     "output_type": "stream",
     "text": [
      "Train Loss: 0.3763, Train Acc: 0.8053, Val Acc: 0.6760, Test Acc: 0.6767\n",
      "Best Val Acc: 0.6800, Best Test Acc: 0.6827\n"
     ]
    },
    {
     "name": "stderr",
     "output_type": "stream",
     "text": [
      "Epoch: 1: 100%|██████████| 24/24 [00:00<00:00, 76.38it/s]\n"
     ]
    },
    {
     "name": "stdout",
     "output_type": "stream",
     "text": [
      "Train Loss: 0.6889, Train Acc: 0.6923, Val Acc: 0.6950, Test Acc: 0.6890\n"
     ]
    },
    {
     "name": "stderr",
     "output_type": "stream",
     "text": [
      "Epoch: 2: 100%|██████████| 24/24 [00:00<00:00, 67.64it/s]\n"
     ]
    },
    {
     "name": "stdout",
     "output_type": "stream",
     "text": [
      "Train Loss: 0.6634, Train Acc: 0.7037, Val Acc: 0.6980, Test Acc: 0.7087\n"
     ]
    },
    {
     "name": "stderr",
     "output_type": "stream",
     "text": [
      "Epoch: 3: 100%|██████████| 24/24 [00:00<00:00, 64.31it/s]\n"
     ]
    },
    {
     "name": "stdout",
     "output_type": "stream",
     "text": [
      "Train Loss: 0.6088, Train Acc: 0.7040, Val Acc: 0.6980, Test Acc: 0.7080\n"
     ]
    },
    {
     "name": "stderr",
     "output_type": "stream",
     "text": [
      "Epoch: 4: 100%|██████████| 24/24 [00:00<00:00, 65.96it/s]\n"
     ]
    },
    {
     "name": "stdout",
     "output_type": "stream",
     "text": [
      "Train Loss: 0.5720, Train Acc: 0.7058, Val Acc: 0.6950, Test Acc: 0.6950\n"
     ]
    },
    {
     "name": "stderr",
     "output_type": "stream",
     "text": [
      "Epoch: 5: 100%|██████████| 24/24 [00:00<00:00, 73.95it/s]\n"
     ]
    },
    {
     "name": "stdout",
     "output_type": "stream",
     "text": [
      "Train Loss: 0.5557, Train Acc: 0.7097, Val Acc: 0.6800, Test Acc: 0.6897\n"
     ]
    },
    {
     "name": "stderr",
     "output_type": "stream",
     "text": [
      "Epoch: 6: 100%|██████████| 24/24 [00:00<00:00, 59.78it/s]\n"
     ]
    },
    {
     "name": "stdout",
     "output_type": "stream",
     "text": [
      "Train Loss: 0.5374, Train Acc: 0.7240, Val Acc: 0.6870, Test Acc: 0.6980\n"
     ]
    },
    {
     "name": "stderr",
     "output_type": "stream",
     "text": [
      "Epoch: 7: 100%|██████████| 24/24 [00:00<00:00, 70.96it/s]\n"
     ]
    },
    {
     "name": "stdout",
     "output_type": "stream",
     "text": [
      "Train Loss: 0.5125, Train Acc: 0.7412, Val Acc: 0.6830, Test Acc: 0.7037\n"
     ]
    },
    {
     "name": "stderr",
     "output_type": "stream",
     "text": [
      "Epoch: 8: 100%|██████████| 24/24 [00:00<00:00, 72.30it/s]\n"
     ]
    },
    {
     "name": "stdout",
     "output_type": "stream",
     "text": [
      "Train Loss: 0.4913, Train Acc: 0.7512, Val Acc: 0.6790, Test Acc: 0.7007\n"
     ]
    },
    {
     "name": "stderr",
     "output_type": "stream",
     "text": [
      "Epoch: 9: 100%|██████████| 24/24 [00:00<00:00, 70.75it/s]\n"
     ]
    },
    {
     "name": "stdout",
     "output_type": "stream",
     "text": [
      "Train Loss: 0.4789, Train Acc: 0.7587, Val Acc: 0.6770, Test Acc: 0.7033\n"
     ]
    },
    {
     "name": "stderr",
     "output_type": "stream",
     "text": [
      "Epoch: 10: 100%|██████████| 24/24 [00:00<00:00, 70.65it/s]\n"
     ]
    },
    {
     "name": "stdout",
     "output_type": "stream",
     "text": [
      "Train Loss: 0.4597, Train Acc: 0.7670, Val Acc: 0.6740, Test Acc: 0.6960\n"
     ]
    },
    {
     "name": "stderr",
     "output_type": "stream",
     "text": [
      "Epoch: 11: 100%|██████████| 24/24 [00:00<00:00, 58.13it/s]\n"
     ]
    },
    {
     "name": "stdout",
     "output_type": "stream",
     "text": [
      "Train Loss: 0.4399, Train Acc: 0.7808, Val Acc: 0.6750, Test Acc: 0.6947\n"
     ]
    },
    {
     "name": "stderr",
     "output_type": "stream",
     "text": [
      "Epoch: 12: 100%|██████████| 24/24 [00:00<00:00, 57.65it/s]\n"
     ]
    },
    {
     "name": "stdout",
     "output_type": "stream",
     "text": [
      "Train Loss: 0.4280, Train Acc: 0.7890, Val Acc: 0.6810, Test Acc: 0.6963\n"
     ]
    },
    {
     "name": "stderr",
     "output_type": "stream",
     "text": [
      "Epoch: 13: 100%|██████████| 24/24 [00:00<00:00, 74.80it/s]\n"
     ]
    },
    {
     "name": "stdout",
     "output_type": "stream",
     "text": [
      "Train Loss: 0.4130, Train Acc: 0.7933, Val Acc: 0.6760, Test Acc: 0.6897\n"
     ]
    },
    {
     "name": "stderr",
     "output_type": "stream",
     "text": [
      "Epoch: 14: 100%|██████████| 24/24 [00:00<00:00, 64.83it/s]\n"
     ]
    },
    {
     "name": "stdout",
     "output_type": "stream",
     "text": [
      "Train Loss: 0.3931, Train Acc: 0.8043, Val Acc: 0.6750, Test Acc: 0.6863\n"
     ]
    },
    {
     "name": "stderr",
     "output_type": "stream",
     "text": [
      "Epoch: 15: 100%|██████████| 24/24 [00:00<00:00, 47.32it/s]\n"
     ]
    },
    {
     "name": "stdout",
     "output_type": "stream",
     "text": [
      "Train Loss: 0.3793, Train Acc: 0.8090, Val Acc: 0.6750, Test Acc: 0.6847\n",
      "Best Val Acc: 0.6980, Best Test Acc: 0.7087\n"
     ]
    },
    {
     "name": "stderr",
     "output_type": "stream",
     "text": [
      "Epoch: 1: 100%|██████████| 71/71 [00:00<00:00, 78.41it/s]\n"
     ]
    },
    {
     "name": "stdout",
     "output_type": "stream",
     "text": [
      "Train Loss: 0.6721, Train Acc: 0.6991, Val Acc: 0.6940, Test Acc: 0.6828\n"
     ]
    },
    {
     "name": "stderr",
     "output_type": "stream",
     "text": [
      "Epoch: 2: 100%|██████████| 71/71 [00:01<00:00, 68.35it/s]\n"
     ]
    },
    {
     "name": "stdout",
     "output_type": "stream",
     "text": [
      "Train Loss: 0.5707, Train Acc: 0.7162, Val Acc: 0.7033, Test Acc: 0.6986\n"
     ]
    },
    {
     "name": "stderr",
     "output_type": "stream",
     "text": [
      "Epoch: 3: 100%|██████████| 71/71 [00:00<00:00, 74.27it/s]\n"
     ]
    },
    {
     "name": "stdout",
     "output_type": "stream",
     "text": [
      "Train Loss: 0.5431, Train Acc: 0.7242, Val Acc: 0.7030, Test Acc: 0.7018\n"
     ]
    },
    {
     "name": "stderr",
     "output_type": "stream",
     "text": [
      "Epoch: 4: 100%|██████████| 71/71 [00:01<00:00, 51.12it/s]\n"
     ]
    },
    {
     "name": "stdout",
     "output_type": "stream",
     "text": [
      "Train Loss: 0.5283, Train Acc: 0.7290, Val Acc: 0.7077, Test Acc: 0.7028\n"
     ]
    },
    {
     "name": "stderr",
     "output_type": "stream",
     "text": [
      "Epoch: 5: 100%|██████████| 71/71 [00:01<00:00, 70.68it/s]\n"
     ]
    },
    {
     "name": "stdout",
     "output_type": "stream",
     "text": [
      "Train Loss: 0.5185, Train Acc: 0.7344, Val Acc: 0.7087, Test Acc: 0.6997\n"
     ]
    },
    {
     "name": "stderr",
     "output_type": "stream",
     "text": [
      "Epoch: 6: 100%|██████████| 71/71 [00:00<00:00, 71.21it/s]\n"
     ]
    },
    {
     "name": "stdout",
     "output_type": "stream",
     "text": [
      "Train Loss: 0.5076, Train Acc: 0.7412, Val Acc: 0.7110, Test Acc: 0.6993\n"
     ]
    },
    {
     "name": "stderr",
     "output_type": "stream",
     "text": [
      "Epoch: 7: 100%|██████████| 71/71 [00:01<00:00, 69.71it/s]\n"
     ]
    },
    {
     "name": "stdout",
     "output_type": "stream",
     "text": [
      "Train Loss: 0.4998, Train Acc: 0.7484, Val Acc: 0.7060, Test Acc: 0.6953\n"
     ]
    },
    {
     "name": "stderr",
     "output_type": "stream",
     "text": [
      "Epoch: 8: 100%|██████████| 71/71 [00:01<00:00, 61.69it/s]\n"
     ]
    },
    {
     "name": "stdout",
     "output_type": "stream",
     "text": [
      "Train Loss: 0.4871, Train Acc: 0.7523, Val Acc: 0.7090, Test Acc: 0.6949\n"
     ]
    },
    {
     "name": "stderr",
     "output_type": "stream",
     "text": [
      "Epoch: 9: 100%|██████████| 71/71 [00:01<00:00, 59.75it/s]\n"
     ]
    },
    {
     "name": "stdout",
     "output_type": "stream",
     "text": [
      "Train Loss: 0.4796, Train Acc: 0.7596, Val Acc: 0.7053, Test Acc: 0.6928\n"
     ]
    },
    {
     "name": "stderr",
     "output_type": "stream",
     "text": [
      "Epoch: 10: 100%|██████████| 71/71 [00:01<00:00, 68.91it/s]\n"
     ]
    },
    {
     "name": "stdout",
     "output_type": "stream",
     "text": [
      "Train Loss: 0.4683, Train Acc: 0.7645, Val Acc: 0.7060, Test Acc: 0.6903\n"
     ]
    },
    {
     "name": "stderr",
     "output_type": "stream",
     "text": [
      "Epoch: 11: 100%|██████████| 71/71 [00:00<00:00, 72.79it/s]\n"
     ]
    },
    {
     "name": "stdout",
     "output_type": "stream",
     "text": [
      "Train Loss: 0.4582, Train Acc: 0.7699, Val Acc: 0.7023, Test Acc: 0.6861\n"
     ]
    },
    {
     "name": "stderr",
     "output_type": "stream",
     "text": [
      "Epoch: 12: 100%|██████████| 71/71 [00:01<00:00, 68.60it/s]\n"
     ]
    },
    {
     "name": "stdout",
     "output_type": "stream",
     "text": [
      "Train Loss: 0.4485, Train Acc: 0.7750, Val Acc: 0.7057, Test Acc: 0.6830\n"
     ]
    },
    {
     "name": "stderr",
     "output_type": "stream",
     "text": [
      "Epoch: 13: 100%|██████████| 71/71 [00:01<00:00, 64.64it/s]\n"
     ]
    },
    {
     "name": "stdout",
     "output_type": "stream",
     "text": [
      "Train Loss: 0.4423, Train Acc: 0.7800, Val Acc: 0.6997, Test Acc: 0.6817\n"
     ]
    },
    {
     "name": "stderr",
     "output_type": "stream",
     "text": [
      "Epoch: 14: 100%|██████████| 71/71 [00:01<00:00, 70.72it/s]\n"
     ]
    },
    {
     "name": "stdout",
     "output_type": "stream",
     "text": [
      "Train Loss: 0.4317, Train Acc: 0.7862, Val Acc: 0.6977, Test Acc: 0.6791\n"
     ]
    },
    {
     "name": "stderr",
     "output_type": "stream",
     "text": [
      "Epoch: 15: 100%|██████████| 71/71 [00:00<00:00, 71.97it/s]\n"
     ]
    },
    {
     "name": "stdout",
     "output_type": "stream",
     "text": [
      "Train Loss: 0.4216, Train Acc: 0.7918, Val Acc: 0.6970, Test Acc: 0.6808\n",
      "Best Val Acc: 0.7110, Best Test Acc: 0.6993\n"
     ]
    },
    {
     "name": "stderr",
     "output_type": "stream",
     "text": [
      "Epoch: 1: 100%|██████████| 118/118 [00:01<00:00, 60.53it/s]\n"
     ]
    },
    {
     "name": "stdout",
     "output_type": "stream",
     "text": [
      "Train Loss: 0.6377, Train Acc: 0.7028, Val Acc: 0.7076, Test Acc: 0.7026\n"
     ]
    },
    {
     "name": "stderr",
     "output_type": "stream",
     "text": [
      "Epoch: 2: 100%|██████████| 118/118 [00:01<00:00, 69.23it/s]\n"
     ]
    },
    {
     "name": "stdout",
     "output_type": "stream",
     "text": [
      "Train Loss: 0.5600, Train Acc: 0.7133, Val Acc: 0.7220, Test Acc: 0.7129\n"
     ]
    },
    {
     "name": "stderr",
     "output_type": "stream",
     "text": [
      "Epoch: 3: 100%|██████████| 118/118 [00:01<00:00, 60.90it/s]\n"
     ]
    },
    {
     "name": "stdout",
     "output_type": "stream",
     "text": [
      "Train Loss: 0.5452, Train Acc: 0.7194, Val Acc: 0.7238, Test Acc: 0.7154\n"
     ]
    },
    {
     "name": "stderr",
     "output_type": "stream",
     "text": [
      "Epoch: 4: 100%|██████████| 118/118 [00:01<00:00, 66.57it/s]\n"
     ]
    },
    {
     "name": "stdout",
     "output_type": "stream",
     "text": [
      "Train Loss: 0.5383, Train Acc: 0.7221, Val Acc: 0.7224, Test Acc: 0.7169\n"
     ]
    },
    {
     "name": "stderr",
     "output_type": "stream",
     "text": [
      "Epoch: 5: 100%|██████████| 118/118 [00:02<00:00, 58.53it/s]\n"
     ]
    },
    {
     "name": "stdout",
     "output_type": "stream",
     "text": [
      "Train Loss: 0.5320, Train Acc: 0.7257, Val Acc: 0.7194, Test Acc: 0.7133\n"
     ]
    },
    {
     "name": "stderr",
     "output_type": "stream",
     "text": [
      "Epoch: 6: 100%|██████████| 118/118 [00:01<00:00, 63.60it/s]\n"
     ]
    },
    {
     "name": "stdout",
     "output_type": "stream",
     "text": [
      "Train Loss: 0.5251, Train Acc: 0.7291, Val Acc: 0.7206, Test Acc: 0.7097\n"
     ]
    },
    {
     "name": "stderr",
     "output_type": "stream",
     "text": [
      "Epoch: 7: 100%|██████████| 118/118 [00:01<00:00, 68.79it/s]\n"
     ]
    },
    {
     "name": "stdout",
     "output_type": "stream",
     "text": [
      "Train Loss: 0.5193, Train Acc: 0.7317, Val Acc: 0.7146, Test Acc: 0.7111\n"
     ]
    },
    {
     "name": "stderr",
     "output_type": "stream",
     "text": [
      "Epoch: 8: 100%|██████████| 118/118 [00:01<00:00, 67.69it/s]\n"
     ]
    },
    {
     "name": "stdout",
     "output_type": "stream",
     "text": [
      "Train Loss: 0.5147, Train Acc: 0.7361, Val Acc: 0.7164, Test Acc: 0.7097\n"
     ]
    },
    {
     "name": "stderr",
     "output_type": "stream",
     "text": [
      "Epoch: 9: 100%|██████████| 118/118 [00:01<00:00, 59.48it/s]\n"
     ]
    },
    {
     "name": "stdout",
     "output_type": "stream",
     "text": [
      "Train Loss: 0.5076, Train Acc: 0.7406, Val Acc: 0.7158, Test Acc: 0.7100\n"
     ]
    },
    {
     "name": "stderr",
     "output_type": "stream",
     "text": [
      "Epoch: 10: 100%|██████████| 118/118 [00:01<00:00, 70.85it/s]\n"
     ]
    },
    {
     "name": "stdout",
     "output_type": "stream",
     "text": [
      "Train Loss: 0.4990, Train Acc: 0.7467, Val Acc: 0.7166, Test Acc: 0.7071\n"
     ]
    },
    {
     "name": "stderr",
     "output_type": "stream",
     "text": [
      "Epoch: 11: 100%|██████████| 118/118 [00:02<00:00, 53.29it/s]\n"
     ]
    },
    {
     "name": "stdout",
     "output_type": "stream",
     "text": [
      "Train Loss: 0.4945, Train Acc: 0.7459, Val Acc: 0.7138, Test Acc: 0.7094\n"
     ]
    },
    {
     "name": "stderr",
     "output_type": "stream",
     "text": [
      "Epoch: 12: 100%|██████████| 118/118 [00:01<00:00, 67.96it/s]\n"
     ]
    },
    {
     "name": "stdout",
     "output_type": "stream",
     "text": [
      "Train Loss: 0.4865, Train Acc: 0.7543, Val Acc: 0.7144, Test Acc: 0.7038\n"
     ]
    },
    {
     "name": "stderr",
     "output_type": "stream",
     "text": [
      "Epoch: 13: 100%|██████████| 118/118 [00:01<00:00, 62.20it/s]\n"
     ]
    },
    {
     "name": "stdout",
     "output_type": "stream",
     "text": [
      "Train Loss: 0.4788, Train Acc: 0.7563, Val Acc: 0.7180, Test Acc: 0.7071\n"
     ]
    },
    {
     "name": "stderr",
     "output_type": "stream",
     "text": [
      "Epoch: 14: 100%|██████████| 118/118 [00:01<00:00, 59.98it/s]\n"
     ]
    },
    {
     "name": "stdout",
     "output_type": "stream",
     "text": [
      "Train Loss: 0.4728, Train Acc: 0.7636, Val Acc: 0.7130, Test Acc: 0.7019\n"
     ]
    },
    {
     "name": "stderr",
     "output_type": "stream",
     "text": [
      "Epoch: 15: 100%|██████████| 118/118 [00:01<00:00, 67.43it/s]\n"
     ]
    },
    {
     "name": "stdout",
     "output_type": "stream",
     "text": [
      "Train Loss: 0.4672, Train Acc: 0.7660, Val Acc: 0.7120, Test Acc: 0.7013\n",
      "Best Val Acc: 0.7238, Best Test Acc: 0.7154\n"
     ]
    },
    {
     "name": "stderr",
     "output_type": "stream",
     "text": [
      "Epoch: 1: 100%|██████████| 165/165 [00:02<00:00, 76.41it/s]\n"
     ]
    },
    {
     "name": "stdout",
     "output_type": "stream",
     "text": [
      "Train Loss: 0.6157, Train Acc: 0.7093, Val Acc: 0.7093, Test Acc: 0.7027\n"
     ]
    },
    {
     "name": "stderr",
     "output_type": "stream",
     "text": [
      "Epoch: 2: 100%|██████████| 165/165 [00:02<00:00, 60.93it/s]\n"
     ]
    },
    {
     "name": "stdout",
     "output_type": "stream",
     "text": [
      "Train Loss: 0.5517, Train Acc: 0.7200, Val Acc: 0.7159, Test Acc: 0.7147\n"
     ]
    },
    {
     "name": "stderr",
     "output_type": "stream",
     "text": [
      "Epoch: 3: 100%|██████████| 165/165 [00:02<00:00, 63.85it/s]\n"
     ]
    },
    {
     "name": "stdout",
     "output_type": "stream",
     "text": [
      "Train Loss: 0.5405, Train Acc: 0.7216, Val Acc: 0.7171, Test Acc: 0.7138\n"
     ]
    },
    {
     "name": "stderr",
     "output_type": "stream",
     "text": [
      "Epoch: 4: 100%|██████████| 165/165 [00:02<00:00, 56.45it/s]\n"
     ]
    },
    {
     "name": "stdout",
     "output_type": "stream",
     "text": [
      "Train Loss: 0.5361, Train Acc: 0.7233, Val Acc: 0.7193, Test Acc: 0.7151\n"
     ]
    },
    {
     "name": "stderr",
     "output_type": "stream",
     "text": [
      "Epoch: 5: 100%|██████████| 165/165 [00:03<00:00, 51.25it/s]\n"
     ]
    },
    {
     "name": "stdout",
     "output_type": "stream",
     "text": [
      "Train Loss: 0.5325, Train Acc: 0.7250, Val Acc: 0.7191, Test Acc: 0.7126\n"
     ]
    },
    {
     "name": "stderr",
     "output_type": "stream",
     "text": [
      "Epoch: 6: 100%|██████████| 165/165 [00:02<00:00, 67.13it/s]\n"
     ]
    },
    {
     "name": "stdout",
     "output_type": "stream",
     "text": [
      "Train Loss: 0.5275, Train Acc: 0.7287, Val Acc: 0.7150, Test Acc: 0.7116\n"
     ]
    },
    {
     "name": "stderr",
     "output_type": "stream",
     "text": [
      "Epoch: 7: 100%|██████████| 165/165 [00:02<00:00, 72.47it/s]\n"
     ]
    },
    {
     "name": "stdout",
     "output_type": "stream",
     "text": [
      "Train Loss: 0.5240, Train Acc: 0.7323, Val Acc: 0.7184, Test Acc: 0.7116\n"
     ]
    },
    {
     "name": "stderr",
     "output_type": "stream",
     "text": [
      "Epoch: 8: 100%|██████████| 165/165 [00:02<00:00, 66.34it/s]\n"
     ]
    },
    {
     "name": "stdout",
     "output_type": "stream",
     "text": [
      "Train Loss: 0.5180, Train Acc: 0.7354, Val Acc: 0.7160, Test Acc: 0.7080\n"
     ]
    },
    {
     "name": "stderr",
     "output_type": "stream",
     "text": [
      "Epoch: 9: 100%|██████████| 165/165 [00:02<00:00, 67.67it/s]\n"
     ]
    },
    {
     "name": "stdout",
     "output_type": "stream",
     "text": [
      "Train Loss: 0.5135, Train Acc: 0.7376, Val Acc: 0.7111, Test Acc: 0.7045\n"
     ]
    },
    {
     "name": "stderr",
     "output_type": "stream",
     "text": [
      "Epoch: 10: 100%|██████████| 165/165 [00:02<00:00, 62.65it/s]\n"
     ]
    },
    {
     "name": "stdout",
     "output_type": "stream",
     "text": [
      "Train Loss: 0.5066, Train Acc: 0.7428, Val Acc: 0.7119, Test Acc: 0.7041\n"
     ]
    },
    {
     "name": "stderr",
     "output_type": "stream",
     "text": [
      "Epoch: 11: 100%|██████████| 165/165 [00:02<00:00, 77.32it/s]\n"
     ]
    },
    {
     "name": "stdout",
     "output_type": "stream",
     "text": [
      "Train Loss: 0.5032, Train Acc: 0.7450, Val Acc: 0.7139, Test Acc: 0.7055\n"
     ]
    },
    {
     "name": "stderr",
     "output_type": "stream",
     "text": [
      "Epoch: 12: 100%|██████████| 165/165 [00:02<00:00, 70.00it/s]\n"
     ]
    },
    {
     "name": "stdout",
     "output_type": "stream",
     "text": [
      "Train Loss: 0.4975, Train Acc: 0.7477, Val Acc: 0.7119, Test Acc: 0.6995\n"
     ]
    },
    {
     "name": "stderr",
     "output_type": "stream",
     "text": [
      "Epoch: 13: 100%|██████████| 165/165 [00:02<00:00, 65.69it/s]\n"
     ]
    },
    {
     "name": "stdout",
     "output_type": "stream",
     "text": [
      "Train Loss: 0.4910, Train Acc: 0.7522, Val Acc: 0.7090, Test Acc: 0.6974\n"
     ]
    },
    {
     "name": "stderr",
     "output_type": "stream",
     "text": [
      "Epoch: 14: 100%|██████████| 165/165 [00:02<00:00, 69.11it/s]\n"
     ]
    },
    {
     "name": "stdout",
     "output_type": "stream",
     "text": [
      "Train Loss: 0.4860, Train Acc: 0.7570, Val Acc: 0.7097, Test Acc: 0.6990\n"
     ]
    },
    {
     "name": "stderr",
     "output_type": "stream",
     "text": [
      "Epoch: 15: 100%|██████████| 165/165 [00:02<00:00, 71.86it/s]\n"
     ]
    },
    {
     "name": "stdout",
     "output_type": "stream",
     "text": [
      "Train Loss: 0.4792, Train Acc: 0.7592, Val Acc: 0.7059, Test Acc: 0.6965\n",
      "Best Val Acc: 0.7193, Best Test Acc: 0.7151\n"
     ]
    }
   ],
   "source": [
    "from torch_frame import numerical, categorical, text_embedded, embedding\n",
    "\n",
    "data_sizes = [5000, 10000, 30000, 50000, 70000]\n",
    "tabnet_results = []\n",
    "\n",
    "for size in data_sizes:\n",
    "    df = pd.read_csv(\"alzheimers_prediction_dataset.csv\")\n",
    "\n",
    "    # 데이터 사이즈별 추출 \n",
    "    df = df.sample(n = size, random_state=42)\n",
    "\n",
    "    ## 칼럼 별 Dtype 지정 \n",
    "    col_to_stype={\"Country\" : categorical,\n",
    "                \"Age\" : numerical,\n",
    "                \"Gender\" : categorical,\n",
    "                \"Education Level\" : numerical,\n",
    "                \"BMI\" : numerical,\n",
    "                \"Physical Activity Level\" : categorical,\n",
    "                \"Smoking Status\" : categorical,\n",
    "                \"Alcohol Consumption\" : categorical,\n",
    "                \"Diabetes\" : categorical,\n",
    "                \"Hypertension\" : categorical,\n",
    "                \"Cholesterol Level\" : categorical,\n",
    "                \"Family History of Alzheimer’s\" : categorical,\n",
    "                \"Cognitive Test Score\" : numerical,\n",
    "                \"Depression Level\" : categorical,\n",
    "                \"Sleep Quality\" : categorical,\n",
    "                \"Dietary Habits\" : categorical,\n",
    "                \"Air Pollution Exposure\" : categorical,\n",
    "                \"Employment Status\" : categorical,\n",
    "                \"Marital Status\" : categorical,\n",
    "                \"Genetic Risk Factor (APOE-ε4 allele)\" : categorical,\n",
    "                \"Social Engagement Level\" : categorical,\n",
    "                \"Income Level\" : categorical,\n",
    "                \"Stress Levels\" : categorical,\n",
    "                \"Urban vs Rural Living\" : categorical,\n",
    "                \"Alzheimer’s Diagnosis\" : categorical\n",
    "                }\n",
    "\n",
    "    dataset = Dataset(df = df, \n",
    "                    col_to_stype = col_to_stype, \n",
    "                    target_col = \"Alzheimer’s Diagnosis\")\n",
    "\n",
    "    dataset.materialize()\n",
    "    \n",
    "    # 여기에 데이터 셋을 나누고 모델을 학습하는 코드 추가\n",
    "    train_dataset, val_dataset, test_dataset = dataset[:0.6], dataset[0.6:0.7], dataset[0.7:]\n",
    "    \n",
    "    train_tensor_frame = train_dataset.tensor_frame\n",
    "    val_tensor_frame = val_dataset.tensor_frame\n",
    "    test_tensor_frame = test_dataset.tensor_frame\n",
    "    train_loader = DataLoader(train_tensor_frame, batch_size=args.batch_size,\n",
    "                              shuffle=True)\n",
    "    val_loader = DataLoader(val_tensor_frame, batch_size=args.batch_size)\n",
    "    test_loader = DataLoader(test_tensor_frame, batch_size=args.batch_size)\n",
    "\n",
    "    # Set up model and optimizer\n",
    "    model = TabNet(\n",
    "        out_channels = 2,\n",
    "        num_layers=args.num_layers,\n",
    "        split_attn_channels=args.channels,\n",
    "        split_feat_channels=args.channels,\n",
    "        gamma=args.gamma,\n",
    "        col_stats=dataset.col_stats,\n",
    "        col_names_dict=train_tensor_frame.col_names_dict,\n",
    "    ).to(device)\n",
    "    model = torch.compile(model, dynamic=True) if args.compile else model\n",
    "    optimizer = torch.optim.Adam(model.parameters(), lr=args.lr)\n",
    "    lr_scheduler = ExponentialLR(optimizer, gamma=0.95)\n",
    "\n",
    "    \n",
    "    # 훈련 및 테스트\n",
    "    best_val_acc = 0\n",
    "    best_test_acc = 0\n",
    "    for epoch in range(1, args.epochs + 1):\n",
    "        train_loss = train(epoch)\n",
    "        train_acc = test(train_loader)\n",
    "        val_acc = test(val_loader)\n",
    "        test_acc = test(test_loader)\n",
    "        if best_val_acc < val_acc:\n",
    "            best_val_acc = val_acc\n",
    "            best_test_acc = test_acc\n",
    "        print(f'Train Loss: {train_loss:.4f}, Train Acc: {train_acc:.4f}, '\n",
    "              f'Val Acc: {val_acc:.4f}, Test Acc: {test_acc:.4f}')\n",
    "        lr_scheduler.step()\n",
    "\n",
    "    print(f'Best Val Acc: {best_val_acc:.4f}, Best Test Acc: {best_test_acc:.4f}')\n",
    "        \n",
    "    tabnet_results.append(best_test_metric)\n",
    "    "
   ]
  },
  {
   "cell_type": "code",
   "execution_count": 17,
   "metadata": {},
   "outputs": [
    {
     "data": {
      "image/png": "[encoded data removed]",
      "text/plain": [
       "<Figure size 1000x600 with 1 Axes>"
      ]
     },
     "metadata": {},
     "output_type": "display_data"
    }
   ],
   "source": [
    "# ✅ 그래프 그리기\n",
    "plt.figure(figsize=(10, 6))\n",
    "\n",
    "plt.plot(data_sizes, tabnet_results, marker=\"o\", linestyle=\"-\", label=\"TabNet Accuracy\")\n",
    "\n",
    "\n",
    "#plt.xscale(\"log\")  # 로그 스케일 적용 (샘플 크기가 큰 차이가 나기 때문)\n",
    "plt.xlabel(\"Sample Size\")\n",
    "plt.ylabel(\"Performance Score\")\n",
    "plt.title(\"Sample Size vs Model Performance\")\n",
    "plt.legend()\n",
    "plt.grid(True)\n",
    "plt.show()"
   ]
  },
  {
   "cell_type": "markdown",
   "metadata": {},
   "source": [
    "### Tab_Transformer"
   ]
  },
  {
   "cell_type": "code",
   "execution_count": 18,
   "metadata": {},
   "outputs": [],
   "source": [
    "# Jupyter에서 실행될 때는 sys.argv를 조정\n",
    "parser = argparse.ArgumentParser()\n",
    "parser.add_argument('--dataset', type=str, default='dota2',\n",
    "                    choices=[\"adult\", \"dota2\", \"bank-marketing\"])\n",
    "parser.add_argument('--channels', type=int, default=32)\n",
    "parser.add_argument('--num_heads', type=int, default=8)\n",
    "parser.add_argument('--num_layers', type=int, default=6)\n",
    "parser.add_argument('--encoder_pad_size', type=int, default=2)\n",
    "parser.add_argument('--attention_dropout', type=float, default=0.3)\n",
    "parser.add_argument('--ffn_dropout', type=float, default=0.3)\n",
    "parser.add_argument('--batch_size', type=int, default=128)\n",
    "parser.add_argument('--lr', type=float, default=0.0001)\n",
    "parser.add_argument('--epochs', type=int, default=50)\n",
    "parser.add_argument('--seed', type=int, default=0)\n",
    "parser.add_argument('--compile', action='store_true')\n",
    "\n",
    "args = parser.parse_args([\n",
    "    '--channels', '256',\n",
    "    '--num_layers', '4',\n",
    "    '--batch_size', '256',  # 데이터를 256개씩 한번에 \n",
    "    '--lr', '0.0001',\n",
    "    '--epochs', '15',\n",
    "    '--seed', '0'\n",
    "])"
   ]
  },
  {
   "cell_type": "code",
   "execution_count": 19,
   "metadata": {},
   "outputs": [],
   "source": [
    "def train(epoch: int) -> float:\n",
    "    model.train()\n",
    "    loss_accum = total_count = 0\n",
    "\n",
    "    for tf in tqdm(train_loader, desc=f'Epoch: {epoch}'):\n",
    "        tf = tf.to(device)\n",
    "        pred = model.forward(tf)\n",
    "        loss = F.cross_entropy(pred, tf.y.long())   # expected scalar type Long but found Float 때문에 tf.y => tf.y.long()\n",
    "        optimizer.zero_grad()\n",
    "        loss.backward()\n",
    "        loss_accum += float(loss) * len(tf.y)\n",
    "        total_count += len(tf.y)\n",
    "        optimizer.step()\n",
    "    return loss_accum / total_count\n",
    "\n",
    "\n",
    "@torch.no_grad()\n",
    "def test(loader: DataLoader) -> float:\n",
    "    model.eval()\n",
    "    accum = total_count = 0\n",
    "\n",
    "    for tf in loader:\n",
    "        tf = tf.to(device)\n",
    "        pred = model(tf)\n",
    "        if is_classification:\n",
    "            pred_class = pred.argmax(dim=-1)\n",
    "            accum += float((tf.y == pred_class).sum())\n",
    "        else:\n",
    "            accum += float(\n",
    "                F.mse_loss(pred.view(-1), tf.y.view(-1), reduction='sum'))\n",
    "        total_count += len(tf.y)\n",
    "\n",
    "    if is_classification:\n",
    "        accuracy = accum / total_count\n",
    "        return accuracy\n",
    "    else:\n",
    "        rmse = (accum / total_count)**0.5\n",
    "        return rmse"
   ]
  },
  {
   "cell_type": "code",
   "execution_count": 20,
   "metadata": {},
   "outputs": [
    {
     "name": "stderr",
     "output_type": "stream",
     "text": [
      "Epoch: 1: 100%|██████████| 12/12 [00:01<00:00, 11.09it/s]\n"
     ]
    },
    {
     "name": "stdout",
     "output_type": "stream",
     "text": [
      "Train Loss: 2.8653, Train ACC: 0.6543, Val ACC: 0.6800, Test ACC: 0.6540\n"
     ]
    },
    {
     "name": "stderr",
     "output_type": "stream",
     "text": [
      "Epoch: 2: 100%|██████████| 12/12 [00:00<00:00, 14.97it/s]\n"
     ]
    },
    {
     "name": "stdout",
     "output_type": "stream",
     "text": [
      "Train Loss: 2.7808, Train ACC: 0.6310, Val ACC: 0.6140, Test ACC: 0.6260\n"
     ]
    },
    {
     "name": "stderr",
     "output_type": "stream",
     "text": [
      "Epoch: 3: 100%|██████████| 12/12 [00:00<00:00, 15.12it/s]\n"
     ]
    },
    {
     "name": "stdout",
     "output_type": "stream",
     "text": [
      "Train Loss: 1.7009, Train ACC: 0.6497, Val ACC: 0.6560, Test ACC: 0.6360\n"
     ]
    },
    {
     "name": "stderr",
     "output_type": "stream",
     "text": [
      "Epoch: 4: 100%|██████████| 12/12 [00:00<00:00, 14.97it/s]\n"
     ]
    },
    {
     "name": "stdout",
     "output_type": "stream",
     "text": [
      "Train Loss: 1.2286, Train ACC: 0.6357, Val ACC: 0.6860, Test ACC: 0.6447\n"
     ]
    },
    {
     "name": "stderr",
     "output_type": "stream",
     "text": [
      "Epoch: 5: 100%|██████████| 12/12 [00:00<00:00, 14.30it/s]\n"
     ]
    },
    {
     "name": "stdout",
     "output_type": "stream",
     "text": [
      "Train Loss: 1.0758, Train ACC: 0.6527, Val ACC: 0.6400, Test ACC: 0.6527\n"
     ]
    },
    {
     "name": "stderr",
     "output_type": "stream",
     "text": [
      "Epoch: 6: 100%|██████████| 12/12 [00:00<00:00, 15.06it/s]\n"
     ]
    },
    {
     "name": "stdout",
     "output_type": "stream",
     "text": [
      "Train Loss: 0.8164, Train ACC: 0.6753, Val ACC: 0.6740, Test ACC: 0.6640\n"
     ]
    },
    {
     "name": "stderr",
     "output_type": "stream",
     "text": [
      "Epoch: 7: 100%|██████████| 12/12 [00:00<00:00, 14.97it/s]\n"
     ]
    },
    {
     "name": "stdout",
     "output_type": "stream",
     "text": [
      "Train Loss: 0.7388, Train ACC: 0.6693, Val ACC: 0.6760, Test ACC: 0.6613\n"
     ]
    },
    {
     "name": "stderr",
     "output_type": "stream",
     "text": [
      "Epoch: 8: 100%|██████████| 12/12 [00:00<00:00, 15.09it/s]\n"
     ]
    },
    {
     "name": "stdout",
     "output_type": "stream",
     "text": [
      "Train Loss: 0.6861, Train ACC: 0.6623, Val ACC: 0.6920, Test ACC: 0.6573\n"
     ]
    },
    {
     "name": "stderr",
     "output_type": "stream",
     "text": [
      "Epoch: 9: 100%|██████████| 12/12 [00:00<00:00, 15.06it/s]\n"
     ]
    },
    {
     "name": "stdout",
     "output_type": "stream",
     "text": [
      "Train Loss: 0.6762, Train ACC: 0.6667, Val ACC: 0.6800, Test ACC: 0.6540\n"
     ]
    },
    {
     "name": "stderr",
     "output_type": "stream",
     "text": [
      "Epoch: 10: 100%|██████████| 12/12 [00:00<00:00, 14.96it/s]\n"
     ]
    },
    {
     "name": "stdout",
     "output_type": "stream",
     "text": [
      "Train Loss: 0.6411, Train ACC: 0.6600, Val ACC: 0.6720, Test ACC: 0.6513\n"
     ]
    },
    {
     "name": "stderr",
     "output_type": "stream",
     "text": [
      "Epoch: 11: 100%|██████████| 12/12 [00:00<00:00, 14.97it/s]\n"
     ]
    },
    {
     "name": "stdout",
     "output_type": "stream",
     "text": [
      "Train Loss: 0.6384, Train ACC: 0.6713, Val ACC: 0.6740, Test ACC: 0.6680\n"
     ]
    },
    {
     "name": "stderr",
     "output_type": "stream",
     "text": [
      "Epoch: 12: 100%|██████████| 12/12 [00:00<00:00, 12.67it/s]\n"
     ]
    },
    {
     "name": "stdout",
     "output_type": "stream",
     "text": [
      "Train Loss: 0.6359, Train ACC: 0.6740, Val ACC: 0.6920, Test ACC: 0.6613\n"
     ]
    },
    {
     "name": "stderr",
     "output_type": "stream",
     "text": [
      "Epoch: 13: 100%|██████████| 12/12 [00:00<00:00, 14.99it/s]\n"
     ]
    },
    {
     "name": "stdout",
     "output_type": "stream",
     "text": [
      "Train Loss: 0.6257, Train ACC: 0.6817, Val ACC: 0.6880, Test ACC: 0.6787\n"
     ]
    },
    {
     "name": "stderr",
     "output_type": "stream",
     "text": [
      "Epoch: 14: 100%|██████████| 12/12 [00:00<00:00, 13.27it/s]\n"
     ]
    },
    {
     "name": "stdout",
     "output_type": "stream",
     "text": [
      "Train Loss: 0.6241, Train ACC: 0.6810, Val ACC: 0.6920, Test ACC: 0.6773\n"
     ]
    },
    {
     "name": "stderr",
     "output_type": "stream",
     "text": [
      "Epoch: 15: 100%|██████████| 12/12 [00:00<00:00, 15.02it/s]\n"
     ]
    },
    {
     "name": "stdout",
     "output_type": "stream",
     "text": [
      "Train Loss: 0.6149, Train ACC: 0.6657, Val ACC: 0.6780, Test ACC: 0.6600\n",
      "Best Val ACC: 0.6920, Best Test ACC: 0.6573\n"
     ]
    },
    {
     "name": "stderr",
     "output_type": "stream",
     "text": [
      "Epoch: 1: 100%|██████████| 24/24 [00:01<00:00, 14.61it/s]\n"
     ]
    },
    {
     "name": "stdout",
     "output_type": "stream",
     "text": [
      "Train Loss: 2.7933, Train ACC: 0.5590, Val ACC: 0.5460, Test ACC: 0.5530\n"
     ]
    },
    {
     "name": "stderr",
     "output_type": "stream",
     "text": [
      "Epoch: 2: 100%|██████████| 24/24 [00:01<00:00, 14.34it/s]\n"
     ]
    },
    {
     "name": "stdout",
     "output_type": "stream",
     "text": [
      "Train Loss: 1.5045, Train ACC: 0.6417, Val ACC: 0.6450, Test ACC: 0.6420\n"
     ]
    },
    {
     "name": "stderr",
     "output_type": "stream",
     "text": [
      "Epoch: 3: 100%|██████████| 24/24 [00:01<00:00, 13.94it/s]\n"
     ]
    },
    {
     "name": "stdout",
     "output_type": "stream",
     "text": [
      "Train Loss: 0.9181, Train ACC: 0.6490, Val ACC: 0.6530, Test ACC: 0.6497\n"
     ]
    },
    {
     "name": "stderr",
     "output_type": "stream",
     "text": [
      "Epoch: 4: 100%|██████████| 24/24 [00:01<00:00, 14.81it/s]\n"
     ]
    },
    {
     "name": "stdout",
     "output_type": "stream",
     "text": [
      "Train Loss: 0.7109, Train ACC: 0.6662, Val ACC: 0.6660, Test ACC: 0.6847\n"
     ]
    },
    {
     "name": "stderr",
     "output_type": "stream",
     "text": [
      "Epoch: 5: 100%|██████████| 24/24 [00:01<00:00, 14.76it/s]\n"
     ]
    },
    {
     "name": "stdout",
     "output_type": "stream",
     "text": [
      "Train Loss: 0.6563, Train ACC: 0.6555, Val ACC: 0.6680, Test ACC: 0.6590\n"
     ]
    },
    {
     "name": "stderr",
     "output_type": "stream",
     "text": [
      "Epoch: 6: 100%|██████████| 24/24 [00:01<00:00, 14.83it/s]\n"
     ]
    },
    {
     "name": "stdout",
     "output_type": "stream",
     "text": [
      "Train Loss: 0.6382, Train ACC: 0.6743, Val ACC: 0.6880, Test ACC: 0.6727\n"
     ]
    },
    {
     "name": "stderr",
     "output_type": "stream",
     "text": [
      "Epoch: 7: 100%|██████████| 24/24 [00:01<00:00, 14.12it/s]\n"
     ]
    },
    {
     "name": "stdout",
     "output_type": "stream",
     "text": [
      "Train Loss: 0.6287, Train ACC: 0.6857, Val ACC: 0.6730, Test ACC: 0.6793\n"
     ]
    },
    {
     "name": "stderr",
     "output_type": "stream",
     "text": [
      "Epoch: 8: 100%|██████████| 24/24 [00:01<00:00, 14.77it/s]\n"
     ]
    },
    {
     "name": "stdout",
     "output_type": "stream",
     "text": [
      "Train Loss: 0.6222, Train ACC: 0.6688, Val ACC: 0.6930, Test ACC: 0.6757\n"
     ]
    },
    {
     "name": "stderr",
     "output_type": "stream",
     "text": [
      "Epoch: 9: 100%|██████████| 24/24 [00:01<00:00, 14.81it/s]\n"
     ]
    },
    {
     "name": "stdout",
     "output_type": "stream",
     "text": [
      "Train Loss: 0.6200, Train ACC: 0.6697, Val ACC: 0.6700, Test ACC: 0.6777\n"
     ]
    },
    {
     "name": "stderr",
     "output_type": "stream",
     "text": [
      "Epoch: 10: 100%|██████████| 24/24 [00:01<00:00, 14.74it/s]\n"
     ]
    },
    {
     "name": "stdout",
     "output_type": "stream",
     "text": [
      "Train Loss: 0.6092, Train ACC: 0.6803, Val ACC: 0.6750, Test ACC: 0.6773\n"
     ]
    },
    {
     "name": "stderr",
     "output_type": "stream",
     "text": [
      "Epoch: 11: 100%|██████████| 24/24 [00:01<00:00, 14.75it/s]\n"
     ]
    },
    {
     "name": "stdout",
     "output_type": "stream",
     "text": [
      "Train Loss: 0.6175, Train ACC: 0.6673, Val ACC: 0.6620, Test ACC: 0.6740\n"
     ]
    },
    {
     "name": "stderr",
     "output_type": "stream",
     "text": [
      "Epoch: 12: 100%|██████████| 24/24 [00:01<00:00, 14.82it/s]\n"
     ]
    },
    {
     "name": "stdout",
     "output_type": "stream",
     "text": [
      "Train Loss: 0.6109, Train ACC: 0.6722, Val ACC: 0.6630, Test ACC: 0.6763\n"
     ]
    },
    {
     "name": "stderr",
     "output_type": "stream",
     "text": [
      "Epoch: 13: 100%|██████████| 24/24 [00:01<00:00, 14.77it/s]\n"
     ]
    },
    {
     "name": "stdout",
     "output_type": "stream",
     "text": [
      "Train Loss: 0.6112, Train ACC: 0.6752, Val ACC: 0.6730, Test ACC: 0.6857\n"
     ]
    },
    {
     "name": "stderr",
     "output_type": "stream",
     "text": [
      "Epoch: 14: 100%|██████████| 24/24 [00:01<00:00, 14.46it/s]\n"
     ]
    },
    {
     "name": "stdout",
     "output_type": "stream",
     "text": [
      "Train Loss: 0.6149, Train ACC: 0.6763, Val ACC: 0.6830, Test ACC: 0.6760\n"
     ]
    },
    {
     "name": "stderr",
     "output_type": "stream",
     "text": [
      "Epoch: 15: 100%|██████████| 24/24 [00:01<00:00, 14.75it/s]\n"
     ]
    },
    {
     "name": "stdout",
     "output_type": "stream",
     "text": [
      "Train Loss: 0.6077, Train ACC: 0.6758, Val ACC: 0.6850, Test ACC: 0.6757\n",
      "Best Val ACC: 0.6930, Best Test ACC: 0.6757\n"
     ]
    },
    {
     "name": "stderr",
     "output_type": "stream",
     "text": [
      "Epoch: 1: 100%|██████████| 71/71 [00:04<00:00, 14.37it/s]\n"
     ]
    },
    {
     "name": "stdout",
     "output_type": "stream",
     "text": [
      "Train Loss: 1.6938, Train ACC: 0.6693, Val ACC: 0.6747, Test ACC: 0.6592\n"
     ]
    },
    {
     "name": "stderr",
     "output_type": "stream",
     "text": [
      "Epoch: 2: 100%|██████████| 71/71 [00:04<00:00, 14.43it/s]\n"
     ]
    },
    {
     "name": "stdout",
     "output_type": "stream",
     "text": [
      "Train Loss: 0.6611, Train ACC: 0.6599, Val ACC: 0.6607, Test ACC: 0.6493\n"
     ]
    },
    {
     "name": "stderr",
     "output_type": "stream",
     "text": [
      "Epoch: 3: 100%|██████████| 71/71 [00:04<00:00, 14.36it/s]\n"
     ]
    },
    {
     "name": "stdout",
     "output_type": "stream",
     "text": [
      "Train Loss: 0.6280, Train ACC: 0.6716, Val ACC: 0.6737, Test ACC: 0.6533\n"
     ]
    },
    {
     "name": "stderr",
     "output_type": "stream",
     "text": [
      "Epoch: 4: 100%|██████████| 71/71 [00:05<00:00, 14.11it/s]\n"
     ]
    },
    {
     "name": "stdout",
     "output_type": "stream",
     "text": [
      "Train Loss: 0.6224, Train ACC: 0.6734, Val ACC: 0.6683, Test ACC: 0.6571\n"
     ]
    },
    {
     "name": "stderr",
     "output_type": "stream",
     "text": [
      "Epoch: 5: 100%|██████████| 71/71 [00:04<00:00, 14.26it/s]\n"
     ]
    },
    {
     "name": "stdout",
     "output_type": "stream",
     "text": [
      "Train Loss: 0.6203, Train ACC: 0.6682, Val ACC: 0.6567, Test ACC: 0.6523\n"
     ]
    },
    {
     "name": "stderr",
     "output_type": "stream",
     "text": [
      "Epoch: 6: 100%|██████████| 71/71 [00:04<00:00, 14.29it/s]\n"
     ]
    },
    {
     "name": "stdout",
     "output_type": "stream",
     "text": [
      "Train Loss: 0.6168, Train ACC: 0.6658, Val ACC: 0.6633, Test ACC: 0.6494\n"
     ]
    },
    {
     "name": "stderr",
     "output_type": "stream",
     "text": [
      "Epoch: 7: 100%|██████████| 71/71 [00:04<00:00, 14.38it/s]\n"
     ]
    },
    {
     "name": "stdout",
     "output_type": "stream",
     "text": [
      "Train Loss: 0.6166, Train ACC: 0.6356, Val ACC: 0.6230, Test ACC: 0.6222\n"
     ]
    },
    {
     "name": "stderr",
     "output_type": "stream",
     "text": [
      "Epoch: 8: 100%|██████████| 71/71 [00:04<00:00, 14.48it/s]\n"
     ]
    },
    {
     "name": "stdout",
     "output_type": "stream",
     "text": [
      "Train Loss: 0.6207, Train ACC: 0.6684, Val ACC: 0.6563, Test ACC: 0.6552\n"
     ]
    },
    {
     "name": "stderr",
     "output_type": "stream",
     "text": [
      "Epoch: 9: 100%|██████████| 71/71 [00:04<00:00, 14.47it/s]\n"
     ]
    },
    {
     "name": "stdout",
     "output_type": "stream",
     "text": [
      "Train Loss: 0.6097, Train ACC: 0.6598, Val ACC: 0.6470, Test ACC: 0.6491\n"
     ]
    },
    {
     "name": "stderr",
     "output_type": "stream",
     "text": [
      "Epoch: 10: 100%|██████████| 71/71 [00:04<00:00, 14.36it/s]\n"
     ]
    },
    {
     "name": "stdout",
     "output_type": "stream",
     "text": [
      "Train Loss: 0.6083, Train ACC: 0.6736, Val ACC: 0.6717, Test ACC: 0.6567\n"
     ]
    },
    {
     "name": "stderr",
     "output_type": "stream",
     "text": [
      "Epoch: 11: 100%|██████████| 71/71 [00:04<00:00, 14.23it/s]\n"
     ]
    },
    {
     "name": "stdout",
     "output_type": "stream",
     "text": [
      "Train Loss: 0.6069, Train ACC: 0.6567, Val ACC: 0.6563, Test ACC: 0.6416\n"
     ]
    },
    {
     "name": "stderr",
     "output_type": "stream",
     "text": [
      "Epoch: 12: 100%|██████████| 71/71 [00:05<00:00, 13.90it/s]\n"
     ]
    },
    {
     "name": "stdout",
     "output_type": "stream",
     "text": [
      "Train Loss: 0.6061, Train ACC: 0.6727, Val ACC: 0.6667, Test ACC: 0.6602\n"
     ]
    },
    {
     "name": "stderr",
     "output_type": "stream",
     "text": [
      "Epoch: 13: 100%|██████████| 71/71 [00:05<00:00, 14.03it/s]\n"
     ]
    },
    {
     "name": "stdout",
     "output_type": "stream",
     "text": [
      "Train Loss: 0.6027, Train ACC: 0.6667, Val ACC: 0.6600, Test ACC: 0.6504\n"
     ]
    },
    {
     "name": "stderr",
     "output_type": "stream",
     "text": [
      "Epoch: 14: 100%|██████████| 71/71 [00:04<00:00, 14.43it/s]\n"
     ]
    },
    {
     "name": "stdout",
     "output_type": "stream",
     "text": [
      "Train Loss: 0.6017, Train ACC: 0.6725, Val ACC: 0.6637, Test ACC: 0.6523\n"
     ]
    },
    {
     "name": "stderr",
     "output_type": "stream",
     "text": [
      "Epoch: 15: 100%|██████████| 71/71 [00:04<00:00, 14.41it/s]\n"
     ]
    },
    {
     "name": "stdout",
     "output_type": "stream",
     "text": [
      "Train Loss: 0.6013, Train ACC: 0.6780, Val ACC: 0.6727, Test ACC: 0.6628\n",
      "Best Val ACC: 0.6747, Best Test ACC: 0.6592\n"
     ]
    },
    {
     "name": "stderr",
     "output_type": "stream",
     "text": [
      "Epoch: 1: 100%|██████████| 118/118 [00:08<00:00, 13.65it/s]\n"
     ]
    },
    {
     "name": "stdout",
     "output_type": "stream",
     "text": [
      "Train Loss: 1.2968, Train ACC: 0.6630, Val ACC: 0.6702, Test ACC: 0.6677\n"
     ]
    },
    {
     "name": "stderr",
     "output_type": "stream",
     "text": [
      "Epoch: 2: 100%|██████████| 118/118 [00:08<00:00, 14.30it/s]\n"
     ]
    },
    {
     "name": "stdout",
     "output_type": "stream",
     "text": [
      "Train Loss: 0.6340, Train ACC: 0.6567, Val ACC: 0.6608, Test ACC: 0.6655\n"
     ]
    },
    {
     "name": "stderr",
     "output_type": "stream",
     "text": [
      "Epoch: 3: 100%|██████████| 118/118 [00:08<00:00, 14.33it/s]\n"
     ]
    },
    {
     "name": "stdout",
     "output_type": "stream",
     "text": [
      "Train Loss: 0.6278, Train ACC: 0.6432, Val ACC: 0.6482, Test ACC: 0.6514\n"
     ]
    },
    {
     "name": "stderr",
     "output_type": "stream",
     "text": [
      "Epoch: 4: 100%|██████████| 118/118 [00:08<00:00, 14.40it/s]\n"
     ]
    },
    {
     "name": "stdout",
     "output_type": "stream",
     "text": [
      "Train Loss: 0.6217, Train ACC: 0.6597, Val ACC: 0.6672, Test ACC: 0.6644\n"
     ]
    },
    {
     "name": "stderr",
     "output_type": "stream",
     "text": [
      "Epoch: 5: 100%|██████████| 118/118 [00:08<00:00, 14.45it/s]\n"
     ]
    },
    {
     "name": "stdout",
     "output_type": "stream",
     "text": [
      "Train Loss: 0.6147, Train ACC: 0.6620, Val ACC: 0.6620, Test ACC: 0.6631\n"
     ]
    },
    {
     "name": "stderr",
     "output_type": "stream",
     "text": [
      "Epoch: 6: 100%|██████████| 118/118 [00:08<00:00, 14.38it/s]\n"
     ]
    },
    {
     "name": "stdout",
     "output_type": "stream",
     "text": [
      "Train Loss: 0.6197, Train ACC: 0.6538, Val ACC: 0.6606, Test ACC: 0.6581\n"
     ]
    },
    {
     "name": "stderr",
     "output_type": "stream",
     "text": [
      "Epoch: 7: 100%|██████████| 118/118 [00:08<00:00, 14.21it/s]\n"
     ]
    },
    {
     "name": "stdout",
     "output_type": "stream",
     "text": [
      "Train Loss: 0.6064, Train ACC: 0.6607, Val ACC: 0.6680, Test ACC: 0.6613\n"
     ]
    },
    {
     "name": "stderr",
     "output_type": "stream",
     "text": [
      "Epoch: 8: 100%|██████████| 118/118 [00:08<00:00, 14.45it/s]\n"
     ]
    },
    {
     "name": "stdout",
     "output_type": "stream",
     "text": [
      "Train Loss: 0.6029, Train ACC: 0.6651, Val ACC: 0.6716, Test ACC: 0.6676\n"
     ]
    },
    {
     "name": "stderr",
     "output_type": "stream",
     "text": [
      "Epoch: 9: 100%|██████████| 118/118 [00:08<00:00, 14.09it/s]\n"
     ]
    },
    {
     "name": "stdout",
     "output_type": "stream",
     "text": [
      "Train Loss: 0.6018, Train ACC: 0.6715, Val ACC: 0.6804, Test ACC: 0.6715\n"
     ]
    },
    {
     "name": "stderr",
     "output_type": "stream",
     "text": [
      "Epoch: 10: 100%|██████████| 118/118 [00:08<00:00, 14.47it/s]\n"
     ]
    },
    {
     "name": "stdout",
     "output_type": "stream",
     "text": [
      "Train Loss: 0.6023, Train ACC: 0.6736, Val ACC: 0.6792, Test ACC: 0.6786\n"
     ]
    },
    {
     "name": "stderr",
     "output_type": "stream",
     "text": [
      "Epoch: 11: 100%|██████████| 118/118 [00:08<00:00, 14.29it/s]\n"
     ]
    },
    {
     "name": "stdout",
     "output_type": "stream",
     "text": [
      "Train Loss: 0.6009, Train ACC: 0.6645, Val ACC: 0.6720, Test ACC: 0.6621\n"
     ]
    },
    {
     "name": "stderr",
     "output_type": "stream",
     "text": [
      "Epoch: 12: 100%|██████████| 118/118 [00:08<00:00, 14.19it/s]\n"
     ]
    },
    {
     "name": "stdout",
     "output_type": "stream",
     "text": [
      "Train Loss: 0.5919, Train ACC: 0.6768, Val ACC: 0.6818, Test ACC: 0.6769\n"
     ]
    },
    {
     "name": "stderr",
     "output_type": "stream",
     "text": [
      "Epoch: 13: 100%|██████████| 118/118 [00:08<00:00, 14.25it/s]\n"
     ]
    },
    {
     "name": "stdout",
     "output_type": "stream",
     "text": [
      "Train Loss: 0.5958, Train ACC: 0.6782, Val ACC: 0.6812, Test ACC: 0.6739\n"
     ]
    },
    {
     "name": "stderr",
     "output_type": "stream",
     "text": [
      "Epoch: 14: 100%|██████████| 118/118 [00:08<00:00, 14.31it/s]\n"
     ]
    },
    {
     "name": "stdout",
     "output_type": "stream",
     "text": [
      "Train Loss: 0.5951, Train ACC: 0.6782, Val ACC: 0.6814, Test ACC: 0.6804\n"
     ]
    },
    {
     "name": "stderr",
     "output_type": "stream",
     "text": [
      "Epoch: 15: 100%|██████████| 118/118 [00:08<00:00, 14.30it/s]\n"
     ]
    },
    {
     "name": "stdout",
     "output_type": "stream",
     "text": [
      "Train Loss: 0.5938, Train ACC: 0.6602, Val ACC: 0.6626, Test ACC: 0.6644\n",
      "Best Val ACC: 0.6818, Best Test ACC: 0.6769\n"
     ]
    },
    {
     "name": "stderr",
     "output_type": "stream",
     "text": [
      "Epoch: 1: 100%|██████████| 165/165 [00:11<00:00, 14.33it/s]\n"
     ]
    },
    {
     "name": "stdout",
     "output_type": "stream",
     "text": [
      "Train Loss: 1.1206, Train ACC: 0.6425, Val ACC: 0.6541, Test ACC: 0.6423\n"
     ]
    },
    {
     "name": "stderr",
     "output_type": "stream",
     "text": [
      "Epoch: 2: 100%|██████████| 165/165 [00:12<00:00, 13.74it/s]\n"
     ]
    },
    {
     "name": "stdout",
     "output_type": "stream",
     "text": [
      "Train Loss: 0.6299, Train ACC: 0.6339, Val ACC: 0.6416, Test ACC: 0.6326\n"
     ]
    },
    {
     "name": "stderr",
     "output_type": "stream",
     "text": [
      "Epoch: 3: 100%|██████████| 165/165 [00:11<00:00, 14.01it/s]\n"
     ]
    },
    {
     "name": "stdout",
     "output_type": "stream",
     "text": [
      "Train Loss: 0.6235, Train ACC: 0.6522, Val ACC: 0.6536, Test ACC: 0.6548\n"
     ]
    },
    {
     "name": "stderr",
     "output_type": "stream",
     "text": [
      "Epoch: 4: 100%|██████████| 165/165 [00:11<00:00, 13.76it/s]\n"
     ]
    },
    {
     "name": "stdout",
     "output_type": "stream",
     "text": [
      "Train Loss: 0.6207, Train ACC: 0.5023, Val ACC: 0.4927, Test ACC: 0.5033\n"
     ]
    },
    {
     "name": "stderr",
     "output_type": "stream",
     "text": [
      "Epoch: 5: 100%|██████████| 165/165 [00:11<00:00, 13.86it/s]\n"
     ]
    },
    {
     "name": "stdout",
     "output_type": "stream",
     "text": [
      "Train Loss: 0.6162, Train ACC: 0.6609, Val ACC: 0.6689, Test ACC: 0.6599\n"
     ]
    },
    {
     "name": "stderr",
     "output_type": "stream",
     "text": [
      "Epoch: 6: 100%|██████████| 165/165 [00:11<00:00, 14.03it/s]\n"
     ]
    },
    {
     "name": "stdout",
     "output_type": "stream",
     "text": [
      "Train Loss: 0.6072, Train ACC: 0.6639, Val ACC: 0.6699, Test ACC: 0.6639\n"
     ]
    },
    {
     "name": "stderr",
     "output_type": "stream",
     "text": [
      "Epoch: 7: 100%|██████████| 165/165 [00:11<00:00, 14.16it/s]\n"
     ]
    },
    {
     "name": "stdout",
     "output_type": "stream",
     "text": [
      "Train Loss: 0.6047, Train ACC: 0.6690, Val ACC: 0.6773, Test ACC: 0.6709\n"
     ]
    },
    {
     "name": "stderr",
     "output_type": "stream",
     "text": [
      "Epoch: 8: 100%|██████████| 165/165 [00:12<00:00, 13.65it/s]\n"
     ]
    },
    {
     "name": "stdout",
     "output_type": "stream",
     "text": [
      "Train Loss: 0.6001, Train ACC: 0.6673, Val ACC: 0.6789, Test ACC: 0.6680\n"
     ]
    },
    {
     "name": "stderr",
     "output_type": "stream",
     "text": [
      "Epoch: 9: 100%|██████████| 165/165 [00:11<00:00, 13.99it/s]\n"
     ]
    },
    {
     "name": "stdout",
     "output_type": "stream",
     "text": [
      "Train Loss: 0.6019, Train ACC: 0.6807, Val ACC: 0.6819, Test ACC: 0.6786\n"
     ]
    },
    {
     "name": "stderr",
     "output_type": "stream",
     "text": [
      "Epoch: 10: 100%|██████████| 165/165 [00:11<00:00, 13.93it/s]\n"
     ]
    },
    {
     "name": "stdout",
     "output_type": "stream",
     "text": [
      "Train Loss: 0.5962, Train ACC: 0.6796, Val ACC: 0.6840, Test ACC: 0.6782\n"
     ]
    },
    {
     "name": "stderr",
     "output_type": "stream",
     "text": [
      "Epoch: 11: 100%|██████████| 165/165 [00:11<00:00, 13.98it/s]\n"
     ]
    },
    {
     "name": "stdout",
     "output_type": "stream",
     "text": [
      "Train Loss: 0.5945, Train ACC: 0.6780, Val ACC: 0.6796, Test ACC: 0.6765\n"
     ]
    },
    {
     "name": "stderr",
     "output_type": "stream",
     "text": [
      "Epoch: 12: 100%|██████████| 165/165 [00:11<00:00, 13.98it/s]\n"
     ]
    },
    {
     "name": "stdout",
     "output_type": "stream",
     "text": [
      "Train Loss: 0.5914, Train ACC: 0.6859, Val ACC: 0.6873, Test ACC: 0.6841\n"
     ]
    },
    {
     "name": "stderr",
     "output_type": "stream",
     "text": [
      "Epoch: 13: 100%|██████████| 165/165 [00:11<00:00, 13.96it/s]\n"
     ]
    },
    {
     "name": "stdout",
     "output_type": "stream",
     "text": [
      "Train Loss: 0.5910, Train ACC: 0.6824, Val ACC: 0.6869, Test ACC: 0.6786\n"
     ]
    },
    {
     "name": "stderr",
     "output_type": "stream",
     "text": [
      "Epoch: 14: 100%|██████████| 165/165 [00:11<00:00, 14.13it/s]\n"
     ]
    },
    {
     "name": "stdout",
     "output_type": "stream",
     "text": [
      "Train Loss: 0.5867, Train ACC: 0.6653, Val ACC: 0.6637, Test ACC: 0.6627\n"
     ]
    },
    {
     "name": "stderr",
     "output_type": "stream",
     "text": [
      "Epoch: 15: 100%|██████████| 165/165 [00:11<00:00, 13.81it/s]\n"
     ]
    },
    {
     "name": "stdout",
     "output_type": "stream",
     "text": [
      "Train Loss: 0.5870, Train ACC: 0.5927, Val ACC: 0.5943, Test ACC: 0.5974\n",
      "Best Val ACC: 0.6873, Best Test ACC: 0.6841\n"
     ]
    }
   ],
   "source": [
    "from torch_frame import numerical, categorical, text_embedded, embedding\n",
    "\n",
    "data_sizes = [5000, 10000, 30000, 50000, 70000]\n",
    "Tab_Transformer_results = []\n",
    "\n",
    "for size in data_sizes:\n",
    "    df = pd.read_csv(\"alzheimers_prediction_dataset.csv\")\n",
    "\n",
    "    # 데이터 사이즈별 추출 \n",
    "    df = df.sample(n = size, random_state=42)\n",
    "\n",
    "    ## 칼럼 별 Dtype 지정 \n",
    "    col_to_stype={\"Country\" : categorical,\n",
    "                \"Age\" : numerical,\n",
    "                \"Gender\" : categorical,\n",
    "                \"Education Level\" : numerical,\n",
    "                \"BMI\" : numerical,\n",
    "                \"Physical Activity Level\" : categorical,\n",
    "                \"Smoking Status\" : categorical,\n",
    "                \"Alcohol Consumption\" : categorical,\n",
    "                \"Diabetes\" : categorical,\n",
    "                \"Hypertension\" : categorical,\n",
    "                \"Cholesterol Level\" : categorical,\n",
    "                \"Family History of Alzheimer’s\" : categorical,\n",
    "                \"Cognitive Test Score\" : numerical,\n",
    "                \"Depression Level\" : categorical,\n",
    "                \"Sleep Quality\" : categorical,\n",
    "                \"Dietary Habits\" : categorical,\n",
    "                \"Air Pollution Exposure\" : categorical,\n",
    "                \"Employment Status\" : categorical,\n",
    "                \"Marital Status\" : categorical,\n",
    "                \"Genetic Risk Factor (APOE-ε4 allele)\" : categorical,\n",
    "                \"Social Engagement Level\" : categorical,\n",
    "                \"Income Level\" : categorical,\n",
    "                \"Stress Levels\" : categorical,\n",
    "                \"Urban vs Rural Living\" : categorical,\n",
    "                \"Alzheimer’s Diagnosis\" : categorical\n",
    "                }\n",
    "\n",
    "    dataset = Dataset(df = df, \n",
    "                    col_to_stype = col_to_stype, \n",
    "                    target_col = \"Alzheimer’s Diagnosis\")\n",
    "\n",
    "    dataset.materialize()\n",
    "    \n",
    "    # 여기에 데이터 셋을 나누고 모델을 학습하는 코드 추가\n",
    "    train_dataset, val_dataset, test_dataset = dataset[:0.6], dataset[0.6:0.7], dataset[0.7:]\n",
    "    \n",
    "    train_tensor_frame = train_dataset.tensor_frame\n",
    "    val_tensor_frame = val_dataset.tensor_frame\n",
    "    test_tensor_frame = test_dataset.tensor_frame\n",
    "    train_loader = DataLoader(train_tensor_frame, batch_size=args.batch_size,\n",
    "                          shuffle=True)\n",
    "    val_loader = DataLoader(val_tensor_frame, batch_size=args.batch_size)\n",
    "    test_loader = DataLoader(test_tensor_frame, batch_size=args.batch_size)    \n",
    "\n",
    "    # Set up model and optimizer\n",
    "    model = TabTransformer(\n",
    "        channels=args.channels,\n",
    "        out_channels= 2,        # stype 문제로 수동으로 설정 \n",
    "        num_layers=args.num_layers,\n",
    "        num_heads=args.num_heads,\n",
    "        encoder_pad_size=args.encoder_pad_size,\n",
    "        attn_dropout=args.attention_dropout,\n",
    "        ffn_dropout=args.ffn_dropout,\n",
    "        col_stats=dataset.col_stats,\n",
    "        col_names_dict=train_tensor_frame.col_names_dict,\n",
    "    ).to(device)\n",
    "    model = torch.compile(model, dynamic=True) if args.compile else model\n",
    "    optimizer = torch.optim.Adam(model.parameters(), lr=args.lr)\n",
    "    lr_scheduler = ExponentialLR(optimizer, gamma=0.95)\n",
    "\n",
    "    \n",
    "    # 훈련 및 테스트\n",
    "    metric = 'ACC'\n",
    "    best_val_metric = 0\n",
    "    best_test_metric = 0\n",
    "    for epoch in range(1, args.epochs + 1):\n",
    "        train_loss = train(epoch)\n",
    "        train_metric = test(train_loader)\n",
    "        val_metric = test(val_loader)\n",
    "        test_metric = test(test_loader)\n",
    "\n",
    "        if val_metric > best_val_metric:\n",
    "            best_val_metric = val_metric\n",
    "            best_test_metric = test_metric\n",
    "\n",
    "        print(f'Train Loss: {train_loss:.4f}, Train {metric}: {train_metric:.4f}, '\n",
    "              f'Val {metric}: {val_metric:.4f}, Test {metric}: {test_metric:.4f}')\n",
    "        lr_scheduler.step()\n",
    "\n",
    "    print(f'Best Val {metric}: {best_val_metric:.4f}, '\n",
    "          f'Best Test {metric}: {best_test_metric:.4f}')\n",
    "        \n",
    "    Tab_Transformer_results.append(best_test_metric)\n",
    "    "
   ]
  },
  {
   "cell_type": "code",
   "execution_count": 21,
   "metadata": {},
   "outputs": [
    {
     "data": {
      "image/png": "[encoded data removed]",
      "text/plain": [
       "<Figure size 1000x600 with 1 Axes>"
      ]
     },
     "metadata": {},
     "output_type": "display_data"
    }
   ],
   "source": [
    "# ✅ 그래프 그리기\n",
    "plt.figure(figsize=(10, 6))\n",
    "\n",
    "plt.plot(data_sizes, Tab_Transformer_results, marker=\"o\", linestyle=\"-\", label=\"Tab_Transformer Accuracy\")\n",
    "\n",
    "\n",
    "#plt.xscale(\"log\")  # 로그 스케일 적용 (샘플 크기가 큰 차이가 나기 때문)\n",
    "plt.xlabel(\"Sample Size\")\n",
    "plt.ylabel(\"Performance Score\")\n",
    "plt.title(\"Sample Size vs Model Performance\")\n",
    "plt.legend()\n",
    "plt.grid(True)\n",
    "plt.show()"
   ]
  },
  {
   "cell_type": "markdown",
   "metadata": {},
   "source": [
    "# 시각화"
   ]
  },
  {
   "cell_type": "code",
   "execution_count": 22,
   "metadata": {},
   "outputs": [
    {
     "data": {
      "image/png": "[encoded data removed]",
      "text/plain": [
       "<Figure size 1000x600 with 1 Axes>"
      ]
     },
     "metadata": {},
     "output_type": "display_data"
    }
   ],
   "source": [
    "# 종합 시각화 결과 . \n",
    "plt.figure(figsize=(10, 6))\n",
    "\n",
    "plt.plot(data_sizes, resnet_results, marker=\"o\", linestyle=\"-\", label=\"ResNet Accuracy\")\n",
    "plt.plot(data_sizes, ftt_results, marker=\"o\", linestyle=\"-\", label=\"Ftt Accuracy\")\n",
    "plt.plot(data_sizes, tabnet_results, marker=\"o\", linestyle=\"-\", label=\"TabNet Accuracy\")\n",
    "plt.plot(data_sizes, Tab_Transformer_results, marker=\"o\", linestyle=\"-\", label=\"Tab_Transformer Accuracy\")\n",
    "\n",
    "\n",
    "plt.xlabel(\"Sample Size\")\n",
    "plt.ylabel(\"Performance Score\")\n",
    "plt.title(\"Sample Size vs Model Performance\")\n",
    "plt.legend()\n",
    "plt.grid(True)\n",
    "plt.show()"
   ]
  },
  {
   "cell_type": "code",
   "execution_count": 23,
   "metadata": {},
   "outputs": [
    {
     "data": {
      "text/plain": [
       "[0.6806666666666666,\n",
       " 0.6933333333333334,\n",
       " 0.7013333333333334,\n",
       " 0.7104666666666667,\n",
       " 0.7158571428571429]"
      ]
     },
     "execution_count": 23,
     "metadata": {},
     "output_type": "execute_result"
    }
   ],
   "source": [
    "resnet_results"
   ]
  },
  {
   "cell_type": "code",
   "execution_count": 24,
   "metadata": {},
   "outputs": [
    {
     "data": {
      "text/plain": [
       "[0.6473333333333333,\n",
       " 0.7163333333333334,\n",
       " 0.7126666666666667,\n",
       " 0.7212666666666666,\n",
       " 0.7204285714285714]"
      ]
     },
     "execution_count": 24,
     "metadata": {},
     "output_type": "execute_result"
    }
   ],
   "source": [
    "ftt_results"
   ]
  },
  {
   "cell_type": "code",
   "execution_count": 25,
   "metadata": {},
   "outputs": [
    {
     "data": {
      "text/plain": [
       "[0.7204285714285714,\n",
       " 0.7204285714285714,\n",
       " 0.7204285714285714,\n",
       " 0.7204285714285714,\n",
       " 0.7204285714285714]"
      ]
     },
     "execution_count": 25,
     "metadata": {},
     "output_type": "execute_result"
    }
   ],
   "source": [
    "tabnet_results"
   ]
  },
  {
   "cell_type": "code",
   "execution_count": 26,
   "metadata": {},
   "outputs": [
    {
     "data": {
      "text/plain": [
       "[0.6573333333333333,\n",
       " 0.6756666666666666,\n",
       " 0.6592222222222223,\n",
       " 0.6769333333333334,\n",
       " 0.6840952380952381]"
      ]
     },
     "execution_count": 26,
     "metadata": {},
     "output_type": "execute_result"
    }
   ],
   "source": [
    "Tab_Transformer_results"
   ]
  },
  {
   "cell_type": "code",
   "execution_count": null,
   "metadata": {},
   "outputs": [],
   "source": []
  }
 ],
 "metadata": {
  "kernelspec": {
   "display_name": "base",
   "language": "python",
   "name": "python3"
  },
  "language_info": {
   "codemirror_mode": {
    "name": "ipython",
    "version": 3
   },
   "file_extension": ".py",
   "mimetype": "text/x-python",
   "name": "python",
   "nbconvert_exporter": "python",
   "pygments_lexer": "ipython3",
   "version": "3.10.13"
  }
 },
 "nbformat": 4,
 "nbformat_minor": 2
}
