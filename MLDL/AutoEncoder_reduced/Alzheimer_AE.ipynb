{
 "cells": [
  {
   "cell_type": "code",
   "execution_count": 1,
   "metadata": {},
   "outputs": [],
   "source": [
    "import os\n",
    "import math\n",
    "import time\n",
    "import argparse\n",
    "import numpy as np\n",
    "import pandas as pd\n",
    "import torch\n",
    "import torch.nn.functional as F\n",
    "from torch.nn import BCEWithLogitsLoss, CrossEntropyLoss, MSELoss, Module\n",
    "from torch.optim.lr_scheduler import ExponentialLR\n",
    "from torchmetrics import AUROC, Accuracy, MeanSquaredError\n",
    "from tqdm import tqdm\n",
    "from sklearn.metrics import roc_auc_score\n",
    "\n",
    "from torch_frame import stype\n",
    "from torch_frame.data import Dataset, DataLoader\n",
    "from torch_frame.datasets import (\n",
    "    ForestCoverType, KDDCensusIncome, DataFrameBenchmark,\n",
    "    AdultCensusIncome, BankMarketing, Dota2\n",
    ")\n",
    "from torch_frame.gbdt import CatBoost, LightGBM, XGBoost\n",
    "from torch_frame.nn import (\n",
    "    EmbeddingEncoder, FTTransformer, LinearBucketEncoder,\n",
    "    LinearEncoder, LinearPeriodicEncoder, ResNet, TabNet, TabTransformer\n",
    ")\n",
    "from torch_frame.nn.models import (\n",
    "    MLP, ExcelFormer, Trompt\n",
    ")\n",
    "from torch_frame.typing import TaskType\n",
    "\n",
    "\n",
    "\n",
    "# Use GPU for faster training\n",
    "device = torch.device(\"cuda\" if torch.cuda.is_available() else \"cpu\")"
   ]
  },
  {
   "cell_type": "code",
   "execution_count": 2,
   "metadata": {},
   "outputs": [],
   "source": [
    "df = pd.read_csv(\"alzheimers_prediction_dataset.csv\")"
   ]
  },
  {
   "cell_type": "code",
   "execution_count": 3,
   "metadata": {},
   "outputs": [],
   "source": [
    "# 분석의 편의를 위해 int로 변환.\n",
    "bool_cols = df.select_dtypes(include=['bool']).columns\n",
    "df[bool_cols] = df[bool_cols].astype(int)"
   ]
  },
  {
   "cell_type": "code",
   "execution_count": 9,
   "metadata": {},
   "outputs": [
    {
     "name": "stdout",
     "output_type": "stream",
     "text": [
      "<class 'pandas.core.frame.DataFrame'>\n",
      "RangeIndex: 74283 entries, 0 to 74282\n",
      "Data columns (total 25 columns):\n",
      " #   Column                                Non-Null Count  Dtype  \n",
      "---  ------                                --------------  -----  \n",
      " 0   Country                               74283 non-null  object \n",
      " 1   Age                                   74283 non-null  int64  \n",
      " 2   Gender                                74283 non-null  object \n",
      " 3   Education Level                       74283 non-null  int64  \n",
      " 4   BMI                                   74283 non-null  float64\n",
      " 5   Physical Activity Level               74283 non-null  object \n",
      " 6   Smoking Status                        74283 non-null  object \n",
      " 7   Alcohol Consumption                   74283 non-null  object \n",
      " 8   Diabetes                              74283 non-null  object \n",
      " 9   Hypertension                          74283 non-null  object \n",
      " 10  Cholesterol Level                     74283 non-null  object \n",
      " 11  Family History of Alzheimer’s         74283 non-null  object \n",
      " 12  Cognitive Test Score                  74283 non-null  int64  \n",
      " 13  Depression Level                      74283 non-null  object \n",
      " 14  Sleep Quality                         74283 non-null  object \n",
      " 15  Dietary Habits                        74283 non-null  object \n",
      " 16  Air Pollution Exposure                74283 non-null  object \n",
      " 17  Employment Status                     74283 non-null  object \n",
      " 18  Marital Status                        74283 non-null  object \n",
      " 19  Genetic Risk Factor (APOE-ε4 allele)  74283 non-null  object \n",
      " 20  Social Engagement Level               74283 non-null  object \n",
      " 21  Income Level                          74283 non-null  object \n",
      " 22  Stress Levels                         74283 non-null  object \n",
      " 23  Urban vs Rural Living                 74283 non-null  object \n",
      " 24  Alzheimer’s Diagnosis                 74283 non-null  object \n",
      "dtypes: float64(1), int64(3), object(21)\n",
      "memory usage: 14.2+ MB\n"
     ]
    }
   ],
   "source": [
    "df.info()"
   ]
  },
  {
   "cell_type": "markdown",
   "metadata": {},
   "source": [
    "## AutoEncoder"
   ]
  },
  {
   "cell_type": "code",
   "execution_count": 4,
   "metadata": {},
   "outputs": [],
   "source": [
    "import torch.nn as nn\n",
    "\n",
    "class Autoencoder(nn.Module):\n",
    "    def __init__(self, input_dim, hidden_dim):\n",
    "        super(Autoencoder, self).__init__()\n",
    "        self.encoder = nn.Sequential(\n",
    "            nn.Linear(input_dim, hidden_dim),\n",
    "            nn.ReLU(),\n",
    "            nn.Linear(hidden_dim, hidden_dim // 2),\n",
    "            nn.ReLU()\n",
    "        )\n",
    "        self.decoder = nn.Sequential(\n",
    "            nn.Linear(hidden_dim // 2, hidden_dim),\n",
    "            nn.ReLU(),\n",
    "            nn.Linear(hidden_dim, input_dim),\n",
    "            nn.Sigmoid()\n",
    "        )\n",
    "\n",
    "    def forward(self, x):\n",
    "        encoded = self.encoder(x)\n",
    "        decoded = self.decoder(encoded)\n",
    "        return decoded, encoded  # Bottleneck layer 값 반환"
   ]
  },
  {
   "cell_type": "code",
   "execution_count": 10,
   "metadata": {},
   "outputs": [],
   "source": [
    "# Target은 AutoEncoder X\n",
    "X_only = df.drop(columns=[\"Alzheimer’s Diagnosis\"])\n",
    "\n",
    "# continuous만 적용 예정\n",
    "continuous_vars = X_only.select_dtypes(include=[\"int32\", \"int64\", \"float32\", \"float64\"]).columns\n",
    "categorical_vars = X_only.select_dtypes(include=[\"object\"]).columns\n",
    "\n",
    "# 모델 생성\n",
    "input_dim = X_only[continuous_vars].shape[1]  # Feature 개수\n",
    "hidden_dim = input_dim  # 축소 후 차원 (이 크기의 절반이 새로 만들어진 feature의 수)\n",
    "autoencoder = Autoencoder(input_dim, hidden_dim)\n",
    "\n",
    "# PyTorch 텐서 변환\n",
    "X_tensor = torch.tensor(X_only[continuous_vars].values, dtype=torch.float32)\n",
    "\n",
    "# Optimizer & Loss 설정\n",
    "criterion = nn.MSELoss()\n",
    "optimizer = torch.optim.Adam(autoencoder.parameters(), lr=0.01)"
   ]
  },
  {
   "cell_type": "code",
   "execution_count": 11,
   "metadata": {},
   "outputs": [],
   "source": [
    "# 학습\n",
    "for epoch in range(50):\n",
    "    optimizer.zero_grad()\n",
    "    decoded, encoded = autoencoder(X_tensor)  # Bottleneck feature 추출\n",
    "    loss = criterion(decoded, X_tensor)  # ✅ 디코더 출력과 원본 데이터 비교\n",
    "    loss.backward()\n",
    "    optimizer.step()\n",
    "\n",
    "\n",
    "# Bottleneck feature 추출 (차원 축소된 데이터)\n",
    "_, X_reduced = autoencoder(X_tensor)\n",
    "X_reduced = X_reduced.detach().numpy()\n",
    "\n",
    "# 👉 변환된 Feature를 DataFrame으로 변환\n",
    "df_reduced = pd.DataFrame(X_reduced, index=df.index, columns=[f\"reduced_{i}\" for i in range(X_reduced.shape[1])])\n",
    "\n",
    "# 🎯 원래 Target(y) 컬럼을 붙여서 최종 DataFrame 생성\n",
    "df_AE = pd.concat([df[categorical_vars], df_reduced, df[\"Alzheimer’s Diagnosis\"]], axis=1)"
   ]
  },
  {
   "cell_type": "code",
   "execution_count": 12,
   "metadata": {},
   "outputs": [
    {
     "name": "stdout",
     "output_type": "stream",
     "text": [
      "<class 'pandas.core.frame.DataFrame'>\n",
      "RangeIndex: 74283 entries, 0 to 74282\n",
      "Data columns (total 23 columns):\n",
      " #   Column                                Non-Null Count  Dtype  \n",
      "---  ------                                --------------  -----  \n",
      " 0   Country                               74283 non-null  object \n",
      " 1   Gender                                74283 non-null  object \n",
      " 2   Physical Activity Level               74283 non-null  object \n",
      " 3   Smoking Status                        74283 non-null  object \n",
      " 4   Alcohol Consumption                   74283 non-null  object \n",
      " 5   Diabetes                              74283 non-null  object \n",
      " 6   Hypertension                          74283 non-null  object \n",
      " 7   Cholesterol Level                     74283 non-null  object \n",
      " 8   Family History of Alzheimer’s         74283 non-null  object \n",
      " 9   Depression Level                      74283 non-null  object \n",
      " 10  Sleep Quality                         74283 non-null  object \n",
      " 11  Dietary Habits                        74283 non-null  object \n",
      " 12  Air Pollution Exposure                74283 non-null  object \n",
      " 13  Employment Status                     74283 non-null  object \n",
      " 14  Marital Status                        74283 non-null  object \n",
      " 15  Genetic Risk Factor (APOE-ε4 allele)  74283 non-null  object \n",
      " 16  Social Engagement Level               74283 non-null  object \n",
      " 17  Income Level                          74283 non-null  object \n",
      " 18  Stress Levels                         74283 non-null  object \n",
      " 19  Urban vs Rural Living                 74283 non-null  object \n",
      " 20  reduced_0                             74283 non-null  float32\n",
      " 21  reduced_1                             74283 non-null  float32\n",
      " 22  Alzheimer’s Diagnosis                 74283 non-null  object \n",
      "dtypes: float32(2), object(21)\n",
      "memory usage: 12.5+ MB\n"
     ]
    }
   ],
   "source": [
    "df_AE.info()"
   ]
  },
  {
   "cell_type": "markdown",
   "metadata": {},
   "source": [
    "# ML"
   ]
  },
  {
   "cell_type": "code",
   "execution_count": 15,
   "metadata": {},
   "outputs": [],
   "source": [
    "from sklearn.model_selection import train_test_split\n",
    "from sklearn.preprocessing import StandardScaler\n",
    "from sklearn.linear_model import LogisticRegression\n",
    "from sklearn.ensemble import RandomForestClassifier, GradientBoostingClassifier\n",
    "from xgboost import XGBClassifier\n",
    "from sklearn.metrics import accuracy_score, classification_report\n",
    "from sklearn.model_selection import GridSearchCV\n",
    "from sklearn.neighbors import KNeighborsClassifier\n",
    "from sklearn.tree import DecisionTreeClassifier\n",
    "from sklearn.svm import SVC\n",
    "from sklearn.metrics import accuracy_score, classification_report\n",
    "import lightgbm as lgb\n",
    "from imblearn.over_sampling import SMOTE\n",
    "import catboost as cb"
   ]
  },
  {
   "cell_type": "markdown",
   "metadata": {},
   "source": [
    "### PreProcessing"
   ]
  },
  {
   "cell_type": "code",
   "execution_count": 13,
   "metadata": {},
   "outputs": [],
   "source": [
    "# Alzheimer’s Diagnosis를 종속 변수(y)로 설정\n",
    "y_col = \"Alzheimer’s Diagnosis\"\n",
    "y = df_AE[y_col]\n",
    "\n",
    "# 독립 변수(X) 설정 (Patient_ID 제거)\n",
    "X = df_AE.drop(columns=[y_col])\n",
    "\n",
    "# 더미변수 \n",
    "categorical_vars = X.select_dtypes(include=[\"object\"]).columns.tolist()\n",
    "\n",
    "df_encoded = pd.get_dummies(df_AE, columns=categorical_vars)\n",
    "X = df_encoded.drop(columns=[y_col])"
   ]
  },
  {
   "cell_type": "code",
   "execution_count": 16,
   "metadata": {},
   "outputs": [],
   "source": [
    "# Split data into training and testing sets\n",
    "X_train, X_test, y_train, y_test = train_test_split(X, y, test_size=0.3, random_state=42)"
   ]
  },
  {
   "cell_type": "code",
   "execution_count": 17,
   "metadata": {},
   "outputs": [],
   "source": [
    "from sklearn.preprocessing import LabelEncoder\n",
    "\n",
    "# Label Encoding 수행\n",
    "le = LabelEncoder()\n",
    "y_train = le.fit_transform(y_train)  # 'Benign' -> 0, 'Malignant' -> 1\n",
    "y_test = le.transform(y_test)  "
   ]
  },
  {
   "cell_type": "markdown",
   "metadata": {},
   "source": [
    "### Correlation"
   ]
  },
  {
   "cell_type": "code",
   "execution_count": 18,
   "metadata": {},
   "outputs": [
    {
     "ename": "ValueError",
     "evalue": "could not convert string to float: 'Spain'",
     "output_type": "error",
     "traceback": [
      "\u001b[0;31m---------------------------------------------------------------------------\u001b[0m",
      "\u001b[0;31mValueError\u001b[0m                                Traceback (most recent call last)",
      "Cell \u001b[0;32mIn[18], line 1\u001b[0m\n\u001b[0;32m----> 1\u001b[0m correlation_matrix \u001b[38;5;241m=\u001b[39m \u001b[43mdf\u001b[49m\u001b[38;5;241;43m.\u001b[39;49m\u001b[43mcorr\u001b[49m\u001b[43m(\u001b[49m\u001b[43m)\u001b[49m\n\u001b[1;32m      2\u001b[0m target_correlation \u001b[38;5;241m=\u001b[39m correlation_matrix[\u001b[38;5;124m\"\u001b[39m\u001b[38;5;124mAlzheimer’s Diagnosis\u001b[39m\u001b[38;5;124m\"\u001b[39m]\u001b[38;5;241m.\u001b[39msort_values(ascending\u001b[38;5;241m=\u001b[39m\u001b[38;5;28;01mFalse\u001b[39;00m)\n\u001b[1;32m      3\u001b[0m \u001b[38;5;28mprint\u001b[39m(target_correlation)\n",
      "File \u001b[0;32m/opt/conda/lib/python3.10/site-packages/pandas/core/frame.py:11049\u001b[0m, in \u001b[0;36mDataFrame.corr\u001b[0;34m(self, method, min_periods, numeric_only)\u001b[0m\n\u001b[1;32m  11047\u001b[0m cols \u001b[38;5;241m=\u001b[39m data\u001b[38;5;241m.\u001b[39mcolumns\n\u001b[1;32m  11048\u001b[0m idx \u001b[38;5;241m=\u001b[39m cols\u001b[38;5;241m.\u001b[39mcopy()\n\u001b[0;32m> 11049\u001b[0m mat \u001b[38;5;241m=\u001b[39m \u001b[43mdata\u001b[49m\u001b[38;5;241;43m.\u001b[39;49m\u001b[43mto_numpy\u001b[49m\u001b[43m(\u001b[49m\u001b[43mdtype\u001b[49m\u001b[38;5;241;43m=\u001b[39;49m\u001b[38;5;28;43mfloat\u001b[39;49m\u001b[43m,\u001b[49m\u001b[43m \u001b[49m\u001b[43mna_value\u001b[49m\u001b[38;5;241;43m=\u001b[39;49m\u001b[43mnp\u001b[49m\u001b[38;5;241;43m.\u001b[39;49m\u001b[43mnan\u001b[49m\u001b[43m,\u001b[49m\u001b[43m \u001b[49m\u001b[43mcopy\u001b[49m\u001b[38;5;241;43m=\u001b[39;49m\u001b[38;5;28;43;01mFalse\u001b[39;49;00m\u001b[43m)\u001b[49m\n\u001b[1;32m  11051\u001b[0m \u001b[38;5;28;01mif\u001b[39;00m method \u001b[38;5;241m==\u001b[39m \u001b[38;5;124m\"\u001b[39m\u001b[38;5;124mpearson\u001b[39m\u001b[38;5;124m\"\u001b[39m:\n\u001b[1;32m  11052\u001b[0m     correl \u001b[38;5;241m=\u001b[39m libalgos\u001b[38;5;241m.\u001b[39mnancorr(mat, minp\u001b[38;5;241m=\u001b[39mmin_periods)\n",
      "File \u001b[0;32m/opt/conda/lib/python3.10/site-packages/pandas/core/frame.py:1993\u001b[0m, in \u001b[0;36mDataFrame.to_numpy\u001b[0;34m(self, dtype, copy, na_value)\u001b[0m\n\u001b[1;32m   1991\u001b[0m \u001b[38;5;28;01mif\u001b[39;00m dtype \u001b[38;5;129;01mis\u001b[39;00m \u001b[38;5;129;01mnot\u001b[39;00m \u001b[38;5;28;01mNone\u001b[39;00m:\n\u001b[1;32m   1992\u001b[0m     dtype \u001b[38;5;241m=\u001b[39m np\u001b[38;5;241m.\u001b[39mdtype(dtype)\n\u001b[0;32m-> 1993\u001b[0m result \u001b[38;5;241m=\u001b[39m \u001b[38;5;28;43mself\u001b[39;49m\u001b[38;5;241;43m.\u001b[39;49m\u001b[43m_mgr\u001b[49m\u001b[38;5;241;43m.\u001b[39;49m\u001b[43mas_array\u001b[49m\u001b[43m(\u001b[49m\u001b[43mdtype\u001b[49m\u001b[38;5;241;43m=\u001b[39;49m\u001b[43mdtype\u001b[49m\u001b[43m,\u001b[49m\u001b[43m \u001b[49m\u001b[43mcopy\u001b[49m\u001b[38;5;241;43m=\u001b[39;49m\u001b[43mcopy\u001b[49m\u001b[43m,\u001b[49m\u001b[43m \u001b[49m\u001b[43mna_value\u001b[49m\u001b[38;5;241;43m=\u001b[39;49m\u001b[43mna_value\u001b[49m\u001b[43m)\u001b[49m\n\u001b[1;32m   1994\u001b[0m \u001b[38;5;28;01mif\u001b[39;00m result\u001b[38;5;241m.\u001b[39mdtype \u001b[38;5;129;01mis\u001b[39;00m \u001b[38;5;129;01mnot\u001b[39;00m dtype:\n\u001b[1;32m   1995\u001b[0m     result \u001b[38;5;241m=\u001b[39m np\u001b[38;5;241m.\u001b[39masarray(result, dtype\u001b[38;5;241m=\u001b[39mdtype)\n",
      "File \u001b[0;32m/opt/conda/lib/python3.10/site-packages/pandas/core/internals/managers.py:1694\u001b[0m, in \u001b[0;36mBlockManager.as_array\u001b[0;34m(self, dtype, copy, na_value)\u001b[0m\n\u001b[1;32m   1692\u001b[0m         arr\u001b[38;5;241m.\u001b[39mflags\u001b[38;5;241m.\u001b[39mwriteable \u001b[38;5;241m=\u001b[39m \u001b[38;5;28;01mFalse\u001b[39;00m\n\u001b[1;32m   1693\u001b[0m \u001b[38;5;28;01melse\u001b[39;00m:\n\u001b[0;32m-> 1694\u001b[0m     arr \u001b[38;5;241m=\u001b[39m \u001b[38;5;28;43mself\u001b[39;49m\u001b[38;5;241;43m.\u001b[39;49m\u001b[43m_interleave\u001b[49m\u001b[43m(\u001b[49m\u001b[43mdtype\u001b[49m\u001b[38;5;241;43m=\u001b[39;49m\u001b[43mdtype\u001b[49m\u001b[43m,\u001b[49m\u001b[43m \u001b[49m\u001b[43mna_value\u001b[49m\u001b[38;5;241;43m=\u001b[39;49m\u001b[43mna_value\u001b[49m\u001b[43m)\u001b[49m\n\u001b[1;32m   1695\u001b[0m     \u001b[38;5;66;03m# The underlying data was copied within _interleave, so no need\u001b[39;00m\n\u001b[1;32m   1696\u001b[0m     \u001b[38;5;66;03m# to further copy if copy=True or setting na_value\u001b[39;00m\n\u001b[1;32m   1698\u001b[0m \u001b[38;5;28;01mif\u001b[39;00m na_value \u001b[38;5;129;01mis\u001b[39;00m lib\u001b[38;5;241m.\u001b[39mno_default:\n",
      "File \u001b[0;32m/opt/conda/lib/python3.10/site-packages/pandas/core/internals/managers.py:1753\u001b[0m, in \u001b[0;36mBlockManager._interleave\u001b[0;34m(self, dtype, na_value)\u001b[0m\n\u001b[1;32m   1751\u001b[0m     \u001b[38;5;28;01melse\u001b[39;00m:\n\u001b[1;32m   1752\u001b[0m         arr \u001b[38;5;241m=\u001b[39m blk\u001b[38;5;241m.\u001b[39mget_values(dtype)\n\u001b[0;32m-> 1753\u001b[0m     result[rl\u001b[38;5;241m.\u001b[39mindexer] \u001b[38;5;241m=\u001b[39m arr\n\u001b[1;32m   1754\u001b[0m     itemmask[rl\u001b[38;5;241m.\u001b[39mindexer] \u001b[38;5;241m=\u001b[39m \u001b[38;5;241m1\u001b[39m\n\u001b[1;32m   1756\u001b[0m \u001b[38;5;28;01mif\u001b[39;00m \u001b[38;5;129;01mnot\u001b[39;00m itemmask\u001b[38;5;241m.\u001b[39mall():\n",
      "\u001b[0;31mValueError\u001b[0m: could not convert string to float: 'Spain'"
     ]
    }
   ],
   "source": [
    "correlation_matrix = df.corr()\n",
    "target_correlation = correlation_matrix[\"Alzheimer’s Diagnosis\"].sort_values(ascending=False)\n",
    "print(target_correlation)\n",
    "\n",
    "# Age                                         0.419923\n",
    "# Genetic Risk Factor (APOE-ε4 allele)_Yes    0.194484\n",
    "# Family History of Alzheimer’s_Yes           0.140885"
   ]
  },
  {
   "cell_type": "markdown",
   "metadata": {},
   "source": [
    "## Model"
   ]
  },
  {
   "cell_type": "markdown",
   "metadata": {},
   "source": [
    "### Logistic Regression"
   ]
  },
  {
   "cell_type": "code",
   "execution_count": 19,
   "metadata": {},
   "outputs": [
    {
     "name": "stdout",
     "output_type": "stream",
     "text": [
      "Accuracy: 0.636526811756787\n",
      "              precision    recall  f1-score   support\n",
      "\n",
      "           0       0.65      0.83      0.73     13065\n",
      "           1       0.60      0.36      0.45      9220\n",
      "\n",
      "    accuracy                           0.64     22285\n",
      "   macro avg       0.62      0.60      0.59     22285\n",
      "weighted avg       0.63      0.64      0.61     22285\n",
      "\n"
     ]
    }
   ],
   "source": [
    "model = LogisticRegression()\n",
    "model.fit(X_train, y_train)\n",
    "\n",
    "y_pred = model.predict(X_test)\n",
    "acc_lr=accuracy_score(y_test, y_pred)\n",
    "print(\"Accuracy:\",acc_lr )\n",
    "print(classification_report(y_test, y_pred))"
   ]
  },
  {
   "cell_type": "markdown",
   "metadata": {},
   "source": [
    "### Random Forest"
   ]
  },
  {
   "cell_type": "code",
   "execution_count": 20,
   "metadata": {},
   "outputs": [
    {
     "name": "stdout",
     "output_type": "stream",
     "text": [
      "🔹 Random Forest Classifier Results:\n",
      "Accuracy: 0.6276419115997307\n",
      "              precision    recall  f1-score   support\n",
      "\n",
      "           0       0.64      0.82      0.72     13065\n",
      "           1       0.58      0.36      0.44      9220\n",
      "\n",
      "    accuracy                           0.63     22285\n",
      "   macro avg       0.61      0.59      0.58     22285\n",
      "weighted avg       0.62      0.63      0.61     22285\n",
      "\n"
     ]
    }
   ],
   "source": [
    "rf_model = RandomForestClassifier(n_estimators=100, random_state=42)\n",
    "rf_model.fit(X_train, y_train)\n",
    "\n",
    "y_pred_rf = rf_model.predict(X_test)\n",
    "acc_rf=accuracy_score(y_test, y_pred_rf)\n",
    "print(\"🔹 Random Forest Classifier Results:\")\n",
    "print(\"Accuracy:\",acc_rf )\n",
    "print(classification_report(y_test, y_pred_rf))"
   ]
  },
  {
   "cell_type": "markdown",
   "metadata": {},
   "source": [
    "### Decision Tree"
   ]
  },
  {
   "cell_type": "code",
   "execution_count": 21,
   "metadata": {},
   "outputs": [
    {
     "name": "stdout",
     "output_type": "stream",
     "text": [
      "🔹 Decision Tree Results:\n",
      "Best Parameters: {'max_depth': 5}\n",
      "Accuracy: 0.6345972627327799\n",
      "              precision    recall  f1-score   support\n",
      "\n",
      "           0       0.64      0.85      0.73     13065\n",
      "           1       0.61      0.32      0.42      9220\n",
      "\n",
      "    accuracy                           0.63     22285\n",
      "   macro avg       0.63      0.59      0.58     22285\n",
      "weighted avg       0.63      0.63      0.60     22285\n",
      "\n"
     ]
    }
   ],
   "source": [
    "dt_params = {'max_depth': [3, 5, 10, 15, None]}\n",
    "dt_grid = GridSearchCV(DecisionTreeClassifier(random_state=42), dt_params, cv=5, scoring='accuracy')\n",
    "dt_grid.fit(X_train, y_train)\n",
    "dt_best = dt_grid.best_estimator_\n",
    "\n",
    "y_pred_dt = dt_best.predict(X_test)\n",
    "acc_dt = accuracy_score(y_test, y_pred_dt)\n",
    "\n",
    "print(\"🔹 Decision Tree Results:\")\n",
    "print(\"Best Parameters:\", dt_grid.best_params_)\n",
    "print(\"Accuracy:\", acc_dt)\n",
    "print(classification_report(y_test, y_pred_dt))"
   ]
  },
  {
   "cell_type": "markdown",
   "metadata": {},
   "source": [
    "### XGBoost"
   ]
  },
  {
   "cell_type": "code",
   "execution_count": 22,
   "metadata": {},
   "outputs": [
    {
     "name": "stderr",
     "output_type": "stream",
     "text": [
      "/opt/conda/lib/python3.10/site-packages/xgboost/training.py:183: UserWarning: [07:33:49] WARNING: /workspace/src/learner.cc:738: \n",
      "Parameters: { \"use_label_encoder\" } are not used.\n",
      "\n",
      "  bst.update(dtrain, iteration=i, fobj=obj)\n"
     ]
    },
    {
     "name": "stdout",
     "output_type": "stream",
     "text": [
      "🔹 XGBoost Classifier Results:\n",
      "Accuracy: 0.6319048687457931\n",
      "              precision    recall  f1-score   support\n",
      "\n",
      "           0       0.65      0.82      0.72     13065\n",
      "           1       0.59      0.37      0.45      9220\n",
      "\n",
      "    accuracy                           0.63     22285\n",
      "   macro avg       0.62      0.59      0.59     22285\n",
      "weighted avg       0.62      0.63      0.61     22285\n",
      "\n"
     ]
    }
   ],
   "source": [
    "xgb_model = XGBClassifier(n_estimators=100, learning_rate=0.1, use_label_encoder=False, eval_metric='logloss')\n",
    "xgb_model.fit(X_train, y_train)\n",
    "\n",
    "y_pred_xgb = xgb_model.predict(X_test)\n",
    "acc_xgb = accuracy_score(y_test, y_pred_xgb)\n",
    "print(\"🔹 XGBoost Classifier Results:\")\n",
    "print(\"Accuracy:\", acc_xgb)\n",
    "print(classification_report(y_test, y_pred_xgb))"
   ]
  },
  {
   "cell_type": "markdown",
   "metadata": {},
   "source": [
    "### LightGBM"
   ]
  },
  {
   "cell_type": "code",
   "execution_count": 23,
   "metadata": {},
   "outputs": [
    {
     "name": "stdout",
     "output_type": "stream",
     "text": [
      "[LightGBM] [Warning] Found whitespace in feature_names, replace with underlines\n",
      "[LightGBM] [Info] Number of positive: 21493, number of negative: 30505\n",
      "[LightGBM] [Info] Total Bins 395\n",
      "[LightGBM] [Info] Number of data points in the train set: 51998, number of used features: 71\n",
      "[LightGBM] [Info] [binary:BoostFromScore]: pavg=0.413343 -> initscore=-0.350163\n",
      "[LightGBM] [Info] Start training from score -0.350163\n",
      "🔹 LightGBM Model Performance 🔹\n",
      "Accuracy: 0.6355396006282252\n",
      "              precision    recall  f1-score   support\n",
      "\n",
      "           0       0.65      0.83      0.73     13065\n",
      "           1       0.60      0.37      0.45      9220\n",
      "\n",
      "    accuracy                           0.64     22285\n",
      "   macro avg       0.62      0.60      0.59     22285\n",
      "weighted avg       0.63      0.64      0.61     22285\n",
      "\n"
     ]
    }
   ],
   "source": [
    "lgb_model = lgb.LGBMClassifier(boosting_type='gbdt', num_leaves=31, learning_rate=0.05, \n",
    "                                 n_estimators=200, force_col_wise=True, random_state=42)\n",
    "lgb_model.fit(X_train, y_train)\n",
    "\n",
    "y_pred_lgb = lgb_model.predict(X_test)\n",
    "\n",
    "acc_lgb = accuracy_score(y_test, y_pred_lgb)\n",
    "\n",
    "print(\"🔹 LightGBM Model Performance 🔹\")\n",
    "print(\"Accuracy:\", accuracy_score(y_test, y_pred_lgb))\n",
    "print(classification_report(y_test, y_pred_lgb))"
   ]
  },
  {
   "cell_type": "markdown",
   "metadata": {},
   "source": [
    "### Catboost"
   ]
  },
  {
   "cell_type": "code",
   "execution_count": 24,
   "metadata": {},
   "outputs": [
    {
     "name": "stdout",
     "output_type": "stream",
     "text": [
      "🔹 CatBoost Model Performance 🔹\n",
      "Accuracy: 0.635719093560691\n",
      "              precision    recall  f1-score   support\n",
      "\n",
      "           0       0.65      0.83      0.73     13065\n",
      "           1       0.60      0.36      0.45      9220\n",
      "\n",
      "    accuracy                           0.64     22285\n",
      "   macro avg       0.62      0.60      0.59     22285\n",
      "weighted avg       0.63      0.64      0.61     22285\n",
      "\n"
     ]
    }
   ],
   "source": [
    "cat_model = cb.CatBoostClassifier(iterations=200, depth=6, learning_rate=0.05, loss_function='Logloss', verbose=0, random_seed=42)\n",
    "cat_model.fit(X_train, y_train)\n",
    "\n",
    "y_pred_cat = cat_model.predict(X_test)\n",
    "\n",
    "acc_cat = accuracy_score(y_test, y_pred_cat)\n",
    "\n",
    "print(\"🔹 CatBoost Model Performance 🔹\")\n",
    "print(\"Accuracy:\", accuracy_score(y_test, y_pred_cat))\n",
    "print(classification_report(y_test, y_pred_cat))"
   ]
  },
  {
   "cell_type": "markdown",
   "metadata": {},
   "source": [
    "# DL"
   ]
  },
  {
   "cell_type": "code",
   "execution_count": 25,
   "metadata": {},
   "outputs": [],
   "source": [
    "# 분류 task\n",
    "is_classification = True"
   ]
  },
  {
   "cell_type": "code",
   "execution_count": 26,
   "metadata": {},
   "outputs": [],
   "source": [
    "from torch_frame import numerical, categorical, text_embedded, embedding\n",
    "\n",
    "## 칼럼 별 Dtype 지정 \n",
    "col_to_stype={\"Country\" : categorical,\n",
    "              \"Gender\" : categorical,\n",
    "              \"Physical Activity Level\" : categorical,\n",
    "              \"Smoking Status\" : categorical,\n",
    "              \"Alcohol Consumption\" : categorical,\n",
    "              \"Diabetes\" : categorical,\n",
    "              \"Hypertension\" : categorical,\n",
    "              \"Cholesterol Level\" : categorical,\n",
    "              \"Family History of Alzheimer’s\" : categorical,\n",
    "              \"Depression Level\" : categorical,\n",
    "              \"Sleep Quality\" : categorical,\n",
    "              \"Dietary Habits\" : categorical,\n",
    "              \"Air Pollution Exposure\" : categorical,\n",
    "              \"Employment Status\" : categorical,\n",
    "              \"Marital Status\" : categorical,\n",
    "              \"Genetic Risk Factor (APOE-ε4 allele)\" : categorical,\n",
    "              \"Social Engagement Level\" : categorical,\n",
    "              \"Income Level\" : categorical,\n",
    "              \"Stress Levels\" : categorical,\n",
    "              \"Urban vs Rural Living\" : categorical,\n",
    "              \"Alzheimer’s Diagnosis\" : categorical,\n",
    "              \"reduced_0\" : numerical,\n",
    "              \"reduced_1\" : numerical\n",
    "              }\n",
    "\n",
    "dataset = Dataset(df = df_AE, \n",
    "                  col_to_stype = col_to_stype, \n",
    "                  target_col = \"Alzheimer’s Diagnosis\")\n",
    "\n",
    "dataset.materialize()\n",
    "\n",
    "## split\n",
    "train_dataset, val_dataset, test_dataset = dataset[:0.6], dataset[0.6:0.7], dataset[0.7:]"
   ]
  },
  {
   "cell_type": "markdown",
   "metadata": {},
   "source": [
    "### ResNet"
   ]
  },
  {
   "cell_type": "code",
   "execution_count": 27,
   "metadata": {},
   "outputs": [
    {
     "data": {
      "text/plain": [
       "_StoreTrueAction(option_strings=['--compile'], dest='compile', nargs=0, const=True, default=False, type=None, choices=None, required=False, help=None, metavar=None)"
      ]
     },
     "execution_count": 27,
     "metadata": {},
     "output_type": "execute_result"
    }
   ],
   "source": [
    "parser = argparse.ArgumentParser()\n",
    "parser.add_argument('--dataset', type=str, default='adult')\n",
    "parser.add_argument('--numerical_encoder_type', type=str, default='linear',\n",
    "                    choices=['linear', 'linearbucket', 'linearperiodic'])\n",
    "parser.add_argument('--model_type', type=str, default='fttransformer',\n",
    "                    choices=['fttransformer', 'resnet'])\n",
    "parser.add_argument('--channels', type=int, default=256)\n",
    "parser.add_argument('--num_layers', type=int, default=4)\n",
    "parser.add_argument('--batch_size', type=int, default=512)\n",
    "parser.add_argument('--lr', type=float, default=0.0001)\n",
    "parser.add_argument('--epochs', type=int, default=100)\n",
    "parser.add_argument('--seed', type=int, default=0)\n",
    "parser.add_argument('--compile', action='store_true')"
   ]
  },
  {
   "cell_type": "code",
   "execution_count": 28,
   "metadata": {},
   "outputs": [],
   "source": [
    "# Jupyter에서 실행될 때는 sys.argv를 조정\n",
    "args = parser.parse_args([\n",
    "    #'--dataset', 'adult',\n",
    "    '--numerical_encoder_type', 'linear',\n",
    "    '--model_type', 'resnet',       # fttransformer : FT-T / resnet : ResNet\n",
    "    '--channels', '256',\n",
    "    '--num_layers', '4',\n",
    "    '--batch_size', '256',  # 데이터를 256개씩 한번에 \n",
    "    '--lr', '0.0001',\n",
    "    '--epochs', '15',\n",
    "    '--seed', '0'\n",
    "])"
   ]
  },
  {
   "cell_type": "code",
   "execution_count": 29,
   "metadata": {},
   "outputs": [],
   "source": [
    "# Set up data loaders\n",
    "train_tensor_frame = train_dataset.tensor_frame\n",
    "val_tensor_frame = val_dataset.tensor_frame\n",
    "test_tensor_frame = test_dataset.tensor_frame\n",
    "train_loader = DataLoader(train_tensor_frame, batch_size=args.batch_size,\n",
    "                          shuffle=True)\n",
    "val_loader = DataLoader(val_tensor_frame, batch_size=args.batch_size)\n",
    "test_loader = DataLoader(test_tensor_frame, batch_size=args.batch_size)\n",
    "\n",
    "if args.numerical_encoder_type == 'linear':\n",
    "    numerical_encoder = LinearEncoder()\n",
    "elif args.numerical_encoder_type == 'linearbucket':\n",
    "    numerical_encoder = LinearBucketEncoder()\n",
    "elif args.numerical_encoder_type == 'linearperiodic':\n",
    "    numerical_encoder = LinearPeriodicEncoder()\n",
    "else:\n",
    "    raise ValueError(\n",
    "        f'Unsupported encoder type: {args.numerical_encoder_type}')\n",
    "\n",
    "stype_encoder_dict = {\n",
    "    stype.categorical: EmbeddingEncoder(),\n",
    "    stype.numerical: numerical_encoder,\n",
    "}\n",
    "\n",
    "if is_classification:\n",
    "    #output_channels = dataset.num_classes    ->   contains StatType.COUNT을 포함하지 않아서 오류(?)\n",
    "    output_channels = 2 # 그냥 수동으로 설정.,,,,   => 분류 칼럼 unique 개수로 설정 \n",
    "else:\n",
    "    output_channels = 1"
   ]
  },
  {
   "cell_type": "code",
   "execution_count": 30,
   "metadata": {},
   "outputs": [],
   "source": [
    "if args.model_type == 'fttransformer':\n",
    "    model = FTTransformer(\n",
    "        channels=args.channels,\n",
    "        out_channels=output_channels,\n",
    "        num_layers=args.num_layers,\n",
    "        col_stats=dataset.col_stats,    # TensorFrame이 col_stats를 안받아서 transor frame으로 바꾸기 전으로 받아와야 함 \n",
    "        col_names_dict=train_tensor_frame.col_names_dict,\n",
    "        stype_encoder_dict=stype_encoder_dict,\n",
    "    ).to(device)\n",
    "\n",
    "elif args.model_type == 'resnet':\n",
    "    model = ResNet(\n",
    "        channels=args.channels,\n",
    "        out_channels=output_channels,\n",
    "        num_layers=args.num_layers,\n",
    "        col_stats=dataset.col_stats,\n",
    "        col_names_dict=train_tensor_frame.col_names_dict,\n",
    "    ).to(device)\n",
    "else:\n",
    "    raise ValueError(f'Unsupported model type: {args.model_type}')\n",
    "\n",
    "model = torch.compile(model, dynamic=True) if args.compile else model\n",
    "optimizer = torch.optim.AdamW(model.parameters(), lr=args.lr)"
   ]
  },
  {
   "cell_type": "code",
   "execution_count": 31,
   "metadata": {},
   "outputs": [],
   "source": [
    "def train(epoch: int) -> float:\n",
    "    model.train()\n",
    "    loss_accum = total_count = 0\n",
    "\n",
    "    for tf in tqdm(train_loader, desc=f'Epoch: {epoch}'):\n",
    "        tf = tf.to(device)\n",
    "        pred = model(tf)\n",
    "        if is_classification:\n",
    "            loss = F.cross_entropy(pred, tf.y.long())\n",
    "        else:\n",
    "            loss = F.mse_loss(pred.view(-1), tf.y.view(-1))\n",
    "        optimizer.zero_grad()\n",
    "        loss.backward()\n",
    "        loss_accum += float(loss) * len(tf.y)\n",
    "        total_count += len(tf.y)\n",
    "        optimizer.step()\n",
    "    return loss_accum / total_count\n",
    "\n",
    "\n",
    "@torch.no_grad()\n",
    "def test(loader: DataLoader) -> float:\n",
    "    model.eval()\n",
    "    accum = total_count = 0\n",
    "\n",
    "    for tf in loader:\n",
    "        tf = tf.to(device)\n",
    "        pred = model(tf)\n",
    "        if is_classification:\n",
    "            pred_class = pred.argmax(dim=-1)\n",
    "            accum += float((tf.y == pred_class).sum())\n",
    "        else:\n",
    "            accum += float(\n",
    "                F.mse_loss(pred.view(-1), tf.y.view(-1), reduction='sum'))\n",
    "        total_count += len(tf.y)\n",
    "\n",
    "    if is_classification:\n",
    "        accuracy = accum / total_count\n",
    "        return accuracy\n",
    "    else:\n",
    "        rmse = (accum / total_count)**0.5\n",
    "        return rmse\n"
   ]
  },
  {
   "cell_type": "code",
   "execution_count": 32,
   "metadata": {},
   "outputs": [
    {
     "name": "stderr",
     "output_type": "stream",
     "text": [
      "Epoch: 1: 100%|██████████| 175/175 [00:05<00:00, 31.90it/s]\n"
     ]
    },
    {
     "name": "stdout",
     "output_type": "stream",
     "text": [
      "Train Loss: 0.6566, Train Acc: 0.6314, Val Acc: 0.6315, Test Acc: 0.6409\n"
     ]
    },
    {
     "name": "stderr",
     "output_type": "stream",
     "text": [
      "Epoch: 2: 100%|██████████| 175/175 [00:01<00:00, 99.09it/s] \n"
     ]
    },
    {
     "name": "stdout",
     "output_type": "stream",
     "text": [
      "Train Loss: 0.6488, Train Acc: 0.6323, Val Acc: 0.6319, Test Acc: 0.6426\n"
     ]
    },
    {
     "name": "stderr",
     "output_type": "stream",
     "text": [
      "Epoch: 3: 100%|██████████| 175/175 [00:02<00:00, 83.96it/s] \n"
     ]
    },
    {
     "name": "stdout",
     "output_type": "stream",
     "text": [
      "Train Loss: 0.6468, Train Acc: 0.6344, Val Acc: 0.6353, Test Acc: 0.6424\n"
     ]
    },
    {
     "name": "stderr",
     "output_type": "stream",
     "text": [
      "Epoch: 4: 100%|██████████| 175/175 [00:02<00:00, 87.00it/s] \n"
     ]
    },
    {
     "name": "stdout",
     "output_type": "stream",
     "text": [
      "Train Loss: 0.6465, Train Acc: 0.6304, Val Acc: 0.6333, Test Acc: 0.6409\n"
     ]
    },
    {
     "name": "stderr",
     "output_type": "stream",
     "text": [
      "Epoch: 5: 100%|██████████| 175/175 [00:01<00:00, 103.62it/s]\n"
     ]
    },
    {
     "name": "stdout",
     "output_type": "stream",
     "text": [
      "Train Loss: 0.6455, Train Acc: 0.6362, Val Acc: 0.6362, Test Acc: 0.6438\n"
     ]
    },
    {
     "name": "stderr",
     "output_type": "stream",
     "text": [
      "Epoch: 6: 100%|██████████| 175/175 [00:01<00:00, 95.77it/s]\n"
     ]
    },
    {
     "name": "stdout",
     "output_type": "stream",
     "text": [
      "Train Loss: 0.6442, Train Acc: 0.6376, Val Acc: 0.6348, Test Acc: 0.6376\n"
     ]
    },
    {
     "name": "stderr",
     "output_type": "stream",
     "text": [
      "Epoch: 7: 100%|██████████| 175/175 [00:01<00:00, 108.82it/s]\n"
     ]
    },
    {
     "name": "stdout",
     "output_type": "stream",
     "text": [
      "Train Loss: 0.6441, Train Acc: 0.6375, Val Acc: 0.6327, Test Acc: 0.6431\n"
     ]
    },
    {
     "name": "stderr",
     "output_type": "stream",
     "text": [
      "Epoch: 8: 100%|██████████| 175/175 [00:02<00:00, 83.14it/s]\n"
     ]
    },
    {
     "name": "stdout",
     "output_type": "stream",
     "text": [
      "Train Loss: 0.6426, Train Acc: 0.6383, Val Acc: 0.6329, Test Acc: 0.6391\n"
     ]
    },
    {
     "name": "stderr",
     "output_type": "stream",
     "text": [
      "Epoch: 9: 100%|██████████| 175/175 [00:02<00:00, 76.58it/s] \n"
     ]
    },
    {
     "name": "stdout",
     "output_type": "stream",
     "text": [
      "Train Loss: 0.6421, Train Acc: 0.6367, Val Acc: 0.6349, Test Acc: 0.6412\n"
     ]
    },
    {
     "name": "stderr",
     "output_type": "stream",
     "text": [
      "Epoch: 10: 100%|██████████| 175/175 [00:02<00:00, 78.64it/s]\n"
     ]
    },
    {
     "name": "stdout",
     "output_type": "stream",
     "text": [
      "Train Loss: 0.6411, Train Acc: 0.6414, Val Acc: 0.6369, Test Acc: 0.6424\n"
     ]
    },
    {
     "name": "stderr",
     "output_type": "stream",
     "text": [
      "Epoch: 11: 100%|██████████| 175/175 [00:02<00:00, 73.68it/s]\n"
     ]
    },
    {
     "name": "stdout",
     "output_type": "stream",
     "text": [
      "Train Loss: 0.6395, Train Acc: 0.6409, Val Acc: 0.6352, Test Acc: 0.6385\n"
     ]
    },
    {
     "name": "stderr",
     "output_type": "stream",
     "text": [
      "Epoch: 12: 100%|██████████| 175/175 [00:02<00:00, 83.87it/s]\n"
     ]
    },
    {
     "name": "stdout",
     "output_type": "stream",
     "text": [
      "Train Loss: 0.6396, Train Acc: 0.6442, Val Acc: 0.6317, Test Acc: 0.6403\n"
     ]
    },
    {
     "name": "stderr",
     "output_type": "stream",
     "text": [
      "Epoch: 13: 100%|██████████| 175/175 [00:02<00:00, 85.97it/s] \n"
     ]
    },
    {
     "name": "stdout",
     "output_type": "stream",
     "text": [
      "Train Loss: 0.6380, Train Acc: 0.6450, Val Acc: 0.6341, Test Acc: 0.6413\n"
     ]
    },
    {
     "name": "stderr",
     "output_type": "stream",
     "text": [
      "Epoch: 14: 100%|██████████| 175/175 [00:02<00:00, 72.90it/s]\n"
     ]
    },
    {
     "name": "stdout",
     "output_type": "stream",
     "text": [
      "Train Loss: 0.6367, Train Acc: 0.6457, Val Acc: 0.6384, Test Acc: 0.6380\n"
     ]
    },
    {
     "name": "stderr",
     "output_type": "stream",
     "text": [
      "Epoch: 15: 100%|██████████| 175/175 [00:01<00:00, 100.26it/s]\n"
     ]
    },
    {
     "name": "stdout",
     "output_type": "stream",
     "text": [
      "Train Loss: 0.6352, Train Acc: 0.6478, Val Acc: 0.6403, Test Acc: 0.6394\n",
      "Best Val Acc: 0.6403, Best Test Acc: 0.6394\n"
     ]
    }
   ],
   "source": [
    "# 훈련 및 테스트\n",
    "\n",
    "if is_classification:\n",
    "    metric = 'Acc'\n",
    "    best_val_metric = 0\n",
    "    best_test_metric = 0\n",
    "else:\n",
    "    metric = 'RMSE'\n",
    "    best_val_metric = float('inf')\n",
    "    best_test_metric = float('inf')\n",
    "\n",
    "for epoch in range(1, args.epochs + 1):\n",
    "    train_loss = train(epoch)\n",
    "    train_metric = test(train_loader)\n",
    "    val_metric = test(val_loader)\n",
    "    test_metric = test(test_loader)\n",
    "\n",
    "    if is_classification and val_metric > best_val_metric:\n",
    "        best_val_metric = val_metric\n",
    "        best_test_metric = test_metric\n",
    "    elif not is_classification and val_metric < best_val_metric:\n",
    "        best_val_metric = val_metric\n",
    "        best_test_metric = test_metric\n",
    "\n",
    "    print(f'Train Loss: {train_loss:.4f}, Train {metric}: {train_metric:.4f}, '\n",
    "          f'Val {metric}: {val_metric:.4f}, Test {metric}: {test_metric:.4f}')\n",
    "\n",
    "print(f'Best Val {metric}: {best_val_metric:.4f}, '\n",
    "      f'Best Test {metric}: {best_test_metric:.4f}')\n"
   ]
  },
  {
   "cell_type": "code",
   "execution_count": 33,
   "metadata": {},
   "outputs": [
    {
     "data": {
      "text/plain": [
       "0.6393986986762397"
      ]
     },
     "execution_count": 33,
     "metadata": {},
     "output_type": "execute_result"
    }
   ],
   "source": [
    "resnet_score = best_test_metric\n",
    "resnet_score"
   ]
  },
  {
   "cell_type": "markdown",
   "metadata": {},
   "source": [
    "### FT-T"
   ]
  },
  {
   "cell_type": "code",
   "execution_count": 34,
   "metadata": {},
   "outputs": [
    {
     "data": {
      "text/plain": [
       "_StoreTrueAction(option_strings=['--compile'], dest='compile', nargs=0, const=True, default=False, type=None, choices=None, required=False, help=None, metavar=None)"
      ]
     },
     "execution_count": 34,
     "metadata": {},
     "output_type": "execute_result"
    }
   ],
   "source": [
    "parser = argparse.ArgumentParser()\n",
    "parser.add_argument('--dataset', type=str, default='adult')\n",
    "parser.add_argument('--numerical_encoder_type', type=str, default='linear',\n",
    "                    choices=['linear', 'linearbucket', 'linearperiodic'])\n",
    "parser.add_argument('--model_type', type=str, default='fttransformer',\n",
    "                    choices=['fttransformer', 'resnet'])\n",
    "parser.add_argument('--channels', type=int, default=256)\n",
    "parser.add_argument('--num_layers', type=int, default=4)\n",
    "parser.add_argument('--batch_size', type=int, default=512)\n",
    "parser.add_argument('--lr', type=float, default=0.0001)\n",
    "parser.add_argument('--epochs', type=int, default=100)\n",
    "parser.add_argument('--seed', type=int, default=0)\n",
    "parser.add_argument('--compile', action='store_true')"
   ]
  },
  {
   "cell_type": "code",
   "execution_count": 35,
   "metadata": {},
   "outputs": [],
   "source": [
    "# Jupyter에서 실행될 때는 sys.argv를 조정\n",
    "args = parser.parse_args([\n",
    "    #'--dataset', 'adult',\n",
    "    '--numerical_encoder_type', 'linear',\n",
    "    '--model_type', 'fttransformer',       # fttransformer : FT-T / resnet : ResNet\n",
    "    '--channels', '256',\n",
    "    '--num_layers', '4',\n",
    "    '--batch_size', '256',  # 데이터를 256개씩 한번에 \n",
    "    '--lr', '0.0001',\n",
    "    '--epochs', '15',\n",
    "    '--seed', '0'\n",
    "])"
   ]
  },
  {
   "cell_type": "code",
   "execution_count": 36,
   "metadata": {},
   "outputs": [],
   "source": [
    "# Set up data loaders\n",
    "train_tensor_frame = train_dataset.tensor_frame\n",
    "val_tensor_frame = val_dataset.tensor_frame\n",
    "test_tensor_frame = test_dataset.tensor_frame\n",
    "train_loader = DataLoader(train_tensor_frame, batch_size=args.batch_size,\n",
    "                          shuffle=True)\n",
    "val_loader = DataLoader(val_tensor_frame, batch_size=args.batch_size)\n",
    "test_loader = DataLoader(test_tensor_frame, batch_size=args.batch_size)\n",
    "\n",
    "if args.numerical_encoder_type == 'linear':\n",
    "    numerical_encoder = LinearEncoder()\n",
    "elif args.numerical_encoder_type == 'linearbucket':\n",
    "    numerical_encoder = LinearBucketEncoder()\n",
    "elif args.numerical_encoder_type == 'linearperiodic':\n",
    "    numerical_encoder = LinearPeriodicEncoder()\n",
    "else:\n",
    "    raise ValueError(\n",
    "        f'Unsupported encoder type: {args.numerical_encoder_type}')\n",
    "\n",
    "stype_encoder_dict = {\n",
    "    stype.categorical: EmbeddingEncoder(),\n",
    "    stype.numerical: numerical_encoder,\n",
    "}\n",
    "\n",
    "if is_classification:\n",
    "    #output_channels = dataset.num_classes    ->   contains StatType.COUNT을 포함하지 않아서 오류(?)\n",
    "    output_channels = 2 # 그냥 수동으로 설정.,,,,   => 분류 칼럼 unique 개수로 설정 \n",
    "else:\n",
    "    output_channels = 1"
   ]
  },
  {
   "cell_type": "code",
   "execution_count": 37,
   "metadata": {},
   "outputs": [],
   "source": [
    "if args.model_type == 'fttransformer':\n",
    "    model = FTTransformer(\n",
    "        channels=args.channels,\n",
    "        out_channels=output_channels,\n",
    "        num_layers=args.num_layers,\n",
    "        col_stats=dataset.col_stats,    # TensorFrame이 col_stats를 안받아서 transor frame으로 바꾸기 전으로 받아와야 함 \n",
    "        col_names_dict=train_tensor_frame.col_names_dict,\n",
    "        stype_encoder_dict=stype_encoder_dict,\n",
    "    ).to(device)\n",
    "\n",
    "elif args.model_type == 'resnet':\n",
    "    model = ResNet(\n",
    "        channels=args.channels,\n",
    "        out_channels=output_channels,\n",
    "        num_layers=args.num_layers,\n",
    "        col_stats=dataset.col_stats,\n",
    "        col_names_dict=train_tensor_frame.col_names_dict,\n",
    "    ).to(device)\n",
    "else:\n",
    "    raise ValueError(f'Unsupported model type: {args.model_type}')\n",
    "\n",
    "model = torch.compile(model, dynamic=True) if args.compile else model\n",
    "optimizer = torch.optim.AdamW(model.parameters(), lr=args.lr)"
   ]
  },
  {
   "cell_type": "code",
   "execution_count": 38,
   "metadata": {},
   "outputs": [],
   "source": [
    "def train(epoch: int) -> float:\n",
    "    model.train()\n",
    "    loss_accum = total_count = 0\n",
    "\n",
    "    for tf in tqdm(train_loader, desc=f'Epoch: {epoch}'):\n",
    "        tf = tf.to(device)\n",
    "        pred = model(tf)\n",
    "        if is_classification:\n",
    "            loss = F.cross_entropy(pred, tf.y.long())\n",
    "        else:\n",
    "            loss = F.mse_loss(pred.view(-1), tf.y.view(-1))\n",
    "        optimizer.zero_grad()\n",
    "        loss.backward()\n",
    "        loss_accum += float(loss) * len(tf.y)\n",
    "        total_count += len(tf.y)\n",
    "        optimizer.step()\n",
    "    return loss_accum / total_count\n",
    "\n",
    "\n",
    "@torch.no_grad()\n",
    "def test(loader: DataLoader) -> float:\n",
    "    model.eval()\n",
    "    accum = total_count = 0\n",
    "\n",
    "    for tf in loader:\n",
    "        tf = tf.to(device)\n",
    "        pred = model(tf)\n",
    "        if is_classification:\n",
    "            pred_class = pred.argmax(dim=-1)\n",
    "            accum += float((tf.y == pred_class).sum())\n",
    "        else:\n",
    "            accum += float(\n",
    "                F.mse_loss(pred.view(-1), tf.y.view(-1), reduction='sum'))\n",
    "        total_count += len(tf.y)\n",
    "\n",
    "    if is_classification:\n",
    "        accuracy = accum / total_count\n",
    "        return accuracy\n",
    "    else:\n",
    "        rmse = (accum / total_count)**0.5\n",
    "        return rmse\n"
   ]
  },
  {
   "cell_type": "code",
   "execution_count": 39,
   "metadata": {},
   "outputs": [
    {
     "name": "stderr",
     "output_type": "stream",
     "text": [
      "Epoch: 1: 100%|██████████| 175/175 [00:04<00:00, 41.04it/s]\n"
     ]
    },
    {
     "name": "stdout",
     "output_type": "stream",
     "text": [
      "Train Loss: 0.6675, Train Acc: 0.6306, Val Acc: 0.6276, Test Acc: 0.6409\n"
     ]
    },
    {
     "name": "stderr",
     "output_type": "stream",
     "text": [
      "Epoch: 2: 100%|██████████| 175/175 [00:04<00:00, 42.72it/s]\n"
     ]
    },
    {
     "name": "stdout",
     "output_type": "stream",
     "text": [
      "Train Loss: 0.6540, Train Acc: 0.6314, Val Acc: 0.6307, Test Acc: 0.6409\n"
     ]
    },
    {
     "name": "stderr",
     "output_type": "stream",
     "text": [
      "Epoch: 3: 100%|██████████| 175/175 [00:03<00:00, 47.61it/s]\n"
     ]
    },
    {
     "name": "stdout",
     "output_type": "stream",
     "text": [
      "Train Loss: 0.6511, Train Acc: 0.6325, Val Acc: 0.6326, Test Acc: 0.6433\n"
     ]
    },
    {
     "name": "stderr",
     "output_type": "stream",
     "text": [
      "Epoch: 4: 100%|██████████| 175/175 [00:04<00:00, 43.14it/s]\n"
     ]
    },
    {
     "name": "stdout",
     "output_type": "stream",
     "text": [
      "Train Loss: 0.6505, Train Acc: 0.6335, Val Acc: 0.6337, Test Acc: 0.6438\n"
     ]
    },
    {
     "name": "stderr",
     "output_type": "stream",
     "text": [
      "Epoch: 5: 100%|██████████| 175/175 [00:04<00:00, 41.36it/s]\n"
     ]
    },
    {
     "name": "stdout",
     "output_type": "stream",
     "text": [
      "Train Loss: 0.6484, Train Acc: 0.6335, Val Acc: 0.6319, Test Acc: 0.6426\n"
     ]
    },
    {
     "name": "stderr",
     "output_type": "stream",
     "text": [
      "Epoch: 6: 100%|██████████| 175/175 [00:03<00:00, 44.53it/s]\n"
     ]
    },
    {
     "name": "stdout",
     "output_type": "stream",
     "text": [
      "Train Loss: 0.6475, Train Acc: 0.6344, Val Acc: 0.6317, Test Acc: 0.6420\n"
     ]
    },
    {
     "name": "stderr",
     "output_type": "stream",
     "text": [
      "Epoch: 7: 100%|██████████| 175/175 [00:04<00:00, 41.38it/s]\n"
     ]
    },
    {
     "name": "stdout",
     "output_type": "stream",
     "text": [
      "Train Loss: 0.6473, Train Acc: 0.6339, Val Acc: 0.6325, Test Acc: 0.6430\n"
     ]
    },
    {
     "name": "stderr",
     "output_type": "stream",
     "text": [
      "Epoch: 8: 100%|██████████| 175/175 [00:04<00:00, 41.30it/s]\n"
     ]
    },
    {
     "name": "stdout",
     "output_type": "stream",
     "text": [
      "Train Loss: 0.6472, Train Acc: 0.6345, Val Acc: 0.6340, Test Acc: 0.6416\n"
     ]
    },
    {
     "name": "stderr",
     "output_type": "stream",
     "text": [
      "Epoch: 9: 100%|██████████| 175/175 [00:03<00:00, 44.42it/s]\n"
     ]
    },
    {
     "name": "stdout",
     "output_type": "stream",
     "text": [
      "Train Loss: 0.6474, Train Acc: 0.6347, Val Acc: 0.6341, Test Acc: 0.6403\n"
     ]
    },
    {
     "name": "stderr",
     "output_type": "stream",
     "text": [
      "Epoch: 10: 100%|██████████| 175/175 [00:03<00:00, 45.30it/s]\n"
     ]
    },
    {
     "name": "stdout",
     "output_type": "stream",
     "text": [
      "Train Loss: 0.6459, Train Acc: 0.6322, Val Acc: 0.6302, Test Acc: 0.6420\n"
     ]
    },
    {
     "name": "stderr",
     "output_type": "stream",
     "text": [
      "Epoch: 11: 100%|██████████| 175/175 [00:04<00:00, 42.67it/s]\n"
     ]
    },
    {
     "name": "stdout",
     "output_type": "stream",
     "text": [
      "Train Loss: 0.6459, Train Acc: 0.6376, Val Acc: 0.6334, Test Acc: 0.6426\n"
     ]
    },
    {
     "name": "stderr",
     "output_type": "stream",
     "text": [
      "Epoch: 12: 100%|██████████| 175/175 [00:03<00:00, 44.82it/s]\n"
     ]
    },
    {
     "name": "stdout",
     "output_type": "stream",
     "text": [
      "Train Loss: 0.6454, Train Acc: 0.6366, Val Acc: 0.6349, Test Acc: 0.6425\n"
     ]
    },
    {
     "name": "stderr",
     "output_type": "stream",
     "text": [
      "Epoch: 13: 100%|██████████| 175/175 [00:03<00:00, 44.46it/s]\n"
     ]
    },
    {
     "name": "stdout",
     "output_type": "stream",
     "text": [
      "Train Loss: 0.6459, Train Acc: 0.6354, Val Acc: 0.6338, Test Acc: 0.6406\n"
     ]
    },
    {
     "name": "stderr",
     "output_type": "stream",
     "text": [
      "Epoch: 14: 100%|██████████| 175/175 [00:03<00:00, 43.95it/s]\n"
     ]
    },
    {
     "name": "stdout",
     "output_type": "stream",
     "text": [
      "Train Loss: 0.6448, Train Acc: 0.6361, Val Acc: 0.6315, Test Acc: 0.6418\n"
     ]
    },
    {
     "name": "stderr",
     "output_type": "stream",
     "text": [
      "Epoch: 15: 100%|██████████| 175/175 [00:04<00:00, 37.92it/s]\n"
     ]
    },
    {
     "name": "stdout",
     "output_type": "stream",
     "text": [
      "Train Loss: 0.6442, Train Acc: 0.6366, Val Acc: 0.6388, Test Acc: 0.6412\n",
      "Best Val Acc: 0.6388, Best Test Acc: 0.6412\n"
     ]
    }
   ],
   "source": [
    "# 훈련 및 테스트\n",
    "\n",
    "if is_classification:\n",
    "    metric = 'Acc'\n",
    "    best_val_metric = 0\n",
    "    best_test_metric = 0\n",
    "else:\n",
    "    metric = 'RMSE'\n",
    "    best_val_metric = float('inf')\n",
    "    best_test_metric = float('inf')\n",
    "\n",
    "for epoch in range(1, args.epochs + 1):\n",
    "    train_loss = train(epoch)\n",
    "    train_metric = test(train_loader)\n",
    "    val_metric = test(val_loader)\n",
    "    test_metric = test(test_loader)\n",
    "\n",
    "    if is_classification and val_metric > best_val_metric:\n",
    "        best_val_metric = val_metric\n",
    "        best_test_metric = test_metric\n",
    "    elif not is_classification and val_metric < best_val_metric:\n",
    "        best_val_metric = val_metric\n",
    "        best_test_metric = test_metric\n",
    "\n",
    "    print(f'Train Loss: {train_loss:.4f}, Train {metric}: {train_metric:.4f}, '\n",
    "          f'Val {metric}: {val_metric:.4f}, Test {metric}: {test_metric:.4f}')\n",
    "\n",
    "print(f'Best Val {metric}: {best_val_metric:.4f}, '\n",
    "      f'Best Test {metric}: {best_test_metric:.4f}')\n"
   ]
  },
  {
   "cell_type": "code",
   "execution_count": 40,
   "metadata": {},
   "outputs": [
    {
     "data": {
      "text/plain": [
       "0.6411936280008975"
      ]
     },
     "execution_count": 40,
     "metadata": {},
     "output_type": "execute_result"
    }
   ],
   "source": [
    "ftt_score = best_test_metric\n",
    "ftt_score"
   ]
  },
  {
   "cell_type": "markdown",
   "metadata": {},
   "source": [
    "### TabNet"
   ]
  },
  {
   "cell_type": "code",
   "execution_count": 41,
   "metadata": {},
   "outputs": [
    {
     "data": {
      "text/plain": [
       "<torch._C.Generator at 0x7fe53705b210>"
      ]
     },
     "execution_count": 41,
     "metadata": {},
     "output_type": "execute_result"
    }
   ],
   "source": [
    "parser = argparse.ArgumentParser()\n",
    "parser.add_argument('--dataset', type=str, default=\"ForestCoverType\",\n",
    "                    choices=[\"ForestCoverType\", \"KDDCensusIncome\"])\n",
    "parser.add_argument('--channels', type=int, default=128)\n",
    "parser.add_argument('--gamma', type=int, default=1.2)\n",
    "parser.add_argument('--num_layers', type=int, default=6)\n",
    "parser.add_argument('--batch_size', type=int, default=4096)\n",
    "parser.add_argument('--lr', type=float, default=0.005)\n",
    "parser.add_argument('--epochs', type=int, default=50)\n",
    "parser.add_argument('--seed', type=int, default=0)\n",
    "parser.add_argument('--compile', action='store_true')\n",
    "\n",
    "\n",
    "args = parser.parse_args([\n",
    "    \"--channels\", \"256\",\n",
    "    \"--num_layers\", \"4\",\n",
    "    \"--batch_size\", \"256\",\n",
    "    \"--lr\", \"0.0001\",\n",
    "    \"--epochs\", \"15\"\n",
    "])\n",
    "\n",
    "torch.manual_seed(args.seed)"
   ]
  },
  {
   "cell_type": "code",
   "execution_count": 42,
   "metadata": {},
   "outputs": [],
   "source": [
    "# Set up data loaders\n",
    "train_tensor_frame = train_dataset.tensor_frame\n",
    "val_tensor_frame = val_dataset.tensor_frame\n",
    "test_tensor_frame = test_dataset.tensor_frame\n",
    "train_loader = DataLoader(train_tensor_frame, batch_size=args.batch_size,\n",
    "                          shuffle=True)\n",
    "val_loader = DataLoader(val_tensor_frame, batch_size=args.batch_size)\n",
    "test_loader = DataLoader(test_tensor_frame, batch_size=args.batch_size)"
   ]
  },
  {
   "cell_type": "code",
   "execution_count": 43,
   "metadata": {},
   "outputs": [],
   "source": [
    "# Set up model and optimizer\n",
    "model = TabNet(\n",
    "    out_channels = 2,\n",
    "    num_layers=args.num_layers,\n",
    "    split_attn_channels=args.channels,\n",
    "    split_feat_channels=args.channels,\n",
    "    gamma=args.gamma,\n",
    "    col_stats=dataset.col_stats,\n",
    "    col_names_dict=train_tensor_frame.col_names_dict,\n",
    ").to(device)\n",
    "model = torch.compile(model, dynamic=True) if args.compile else model\n",
    "optimizer = torch.optim.Adam(model.parameters(), lr=args.lr)\n",
    "lr_scheduler = ExponentialLR(optimizer, gamma=0.95)"
   ]
  },
  {
   "cell_type": "code",
   "execution_count": 44,
   "metadata": {},
   "outputs": [],
   "source": [
    "def train(epoch: int) -> float:\n",
    "    model.train()\n",
    "    loss_accum = total_count = 0\n",
    "\n",
    "    for tf in tqdm(train_loader, desc=f'Epoch: {epoch}'):\n",
    "        tf = tf.to(device)\n",
    "        pred = model(tf)\n",
    "        loss = F.cross_entropy(pred, tf.y.long())\n",
    "        optimizer.zero_grad()\n",
    "        loss.backward()\n",
    "        loss_accum += float(loss) * len(tf.y)\n",
    "        total_count += len(tf.y)\n",
    "        optimizer.step()\n",
    "    return loss_accum / total_count\n",
    "\n",
    "\n",
    "@torch.no_grad()\n",
    "def test(loader: DataLoader) -> float:\n",
    "    model.eval()\n",
    "    accum = total_count = 0\n",
    "\n",
    "    for tf in loader:\n",
    "        tf = tf.to(device)\n",
    "        pred = model(tf)\n",
    "        pred_class = pred.argmax(dim=-1)\n",
    "        accum += float((tf.y == pred_class).sum())\n",
    "        total_count += len(tf.y)\n",
    "\n",
    "    return accum / total_count"
   ]
  },
  {
   "cell_type": "code",
   "execution_count": 45,
   "metadata": {},
   "outputs": [
    {
     "name": "stderr",
     "output_type": "stream",
     "text": [
      "Epoch: 1: 100%|██████████| 175/175 [00:03<00:00, 49.25it/s]\n"
     ]
    },
    {
     "name": "stdout",
     "output_type": "stream",
     "text": [
      "Train Loss: 0.6671, Train Acc: 0.6271, Val Acc: 0.6292, Test Acc: 0.6377\n"
     ]
    },
    {
     "name": "stderr",
     "output_type": "stream",
     "text": [
      "Epoch: 2: 100%|██████████| 175/175 [00:03<00:00, 44.69it/s]\n"
     ]
    },
    {
     "name": "stdout",
     "output_type": "stream",
     "text": [
      "Train Loss: 0.6502, Train Acc: 0.6302, Val Acc: 0.6274, Test Acc: 0.6350\n"
     ]
    },
    {
     "name": "stderr",
     "output_type": "stream",
     "text": [
      "Epoch: 3: 100%|██████████| 175/175 [00:03<00:00, 50.19it/s]\n"
     ]
    },
    {
     "name": "stdout",
     "output_type": "stream",
     "text": [
      "Train Loss: 0.6473, Train Acc: 0.6323, Val Acc: 0.6270, Test Acc: 0.6344\n"
     ]
    },
    {
     "name": "stderr",
     "output_type": "stream",
     "text": [
      "Epoch: 4: 100%|██████████| 175/175 [00:03<00:00, 50.82it/s]\n"
     ]
    },
    {
     "name": "stdout",
     "output_type": "stream",
     "text": [
      "Train Loss: 0.6457, Train Acc: 0.6363, Val Acc: 0.6288, Test Acc: 0.6321\n"
     ]
    },
    {
     "name": "stderr",
     "output_type": "stream",
     "text": [
      "Epoch: 5: 100%|██████████| 175/175 [00:03<00:00, 54.53it/s]\n"
     ]
    },
    {
     "name": "stdout",
     "output_type": "stream",
     "text": [
      "Train Loss: 0.6422, Train Acc: 0.6395, Val Acc: 0.6260, Test Acc: 0.6335\n"
     ]
    },
    {
     "name": "stderr",
     "output_type": "stream",
     "text": [
      "Epoch: 6: 100%|██████████| 175/175 [00:03<00:00, 52.02it/s]\n"
     ]
    },
    {
     "name": "stdout",
     "output_type": "stream",
     "text": [
      "Train Loss: 0.6392, Train Acc: 0.6428, Val Acc: 0.6284, Test Acc: 0.6309\n"
     ]
    },
    {
     "name": "stderr",
     "output_type": "stream",
     "text": [
      "Epoch: 7: 100%|██████████| 175/175 [00:03<00:00, 44.37it/s]\n"
     ]
    },
    {
     "name": "stdout",
     "output_type": "stream",
     "text": [
      "Train Loss: 0.6354, Train Acc: 0.6458, Val Acc: 0.6268, Test Acc: 0.6309\n"
     ]
    },
    {
     "name": "stderr",
     "output_type": "stream",
     "text": [
      "Epoch: 8: 100%|██████████| 175/175 [00:03<00:00, 53.14it/s]\n"
     ]
    },
    {
     "name": "stdout",
     "output_type": "stream",
     "text": [
      "Train Loss: 0.6313, Train Acc: 0.6520, Val Acc: 0.6208, Test Acc: 0.6278\n"
     ]
    },
    {
     "name": "stderr",
     "output_type": "stream",
     "text": [
      "Epoch: 9: 100%|██████████| 175/175 [00:03<00:00, 54.41it/s]\n"
     ]
    },
    {
     "name": "stdout",
     "output_type": "stream",
     "text": [
      "Train Loss: 0.6266, Train Acc: 0.6573, Val Acc: 0.6218, Test Acc: 0.6268\n"
     ]
    },
    {
     "name": "stderr",
     "output_type": "stream",
     "text": [
      "Epoch: 10: 100%|██████████| 175/175 [00:03<00:00, 49.01it/s]\n"
     ]
    },
    {
     "name": "stdout",
     "output_type": "stream",
     "text": [
      "Train Loss: 0.6208, Train Acc: 0.6617, Val Acc: 0.6177, Test Acc: 0.6236\n"
     ]
    },
    {
     "name": "stderr",
     "output_type": "stream",
     "text": [
      "Epoch: 11: 100%|██████████| 175/175 [00:03<00:00, 55.16it/s]\n"
     ]
    },
    {
     "name": "stdout",
     "output_type": "stream",
     "text": [
      "Train Loss: 0.6165, Train Acc: 0.6663, Val Acc: 0.6187, Test Acc: 0.6224\n"
     ]
    },
    {
     "name": "stderr",
     "output_type": "stream",
     "text": [
      "Epoch: 12: 100%|██████████| 175/175 [00:03<00:00, 57.62it/s]\n"
     ]
    },
    {
     "name": "stdout",
     "output_type": "stream",
     "text": [
      "Train Loss: 0.6102, Train Acc: 0.6697, Val Acc: 0.6147, Test Acc: 0.6193\n"
     ]
    },
    {
     "name": "stderr",
     "output_type": "stream",
     "text": [
      "Epoch: 13: 100%|██████████| 175/175 [00:03<00:00, 56.59it/s]\n"
     ]
    },
    {
     "name": "stdout",
     "output_type": "stream",
     "text": [
      "Train Loss: 0.6072, Train Acc: 0.6770, Val Acc: 0.6111, Test Acc: 0.6154\n"
     ]
    },
    {
     "name": "stderr",
     "output_type": "stream",
     "text": [
      "Epoch: 14: 100%|██████████| 175/175 [00:03<00:00, 55.58it/s]\n"
     ]
    },
    {
     "name": "stdout",
     "output_type": "stream",
     "text": [
      "Train Loss: 0.6022, Train Acc: 0.6805, Val Acc: 0.6074, Test Acc: 0.6143\n"
     ]
    },
    {
     "name": "stderr",
     "output_type": "stream",
     "text": [
      "Epoch: 15: 100%|██████████| 175/175 [00:03<00:00, 55.15it/s]\n"
     ]
    },
    {
     "name": "stdout",
     "output_type": "stream",
     "text": [
      "Train Loss: 0.5978, Train Acc: 0.6830, Val Acc: 0.6103, Test Acc: 0.6131\n",
      "Best Val Acc: 0.6292, Best Test Acc: 0.6377\n"
     ]
    }
   ],
   "source": [
    "best_val_acc = 0\n",
    "best_test_acc = 0\n",
    "for epoch in range(1, args.epochs + 1):\n",
    "    train_loss = train(epoch)\n",
    "    train_acc = test(train_loader)\n",
    "    val_acc = test(val_loader)\n",
    "    test_acc = test(test_loader)\n",
    "    if best_val_acc < val_acc:\n",
    "        best_val_acc = val_acc\n",
    "        best_test_acc = test_acc\n",
    "    print(f'Train Loss: {train_loss:.4f}, Train Acc: {train_acc:.4f}, '\n",
    "          f'Val Acc: {val_acc:.4f}, Test Acc: {test_acc:.4f}')\n",
    "    lr_scheduler.step()\n",
    "\n",
    "print(f'Best Val Acc: {best_val_acc:.4f}, Best Test Acc: {best_test_acc:.4f}')"
   ]
  },
  {
   "cell_type": "code",
   "execution_count": 46,
   "metadata": {},
   "outputs": [
    {
     "data": {
      "text/plain": [
       "0.6376935158178146"
      ]
     },
     "execution_count": 46,
     "metadata": {},
     "output_type": "execute_result"
    }
   ],
   "source": [
    "tabnet_score = best_test_acc\n",
    "tabnet_score"
   ]
  },
  {
   "cell_type": "markdown",
   "metadata": {},
   "source": [
    "### Tab_Transformer"
   ]
  },
  {
   "cell_type": "code",
   "execution_count": 47,
   "metadata": {},
   "outputs": [],
   "source": [
    "# Jupyter에서 실행될 때는 sys.argv를 조정\n",
    "parser = argparse.ArgumentParser()\n",
    "parser.add_argument('--dataset', type=str, default='dota2',\n",
    "                    choices=[\"adult\", \"dota2\", \"bank-marketing\"])\n",
    "parser.add_argument('--channels', type=int, default=32)\n",
    "parser.add_argument('--num_heads', type=int, default=8)\n",
    "parser.add_argument('--num_layers', type=int, default=6)\n",
    "parser.add_argument('--encoder_pad_size', type=int, default=2)\n",
    "parser.add_argument('--attention_dropout', type=float, default=0.3)\n",
    "parser.add_argument('--ffn_dropout', type=float, default=0.3)\n",
    "parser.add_argument('--batch_size', type=int, default=128)\n",
    "parser.add_argument('--lr', type=float, default=0.0001)\n",
    "parser.add_argument('--epochs', type=int, default=50)\n",
    "parser.add_argument('--seed', type=int, default=0)\n",
    "parser.add_argument('--compile', action='store_true')\n",
    "\n",
    "args = parser.parse_args([\n",
    "    '--channels', '256',\n",
    "    '--num_layers', '4',\n",
    "    '--batch_size', '256',  # 데이터를 256개씩 한번에 \n",
    "    '--lr', '0.0001',\n",
    "    '--epochs', '15',\n",
    "    '--seed', '0'\n",
    "])"
   ]
  },
  {
   "cell_type": "code",
   "execution_count": 48,
   "metadata": {},
   "outputs": [],
   "source": [
    "# Set up data loaders\n",
    "train_tensor_frame = train_dataset.tensor_frame\n",
    "val_tensor_frame = val_dataset.tensor_frame\n",
    "test_tensor_frame = test_dataset.tensor_frame\n",
    "train_loader = DataLoader(train_tensor_frame, batch_size=args.batch_size,\n",
    "                          shuffle=True)\n",
    "val_loader = DataLoader(val_tensor_frame, batch_size=args.batch_size)\n",
    "test_loader = DataLoader(test_tensor_frame, batch_size=args.batch_size)"
   ]
  },
  {
   "cell_type": "code",
   "execution_count": 49,
   "metadata": {},
   "outputs": [],
   "source": [
    "# Set up model and optimizer\n",
    "model = TabTransformer(\n",
    "    channels=args.channels,\n",
    "    out_channels= 2,        # stype 문제로 수동으로 설정 \n",
    "    num_layers=args.num_layers,\n",
    "    num_heads=args.num_heads,\n",
    "    encoder_pad_size=args.encoder_pad_size,\n",
    "    attn_dropout=args.attention_dropout,\n",
    "    ffn_dropout=args.ffn_dropout,\n",
    "    col_stats=dataset.col_stats,\n",
    "    col_names_dict=train_tensor_frame.col_names_dict,\n",
    ").to(device)\n",
    "model = torch.compile(model, dynamic=True) if args.compile else model\n",
    "optimizer = torch.optim.Adam(model.parameters(), lr=args.lr)\n",
    "lr_scheduler = ExponentialLR(optimizer, gamma=0.95)"
   ]
  },
  {
   "cell_type": "code",
   "execution_count": 50,
   "metadata": {},
   "outputs": [],
   "source": [
    "def train(epoch: int) -> float:\n",
    "    model.train()\n",
    "    loss_accum = total_count = 0\n",
    "\n",
    "    for tf in tqdm(train_loader, desc=f'Epoch: {epoch}'):\n",
    "        tf = tf.to(device)\n",
    "        pred = model.forward(tf)\n",
    "        loss = F.cross_entropy(pred, tf.y.long())   # expected scalar type Long but found Float 때문에 tf.y => tf.y.long()\n",
    "        optimizer.zero_grad()\n",
    "        loss.backward()\n",
    "        loss_accum += float(loss) * len(tf.y)\n",
    "        total_count += len(tf.y)\n",
    "        optimizer.step()\n",
    "    return loss_accum / total_count\n",
    "\n",
    "\n",
    "@torch.no_grad()\n",
    "def test(loader: DataLoader) -> float:\n",
    "    model.eval()\n",
    "    accum = total_count = 0\n",
    "\n",
    "    for tf in loader:\n",
    "        tf = tf.to(device)\n",
    "        pred = model(tf)\n",
    "        if is_classification:\n",
    "            pred_class = pred.argmax(dim=-1)\n",
    "            accum += float((tf.y == pred_class).sum())\n",
    "        else:\n",
    "            accum += float(\n",
    "                F.mse_loss(pred.view(-1), tf.y.view(-1), reduction='sum'))\n",
    "        total_count += len(tf.y)\n",
    "\n",
    "    if is_classification:\n",
    "        accuracy = accum / total_count\n",
    "        return accuracy\n",
    "    else:\n",
    "        rmse = (accum / total_count)**0.5\n",
    "        return rmse"
   ]
  },
  {
   "cell_type": "code",
   "execution_count": 51,
   "metadata": {},
   "outputs": [
    {
     "name": "stderr",
     "output_type": "stream",
     "text": [
      "Epoch: 1: 100%|██████████| 175/175 [00:15<00:00, 11.10it/s]\n"
     ]
    },
    {
     "name": "stdout",
     "output_type": "stream",
     "text": [
      "Train Loss: 1.1803, Train ACC: 0.6106, Val ACC: 0.6049, Test ACC: 0.6156\n"
     ]
    },
    {
     "name": "stderr",
     "output_type": "stream",
     "text": [
      "Epoch: 2: 100%|██████████| 175/175 [00:15<00:00, 11.46it/s]\n"
     ]
    },
    {
     "name": "stdout",
     "output_type": "stream",
     "text": [
      "Train Loss: 0.6961, Train ACC: 0.6152, Val ACC: 0.6191, Test ACC: 0.6245\n"
     ]
    },
    {
     "name": "stderr",
     "output_type": "stream",
     "text": [
      "Epoch: 3: 100%|██████████| 175/175 [00:15<00:00, 11.16it/s]\n"
     ]
    },
    {
     "name": "stdout",
     "output_type": "stream",
     "text": [
      "Train Loss: 0.6907, Train ACC: 0.6251, Val ACC: 0.6283, Test ACC: 0.6342\n"
     ]
    },
    {
     "name": "stderr",
     "output_type": "stream",
     "text": [
      "Epoch: 4: 100%|██████████| 175/175 [00:15<00:00, 11.04it/s]\n"
     ]
    },
    {
     "name": "stdout",
     "output_type": "stream",
     "text": [
      "Train Loss: 0.6826, Train ACC: 0.6304, Val ACC: 0.6283, Test ACC: 0.6404\n"
     ]
    },
    {
     "name": "stderr",
     "output_type": "stream",
     "text": [
      "Epoch: 5: 100%|██████████| 175/175 [00:15<00:00, 11.33it/s]\n"
     ]
    },
    {
     "name": "stdout",
     "output_type": "stream",
     "text": [
      "Train Loss: 0.6788, Train ACC: 0.6238, Val ACC: 0.6251, Test ACC: 0.6356\n"
     ]
    },
    {
     "name": "stderr",
     "output_type": "stream",
     "text": [
      "Epoch: 6: 100%|██████████| 175/175 [00:15<00:00, 11.40it/s]\n"
     ]
    },
    {
     "name": "stdout",
     "output_type": "stream",
     "text": [
      "Train Loss: 0.6714, Train ACC: 0.6068, Val ACC: 0.6043, Test ACC: 0.6127\n"
     ]
    },
    {
     "name": "stderr",
     "output_type": "stream",
     "text": [
      "Epoch: 7: 100%|██████████| 175/175 [00:15<00:00, 11.31it/s]\n"
     ]
    },
    {
     "name": "stdout",
     "output_type": "stream",
     "text": [
      "Train Loss: 0.6694, Train ACC: 0.6303, Val ACC: 0.6345, Test ACC: 0.6414\n"
     ]
    },
    {
     "name": "stderr",
     "output_type": "stream",
     "text": [
      "Epoch: 8: 100%|██████████| 175/175 [00:15<00:00, 11.31it/s]\n"
     ]
    },
    {
     "name": "stdout",
     "output_type": "stream",
     "text": [
      "Train Loss: 0.6648, Train ACC: 0.5774, Val ACC: 0.5796, Test ACC: 0.5814\n"
     ]
    },
    {
     "name": "stderr",
     "output_type": "stream",
     "text": [
      "Epoch: 9: 100%|██████████| 175/175 [00:15<00:00, 11.29it/s]\n"
     ]
    },
    {
     "name": "stdout",
     "output_type": "stream",
     "text": [
      "Train Loss: 0.6663, Train ACC: 0.6250, Val ACC: 0.6286, Test ACC: 0.6338\n"
     ]
    },
    {
     "name": "stderr",
     "output_type": "stream",
     "text": [
      "Epoch: 10: 100%|██████████| 175/175 [00:15<00:00, 11.31it/s]\n"
     ]
    },
    {
     "name": "stdout",
     "output_type": "stream",
     "text": [
      "Train Loss: 0.6624, Train ACC: 0.6285, Val ACC: 0.6315, Test ACC: 0.6398\n"
     ]
    },
    {
     "name": "stderr",
     "output_type": "stream",
     "text": [
      "Epoch: 11: 100%|██████████| 175/175 [00:15<00:00, 11.48it/s]\n"
     ]
    },
    {
     "name": "stdout",
     "output_type": "stream",
     "text": [
      "Train Loss: 0.6661, Train ACC: 0.6150, Val ACC: 0.6108, Test ACC: 0.6200\n"
     ]
    },
    {
     "name": "stderr",
     "output_type": "stream",
     "text": [
      "Epoch: 12: 100%|██████████| 175/175 [00:15<00:00, 11.10it/s]\n"
     ]
    },
    {
     "name": "stdout",
     "output_type": "stream",
     "text": [
      "Train Loss: 0.6583, Train ACC: 0.6195, Val ACC: 0.6221, Test ACC: 0.6284\n"
     ]
    },
    {
     "name": "stderr",
     "output_type": "stream",
     "text": [
      "Epoch: 13: 100%|██████████| 175/175 [00:16<00:00, 10.78it/s]\n"
     ]
    },
    {
     "name": "stdout",
     "output_type": "stream",
     "text": [
      "Train Loss: 0.6585, Train ACC: 0.6309, Val ACC: 0.6322, Test ACC: 0.6424\n"
     ]
    },
    {
     "name": "stderr",
     "output_type": "stream",
     "text": [
      "Epoch: 14: 100%|██████████| 175/175 [00:15<00:00, 11.08it/s]\n"
     ]
    },
    {
     "name": "stdout",
     "output_type": "stream",
     "text": [
      "Train Loss: 0.6574, Train ACC: 0.6294, Val ACC: 0.6326, Test ACC: 0.6412\n"
     ]
    },
    {
     "name": "stderr",
     "output_type": "stream",
     "text": [
      "Epoch: 15: 100%|██████████| 175/175 [00:15<00:00, 11.10it/s]\n"
     ]
    },
    {
     "name": "stdout",
     "output_type": "stream",
     "text": [
      "Train Loss: 0.6568, Train ACC: 0.6093, Val ACC: 0.6136, Test ACC: 0.6166\n",
      "Best Val ACC: 0.6345, Best Test ACC: 0.6414\n"
     ]
    }
   ],
   "source": [
    "metric = 'ACC'\n",
    "best_val_metric = 0\n",
    "best_test_metric = 0\n",
    "for epoch in range(1, args.epochs + 1):\n",
    "    train_loss = train(epoch)\n",
    "    train_metric = test(train_loader)\n",
    "    val_metric = test(val_loader)\n",
    "    test_metric = test(test_loader)\n",
    "\n",
    "    if val_metric > best_val_metric:\n",
    "        best_val_metric = val_metric\n",
    "        best_test_metric = test_metric\n",
    "\n",
    "    print(f'Train Loss: {train_loss:.4f}, Train {metric}: {train_metric:.4f}, '\n",
    "          f'Val {metric}: {val_metric:.4f}, Test {metric}: {test_metric:.4f}')\n",
    "    lr_scheduler.step()\n",
    "\n",
    "print(f'Best Val {metric}: {best_val_metric:.4f}, '\n",
    "      f'Best Test {metric}: {best_test_metric:.4f}')"
   ]
  },
  {
   "cell_type": "code",
   "execution_count": 52,
   "metadata": {},
   "outputs": [
    {
     "data": {
      "text/plain": [
       "0.6414179941664797"
      ]
     },
     "execution_count": 52,
     "metadata": {},
     "output_type": "execute_result"
    }
   ],
   "source": [
    "tab_transformer_score = best_test_metric\n",
    "tab_transformer_score"
   ]
  },
  {
   "cell_type": "markdown",
   "metadata": {},
   "source": [
    "# 시각화"
   ]
  },
  {
   "cell_type": "code",
   "execution_count": 54,
   "metadata": {},
   "outputs": [
    {
     "data": {
      "image/png": "[encoded data removed]",
      "text/plain": [
       "<Figure size 1000x600 with 1 Axes>"
      ]
     },
     "metadata": {},
     "output_type": "display_data"
    }
   ],
   "source": [
    "import matplotlib.pyplot as plt\n",
    "import seaborn as sns\n",
    "\n",
    "models = ['Logistic Regression', 'Decision Tree', 'Random Forest', 'LightGBM', 'XGBoost', 'CatBoost', 'ResNet', 'FT-Transformer', 'TabNet', 'Tab_transformer']\n",
    "accuracies = [acc_lr, acc_dt, acc_rf, acc_lgb, acc_xgb, acc_cat, resnet_score, ftt_score, tabnet_score, tab_transformer_score]\n",
    "\n",
    "colors = sns.color_palette(\"pastel\", len(models))\n",
    "\n",
    "plt.figure(figsize=(10, 6))\n",
    "\n",
    "# 바 차트 그리기\n",
    "bars = plt.bar(models, accuracies, color=colors,  linewidth=1.2)\n",
    "\n",
    "plt.ylim(0, 1)\n",
    "\n",
    "for bar, acc in zip(bars, accuracies):\n",
    "    plt.text(bar.get_x() + bar.get_width()/2, bar.get_height(), f\"{acc:.2%}\",\n",
    "             ha='center', va='bottom', fontsize=10)\n",
    "\n",
    "\n",
    "plt.xlabel(\"Models\", fontsize=12)\n",
    "plt.ylabel(\"Accuracy Score\", fontsize=12)\n",
    "plt.title(\"Comparison of Model Accuracies _ AE\", fontsize=14, fontweight='bold')\n",
    "plt.xticks(rotation=15)\n",
    "plt.grid(axis='y', linestyle='--', alpha=0.7)\n",
    "\n",
    "plt.show()"
   ]
  },
  {
   "cell_type": "code",
   "execution_count": null,
   "metadata": {},
   "outputs": [],
   "source": []
  }
 ],
 "metadata": {
  "kernelspec": {
   "display_name": "base",
   "language": "python",
   "name": "python3"
  },
  "language_info": {
   "codemirror_mode": {
    "name": "ipython",
    "version": 3
   },
   "file_extension": ".py",
   "mimetype": "text/x-python",
   "name": "python",
   "nbconvert_exporter": "python",
   "pygments_lexer": "ipython3",
   "version": "3.10.13"
  }
 },
 "nbformat": 4,
 "nbformat_minor": 2
}
