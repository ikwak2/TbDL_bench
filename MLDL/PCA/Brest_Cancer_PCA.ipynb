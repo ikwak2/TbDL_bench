{
 "cells": [
  {
   "cell_type": "code",
   "execution_count": 5,
   "metadata": {},
   "outputs": [],
   "source": [
    "import os\n",
    "import math\n",
    "import time\n",
    "import argparse\n",
    "import numpy as np\n",
    "import pandas as pd\n",
    "import torch\n",
    "import torch.nn.functional as F\n",
    "from torch.nn import BCEWithLogitsLoss, CrossEntropyLoss, MSELoss, Module\n",
    "from torch.optim.lr_scheduler import ExponentialLR\n",
    "from torchmetrics import AUROC, Accuracy, MeanSquaredError\n",
    "from tqdm import tqdm\n",
    "from sklearn.metrics import roc_auc_score\n",
    "\n",
    "from torch_frame import stype\n",
    "from torch_frame.data import Dataset, DataLoader\n",
    "from torch_frame.datasets import (\n",
    "    ForestCoverType, KDDCensusIncome, DataFrameBenchmark,\n",
    "    AdultCensusIncome, BankMarketing, Dota2\n",
    ")\n",
    "from torch_frame.gbdt import CatBoost, LightGBM, XGBoost\n",
    "from torch_frame.nn import (\n",
    "    EmbeddingEncoder, FTTransformer, LinearBucketEncoder,\n",
    "    LinearEncoder, LinearPeriodicEncoder, ResNet, TabNet, TabTransformer\n",
    ")\n",
    "from torch_frame.nn.models import (\n",
    "    MLP, ExcelFormer, Trompt\n",
    ")\n",
    "from torch_frame.typing import TaskType\n",
    "\n",
    "\n",
    "\n",
    "# Use GPU for faster training\n",
    "device = torch.device(\"cuda\" if torch.cuda.is_available() else \"cpu\")"
   ]
  },
  {
   "cell_type": "code",
   "execution_count": 6,
   "metadata": {},
   "outputs": [],
   "source": [
    "from sklearn.decomposition import PCA\n",
    "from sklearn.preprocessing import StandardScaler"
   ]
  },
  {
   "cell_type": "markdown",
   "metadata": {},
   "source": [
    "# ML"
   ]
  },
  {
   "cell_type": "code",
   "execution_count": 7,
   "metadata": {},
   "outputs": [],
   "source": [
    "from sklearn.model_selection import train_test_split\n",
    "from sklearn.preprocessing import StandardScaler\n",
    "from sklearn.linear_model import LogisticRegression\n",
    "from sklearn.ensemble import RandomForestClassifier, GradientBoostingClassifier\n",
    "from xgboost import XGBClassifier\n",
    "from sklearn.metrics import accuracy_score, classification_report\n",
    "from sklearn.model_selection import GridSearchCV\n",
    "from sklearn.neighbors import KNeighborsClassifier\n",
    "from sklearn.tree import DecisionTreeClassifier\n",
    "from sklearn.svm import SVC\n",
    "from sklearn.metrics import accuracy_score, classification_report\n",
    "import lightgbm as lgb\n",
    "from imblearn.over_sampling import SMOTE\n",
    "import catboost as cb\n",
    "import xgboost as xgb\n",
    "from sklearn.model_selection import cross_val_score"
   ]
  },
  {
   "cell_type": "markdown",
   "metadata": {},
   "source": [
    "### Feature 증가 (PCA)"
   ]
  },
  {
   "cell_type": "code",
   "execution_count": 8,
   "metadata": {},
   "outputs": [],
   "source": [
    "## PCA 주성분 개수\n",
    "n = 2"
   ]
  },
  {
   "cell_type": "code",
   "execution_count": 9,
   "metadata": {},
   "outputs": [],
   "source": [
    "df = pd.read_csv(\"Breast_Cancer.csv\")\n",
    "\n",
    "# Alzheimer’s Diagnosis를 종속 변수(y)로 설정\n",
    "y_col = \"Status\"\n",
    "y = df[y_col]\n",
    "\n",
    "# 독립 변수 설정\n",
    "X = df.drop(columns=[y_col])\n",
    "\n",
    "# 연속형 변수와 범주형 변수 분리\n",
    "continuous_vars = X.select_dtypes(include=[\"int64\", \"float64\"]).columns\n",
    "\n",
    "## PCA 적용 전 정규화 \n",
    "scaler = StandardScaler()\n",
    "scaled_data = scaler.fit_transform(df[continuous_vars])\n",
    "\n",
    "# PCA 적용\n",
    "pca = PCA(n_components=n)\n",
    "principal_components = pca.fit_transform(scaled_data)\n",
    "\n",
    "df_pca = pd.DataFrame(principal_components, columns=['PCA_1', 'PCA_2'])\n",
    "df = pd.concat([df, df_pca], axis=1)"
   ]
  },
  {
   "cell_type": "code",
   "execution_count": 10,
   "metadata": {},
   "outputs": [],
   "source": [
    "df = pd.read_csv(\"Breast_Cancer.csv\")"
   ]
  },
  {
   "cell_type": "code",
   "execution_count": 11,
   "metadata": {},
   "outputs": [
    {
     "name": "stdout",
     "output_type": "stream",
     "text": [
      "<class 'pandas.core.frame.DataFrame'>\n",
      "RangeIndex: 4024 entries, 0 to 4023\n",
      "Data columns (total 16 columns):\n",
      " #   Column                  Non-Null Count  Dtype \n",
      "---  ------                  --------------  ----- \n",
      " 0   Age                     4024 non-null   int64 \n",
      " 1   Race                    4024 non-null   object\n",
      " 2   Marital Status          4024 non-null   object\n",
      " 3   T Stage                 4024 non-null   object\n",
      " 4   N Stage                 4024 non-null   object\n",
      " 5   6th Stage               4024 non-null   object\n",
      " 6   differentiate           4024 non-null   object\n",
      " 7   Grade                   4024 non-null   object\n",
      " 8   A Stage                 4024 non-null   object\n",
      " 9   Tumor Size              4024 non-null   int64 \n",
      " 10  Estrogen Status         4024 non-null   object\n",
      " 11  Progesterone Status     4024 non-null   object\n",
      " 12  Regional Node Examined  4024 non-null   int64 \n",
      " 13  Reginol Node Positive   4024 non-null   int64 \n",
      " 14  Survival Months         4024 non-null   int64 \n",
      " 15  Status                  4024 non-null   object\n",
      "dtypes: int64(5), object(11)\n",
      "memory usage: 503.1+ KB\n"
     ]
    }
   ],
   "source": [
    "df.info()"
   ]
  },
  {
   "cell_type": "code",
   "execution_count": 12,
   "metadata": {},
   "outputs": [
    {
     "data": {
      "text/html": [
       "<div>\n",
       "<style scoped>\n",
       "    .dataframe tbody tr th:only-of-type {\n",
       "        vertical-align: middle;\n",
       "    }\n",
       "\n",
       "    .dataframe tbody tr th {\n",
       "        vertical-align: top;\n",
       "    }\n",
       "\n",
       "    .dataframe thead th {\n",
       "        text-align: right;\n",
       "    }\n",
       "</style>\n",
       "<table border=\"1\" class=\"dataframe\">\n",
       "  <thead>\n",
       "    <tr style=\"text-align: right;\">\n",
       "      <th></th>\n",
       "      <th>Age</th>\n",
       "      <th>Race</th>\n",
       "      <th>Marital Status</th>\n",
       "      <th>T Stage</th>\n",
       "      <th>N Stage</th>\n",
       "      <th>6th Stage</th>\n",
       "      <th>differentiate</th>\n",
       "      <th>Grade</th>\n",
       "      <th>A Stage</th>\n",
       "      <th>Tumor Size</th>\n",
       "      <th>Estrogen Status</th>\n",
       "      <th>Progesterone Status</th>\n",
       "      <th>Regional Node Examined</th>\n",
       "      <th>Reginol Node Positive</th>\n",
       "      <th>Survival Months</th>\n",
       "      <th>Status</th>\n",
       "    </tr>\n",
       "  </thead>\n",
       "  <tbody>\n",
       "    <tr>\n",
       "      <th>0</th>\n",
       "      <td>68</td>\n",
       "      <td>White</td>\n",
       "      <td>Married</td>\n",
       "      <td>T1</td>\n",
       "      <td>N1</td>\n",
       "      <td>IIA</td>\n",
       "      <td>Poorly differentiated</td>\n",
       "      <td>3</td>\n",
       "      <td>Regional</td>\n",
       "      <td>4</td>\n",
       "      <td>Positive</td>\n",
       "      <td>Positive</td>\n",
       "      <td>24</td>\n",
       "      <td>1</td>\n",
       "      <td>60</td>\n",
       "      <td>0</td>\n",
       "    </tr>\n",
       "    <tr>\n",
       "      <th>1</th>\n",
       "      <td>50</td>\n",
       "      <td>White</td>\n",
       "      <td>Married</td>\n",
       "      <td>T2</td>\n",
       "      <td>N2</td>\n",
       "      <td>IIIA</td>\n",
       "      <td>Moderately differentiated</td>\n",
       "      <td>2</td>\n",
       "      <td>Regional</td>\n",
       "      <td>35</td>\n",
       "      <td>Positive</td>\n",
       "      <td>Positive</td>\n",
       "      <td>14</td>\n",
       "      <td>5</td>\n",
       "      <td>62</td>\n",
       "      <td>0</td>\n",
       "    </tr>\n",
       "    <tr>\n",
       "      <th>2</th>\n",
       "      <td>58</td>\n",
       "      <td>White</td>\n",
       "      <td>Divorced</td>\n",
       "      <td>T3</td>\n",
       "      <td>N3</td>\n",
       "      <td>IIIC</td>\n",
       "      <td>Moderately differentiated</td>\n",
       "      <td>2</td>\n",
       "      <td>Regional</td>\n",
       "      <td>63</td>\n",
       "      <td>Positive</td>\n",
       "      <td>Positive</td>\n",
       "      <td>14</td>\n",
       "      <td>7</td>\n",
       "      <td>75</td>\n",
       "      <td>0</td>\n",
       "    </tr>\n",
       "    <tr>\n",
       "      <th>3</th>\n",
       "      <td>58</td>\n",
       "      <td>White</td>\n",
       "      <td>Married</td>\n",
       "      <td>T1</td>\n",
       "      <td>N1</td>\n",
       "      <td>IIA</td>\n",
       "      <td>Poorly differentiated</td>\n",
       "      <td>3</td>\n",
       "      <td>Regional</td>\n",
       "      <td>18</td>\n",
       "      <td>Positive</td>\n",
       "      <td>Positive</td>\n",
       "      <td>2</td>\n",
       "      <td>1</td>\n",
       "      <td>84</td>\n",
       "      <td>0</td>\n",
       "    </tr>\n",
       "    <tr>\n",
       "      <th>4</th>\n",
       "      <td>47</td>\n",
       "      <td>White</td>\n",
       "      <td>Married</td>\n",
       "      <td>T2</td>\n",
       "      <td>N1</td>\n",
       "      <td>IIB</td>\n",
       "      <td>Poorly differentiated</td>\n",
       "      <td>3</td>\n",
       "      <td>Regional</td>\n",
       "      <td>41</td>\n",
       "      <td>Positive</td>\n",
       "      <td>Positive</td>\n",
       "      <td>3</td>\n",
       "      <td>1</td>\n",
       "      <td>50</td>\n",
       "      <td>0</td>\n",
       "    </tr>\n",
       "  </tbody>\n",
       "</table>\n",
       "</div>"
      ],
      "text/plain": [
       "   Age   Race Marital Status T Stage  N Stage 6th Stage  \\\n",
       "0   68  White        Married       T1      N1       IIA   \n",
       "1   50  White        Married       T2      N2      IIIA   \n",
       "2   58  White       Divorced       T3      N3      IIIC   \n",
       "3   58  White        Married       T1      N1       IIA   \n",
       "4   47  White        Married       T2      N1       IIB   \n",
       "\n",
       "               differentiate Grade   A Stage  Tumor Size Estrogen Status  \\\n",
       "0      Poorly differentiated     3  Regional           4        Positive   \n",
       "1  Moderately differentiated     2  Regional          35        Positive   \n",
       "2  Moderately differentiated     2  Regional          63        Positive   \n",
       "3      Poorly differentiated     3  Regional          18        Positive   \n",
       "4      Poorly differentiated     3  Regional          41        Positive   \n",
       "\n",
       "  Progesterone Status  Regional Node Examined  Reginol Node Positive  \\\n",
       "0            Positive                      24                      1   \n",
       "1            Positive                      14                      5   \n",
       "2            Positive                      14                      7   \n",
       "3            Positive                       2                      1   \n",
       "4            Positive                       3                      1   \n",
       "\n",
       "   Survival Months  Status  \n",
       "0               60       0  \n",
       "1               62       0  \n",
       "2               75       0  \n",
       "3               84       0  \n",
       "4               50       0  "
      ]
     },
     "execution_count": 12,
     "metadata": {},
     "output_type": "execute_result"
    }
   ],
   "source": [
    "from sklearn.preprocessing import LabelEncoder\n",
    "\n",
    "le = LabelEncoder()\n",
    "df['Status'] = le.fit_transform(df['Status'])\n",
    "df.head()"
   ]
  },
  {
   "cell_type": "code",
   "execution_count": 13,
   "metadata": {},
   "outputs": [],
   "source": [
    "# Heart Disease를 종속 변수(y)로 설정\n",
    "y_col = \"Status\"\n",
    "y = df[y_col]\n",
    "\n",
    "X = df.drop(columns=[y_col])\n",
    "\n",
    "# 연속형 변수 (float, int)와 범주형 변수 분리\n",
    "continuous_vars = X.select_dtypes(include=[\"int64\"]).columns\n",
    "categorical_vars = X.select_dtypes(include=[\"object\"]).columns\n",
    "continuous_vars = [col for col in continuous_vars if col not in categorical_vars]"
   ]
  },
  {
   "cell_type": "code",
   "execution_count": 14,
   "metadata": {},
   "outputs": [
    {
     "data": {
      "text/html": [
       "<div>\n",
       "<style scoped>\n",
       "    .dataframe tbody tr th:only-of-type {\n",
       "        vertical-align: middle;\n",
       "    }\n",
       "\n",
       "    .dataframe tbody tr th {\n",
       "        vertical-align: top;\n",
       "    }\n",
       "\n",
       "    .dataframe thead th {\n",
       "        text-align: right;\n",
       "    }\n",
       "</style>\n",
       "<table border=\"1\" class=\"dataframe\">\n",
       "  <thead>\n",
       "    <tr style=\"text-align: right;\">\n",
       "      <th></th>\n",
       "      <th>Age</th>\n",
       "      <th>Tumor Size</th>\n",
       "      <th>Regional Node Examined</th>\n",
       "      <th>Reginol Node Positive</th>\n",
       "      <th>Survival Months</th>\n",
       "      <th>Status</th>\n",
       "      <th>Race_Black</th>\n",
       "      <th>Race_Other</th>\n",
       "      <th>Race_White</th>\n",
       "      <th>Marital Status_Divorced</th>\n",
       "      <th>...</th>\n",
       "      <th>Grade_ anaplastic; Grade IV</th>\n",
       "      <th>Grade_1</th>\n",
       "      <th>Grade_2</th>\n",
       "      <th>Grade_3</th>\n",
       "      <th>A Stage_Distant</th>\n",
       "      <th>A Stage_Regional</th>\n",
       "      <th>Estrogen Status_Negative</th>\n",
       "      <th>Estrogen Status_Positive</th>\n",
       "      <th>Progesterone Status_Negative</th>\n",
       "      <th>Progesterone Status_Positive</th>\n",
       "    </tr>\n",
       "  </thead>\n",
       "  <tbody>\n",
       "    <tr>\n",
       "      <th>0</th>\n",
       "      <td>68</td>\n",
       "      <td>4</td>\n",
       "      <td>24</td>\n",
       "      <td>1</td>\n",
       "      <td>60</td>\n",
       "      <td>0</td>\n",
       "      <td>False</td>\n",
       "      <td>False</td>\n",
       "      <td>True</td>\n",
       "      <td>False</td>\n",
       "      <td>...</td>\n",
       "      <td>False</td>\n",
       "      <td>False</td>\n",
       "      <td>False</td>\n",
       "      <td>True</td>\n",
       "      <td>False</td>\n",
       "      <td>True</td>\n",
       "      <td>False</td>\n",
       "      <td>True</td>\n",
       "      <td>False</td>\n",
       "      <td>True</td>\n",
       "    </tr>\n",
       "    <tr>\n",
       "      <th>1</th>\n",
       "      <td>50</td>\n",
       "      <td>35</td>\n",
       "      <td>14</td>\n",
       "      <td>5</td>\n",
       "      <td>62</td>\n",
       "      <td>0</td>\n",
       "      <td>False</td>\n",
       "      <td>False</td>\n",
       "      <td>True</td>\n",
       "      <td>False</td>\n",
       "      <td>...</td>\n",
       "      <td>False</td>\n",
       "      <td>False</td>\n",
       "      <td>True</td>\n",
       "      <td>False</td>\n",
       "      <td>False</td>\n",
       "      <td>True</td>\n",
       "      <td>False</td>\n",
       "      <td>True</td>\n",
       "      <td>False</td>\n",
       "      <td>True</td>\n",
       "    </tr>\n",
       "    <tr>\n",
       "      <th>2</th>\n",
       "      <td>58</td>\n",
       "      <td>63</td>\n",
       "      <td>14</td>\n",
       "      <td>7</td>\n",
       "      <td>75</td>\n",
       "      <td>0</td>\n",
       "      <td>False</td>\n",
       "      <td>False</td>\n",
       "      <td>True</td>\n",
       "      <td>True</td>\n",
       "      <td>...</td>\n",
       "      <td>False</td>\n",
       "      <td>False</td>\n",
       "      <td>True</td>\n",
       "      <td>False</td>\n",
       "      <td>False</td>\n",
       "      <td>True</td>\n",
       "      <td>False</td>\n",
       "      <td>True</td>\n",
       "      <td>False</td>\n",
       "      <td>True</td>\n",
       "    </tr>\n",
       "    <tr>\n",
       "      <th>3</th>\n",
       "      <td>58</td>\n",
       "      <td>18</td>\n",
       "      <td>2</td>\n",
       "      <td>1</td>\n",
       "      <td>84</td>\n",
       "      <td>0</td>\n",
       "      <td>False</td>\n",
       "      <td>False</td>\n",
       "      <td>True</td>\n",
       "      <td>False</td>\n",
       "      <td>...</td>\n",
       "      <td>False</td>\n",
       "      <td>False</td>\n",
       "      <td>False</td>\n",
       "      <td>True</td>\n",
       "      <td>False</td>\n",
       "      <td>True</td>\n",
       "      <td>False</td>\n",
       "      <td>True</td>\n",
       "      <td>False</td>\n",
       "      <td>True</td>\n",
       "    </tr>\n",
       "    <tr>\n",
       "      <th>4</th>\n",
       "      <td>47</td>\n",
       "      <td>41</td>\n",
       "      <td>3</td>\n",
       "      <td>1</td>\n",
       "      <td>50</td>\n",
       "      <td>0</td>\n",
       "      <td>False</td>\n",
       "      <td>False</td>\n",
       "      <td>True</td>\n",
       "      <td>False</td>\n",
       "      <td>...</td>\n",
       "      <td>False</td>\n",
       "      <td>False</td>\n",
       "      <td>False</td>\n",
       "      <td>True</td>\n",
       "      <td>False</td>\n",
       "      <td>True</td>\n",
       "      <td>False</td>\n",
       "      <td>True</td>\n",
       "      <td>False</td>\n",
       "      <td>True</td>\n",
       "    </tr>\n",
       "  </tbody>\n",
       "</table>\n",
       "<p>5 rows × 40 columns</p>\n",
       "</div>"
      ],
      "text/plain": [
       "   Age  Tumor Size  Regional Node Examined  Reginol Node Positive  \\\n",
       "0   68           4                      24                      1   \n",
       "1   50          35                      14                      5   \n",
       "2   58          63                      14                      7   \n",
       "3   58          18                       2                      1   \n",
       "4   47          41                       3                      1   \n",
       "\n",
       "   Survival Months  Status  Race_Black  Race_Other  Race_White  \\\n",
       "0               60       0       False       False        True   \n",
       "1               62       0       False       False        True   \n",
       "2               75       0       False       False        True   \n",
       "3               84       0       False       False        True   \n",
       "4               50       0       False       False        True   \n",
       "\n",
       "   Marital Status_Divorced  ...  Grade_ anaplastic; Grade IV  Grade_1  \\\n",
       "0                    False  ...                        False    False   \n",
       "1                    False  ...                        False    False   \n",
       "2                     True  ...                        False    False   \n",
       "3                    False  ...                        False    False   \n",
       "4                    False  ...                        False    False   \n",
       "\n",
       "   Grade_2  Grade_3  A Stage_Distant  A Stage_Regional  \\\n",
       "0    False     True            False              True   \n",
       "1     True    False            False              True   \n",
       "2     True    False            False              True   \n",
       "3    False     True            False              True   \n",
       "4    False     True            False              True   \n",
       "\n",
       "   Estrogen Status_Negative  Estrogen Status_Positive  \\\n",
       "0                     False                      True   \n",
       "1                     False                      True   \n",
       "2                     False                      True   \n",
       "3                     False                      True   \n",
       "4                     False                      True   \n",
       "\n",
       "   Progesterone Status_Negative  Progesterone Status_Positive  \n",
       "0                         False                          True  \n",
       "1                         False                          True  \n",
       "2                         False                          True  \n",
       "3                         False                          True  \n",
       "4                         False                          True  \n",
       "\n",
       "[5 rows x 40 columns]"
      ]
     },
     "execution_count": 14,
     "metadata": {},
     "output_type": "execute_result"
    }
   ],
   "source": [
    "df_encoded = pd.get_dummies(df, columns=categorical_vars)\n",
    "df_encoded.head()"
   ]
  },
  {
   "cell_type": "code",
   "execution_count": 15,
   "metadata": {},
   "outputs": [],
   "source": [
    "y = df_encoded[y_col]\n",
    "X = df_encoded.drop(columns=[y_col])"
   ]
  },
  {
   "cell_type": "code",
   "execution_count": 16,
   "metadata": {},
   "outputs": [],
   "source": [
    "X_train, X_test, y_train, y_test = train_test_split(X, y, test_size=0.2, random_state = 42, stratify=y)"
   ]
  },
  {
   "cell_type": "markdown",
   "metadata": {},
   "source": [
    "## Model"
   ]
  },
  {
   "cell_type": "markdown",
   "metadata": {},
   "source": [
    "### Logistic Regression"
   ]
  },
  {
   "cell_type": "code",
   "execution_count": 17,
   "metadata": {},
   "outputs": [
    {
     "name": "stdout",
     "output_type": "stream",
     "text": [
      "Logistic Regression Accuracy: 0.8932\n"
     ]
    },
    {
     "name": "stderr",
     "output_type": "stream",
     "text": [
      "/opt/conda/lib/python3.10/site-packages/sklearn/linear_model/_logistic.py:465: ConvergenceWarning: lbfgs failed to converge (status=1):\n",
      "STOP: TOTAL NO. OF ITERATIONS REACHED LIMIT.\n",
      "\n",
      "Increase the number of iterations (max_iter) or scale the data as shown in:\n",
      "    https://scikit-learn.org/stable/modules/preprocessing.html\n",
      "Please also refer to the documentation for alternative solver options:\n",
      "    https://scikit-learn.org/stable/modules/linear_model.html#logistic-regression\n",
      "  n_iter_i = _check_optimize_result(\n"
     ]
    }
   ],
   "source": [
    "log_reg = LogisticRegression()\n",
    "log_reg.fit(X_train, y_train)\n",
    "y_pred_log = log_reg.predict(X_test)\n",
    "log_acc = accuracy_score(y_test, y_pred_log)\n",
    "print(f'Logistic Regression Accuracy: {log_acc:.4f}')"
   ]
  },
  {
   "cell_type": "markdown",
   "metadata": {},
   "source": [
    "### Random Forest"
   ]
  },
  {
   "cell_type": "code",
   "execution_count": 18,
   "metadata": {},
   "outputs": [
    {
     "name": "stdout",
     "output_type": "stream",
     "text": [
      "Random Forest Accuracy: 0.8919\n"
     ]
    }
   ],
   "source": [
    "rf = RandomForestClassifier(n_estimators=100, random_state=42)\n",
    "rf.fit(X_train, y_train)\n",
    "y_pred_rf = rf.predict(X_test)\n",
    "rf_acc = accuracy_score(y_test, y_pred_rf)\n",
    "print(f'Random Forest Accuracy: {rf_acc:.4f}')"
   ]
  },
  {
   "cell_type": "markdown",
   "metadata": {},
   "source": [
    "### Decision Tree"
   ]
  },
  {
   "cell_type": "code",
   "execution_count": 19,
   "metadata": {},
   "outputs": [
    {
     "name": "stdout",
     "output_type": "stream",
     "text": [
      "🔹 Decision Tree Results:\n",
      "Best Parameters: {'max_depth': 5}\n",
      "Accuracy: 0.8881987577639752\n",
      "              precision    recall  f1-score   support\n",
      "\n",
      "           0       0.90      0.97      0.94       682\n",
      "           1       0.73      0.42      0.54       123\n",
      "\n",
      "    accuracy                           0.89       805\n",
      "   macro avg       0.82      0.70      0.74       805\n",
      "weighted avg       0.88      0.89      0.88       805\n",
      "\n"
     ]
    }
   ],
   "source": [
    "dt_params = {'max_depth': [3, 5, 10, 15, None]}\n",
    "dt_grid = GridSearchCV(DecisionTreeClassifier(random_state=42), dt_params, cv=5, scoring='accuracy')\n",
    "dt_grid.fit(X_train, y_train)\n",
    "dt_best = dt_grid.best_estimator_\n",
    "\n",
    "y_pred_dt = dt_best.predict(X_test)\n",
    "acc_dt = accuracy_score(y_test, y_pred_dt)\n",
    "\n",
    "print(\"🔹 Decision Tree Results:\")\n",
    "print(\"Best Parameters:\", dt_grid.best_params_)\n",
    "print(\"Accuracy:\", acc_dt)\n",
    "print(classification_report(y_test, y_pred_dt))"
   ]
  },
  {
   "cell_type": "markdown",
   "metadata": {},
   "source": [
    "### XGBoost"
   ]
  },
  {
   "cell_type": "code",
   "execution_count": 20,
   "metadata": {},
   "outputs": [
    {
     "name": "stderr",
     "output_type": "stream",
     "text": [
      "/opt/conda/lib/python3.10/site-packages/xgboost/training.py:183: UserWarning: [07:05:17] WARNING: /workspace/src/learner.cc:738: \n",
      "Parameters: { \"use_label_encoder\" } are not used.\n",
      "\n",
      "  bst.update(dtrain, iteration=i, fobj=obj)\n"
     ]
    },
    {
     "name": "stdout",
     "output_type": "stream",
     "text": [
      "🔹 XGBoost Classifier Results:\n",
      "Accuracy: 0.8993788819875776\n",
      "              precision    recall  f1-score   support\n",
      "\n",
      "           0       0.91      0.97      0.94       682\n",
      "           1       0.76      0.50      0.60       123\n",
      "\n",
      "    accuracy                           0.90       805\n",
      "   macro avg       0.84      0.73      0.77       805\n",
      "weighted avg       0.89      0.90      0.89       805\n",
      "\n"
     ]
    }
   ],
   "source": [
    "xgb_model = XGBClassifier(n_estimators=100, learning_rate=0.1, use_label_encoder=False, eval_metric='logloss')\n",
    "xgb_model.fit(X_train, y_train)\n",
    "\n",
    "y_pred_xgb = xgb_model.predict(X_test)\n",
    "acc_xgb = accuracy_score(y_test, y_pred_xgb)\n",
    "print(\"🔹 XGBoost Classifier Results:\")\n",
    "print(\"Accuracy:\", acc_xgb)\n",
    "print(classification_report(y_test, y_pred_xgb))"
   ]
  },
  {
   "cell_type": "markdown",
   "metadata": {},
   "source": [
    "### LightGBM"
   ]
  },
  {
   "cell_type": "code",
   "execution_count": 21,
   "metadata": {},
   "outputs": [
    {
     "name": "stdout",
     "output_type": "stream",
     "text": [
      "[LightGBM] [Warning] Found whitespace in feature_names, replace with underlines\n",
      "[LightGBM] [Info] Number of positive: 493, number of negative: 2726\n",
      "[LightGBM] [Info] Total Bins 375\n",
      "[LightGBM] [Info] Number of data points in the train set: 3219, number of used features: 37\n",
      "[LightGBM] [Info] [binary:BoostFromScore]: pavg=0.153153 -> initscore=-1.710081\n",
      "[LightGBM] [Info] Start training from score -1.710081\n",
      "🔹 LightGBM Model Performance 🔹\n",
      "Accuracy: 0.8956521739130435\n",
      "              precision    recall  f1-score   support\n",
      "\n",
      "           0       0.91      0.97      0.94       682\n",
      "           1       0.74      0.49      0.59       123\n",
      "\n",
      "    accuracy                           0.90       805\n",
      "   macro avg       0.83      0.73      0.76       805\n",
      "weighted avg       0.89      0.90      0.89       805\n",
      "\n"
     ]
    }
   ],
   "source": [
    "lgb_model = lgb.LGBMClassifier(boosting_type='gbdt', num_leaves=31, learning_rate=0.05, \n",
    "                                 n_estimators=200, force_col_wise=True, random_state=42)\n",
    "lgb_model.fit(X_train, y_train)\n",
    "\n",
    "y_pred_lgb = lgb_model.predict(X_test)\n",
    "\n",
    "acc_lgb = accuracy_score(y_test, y_pred_lgb)\n",
    "\n",
    "print(\"🔹 LightGBM Model Performance 🔹\")\n",
    "print(\"Accuracy:\", accuracy_score(y_test, y_pred_lgb))\n",
    "print(classification_report(y_test, y_pred_lgb))"
   ]
  },
  {
   "cell_type": "markdown",
   "metadata": {},
   "source": [
    "### CatBoost"
   ]
  },
  {
   "cell_type": "code",
   "execution_count": 22,
   "metadata": {},
   "outputs": [
    {
     "name": "stdout",
     "output_type": "stream",
     "text": [
      "🔹 CatBoost Model Performance 🔹\n",
      "Accuracy: 0.8968944099378882\n",
      "              precision    recall  f1-score   support\n",
      "\n",
      "           0       0.91      0.98      0.94       682\n",
      "           1       0.77      0.46      0.58       123\n",
      "\n",
      "    accuracy                           0.90       805\n",
      "   macro avg       0.84      0.72      0.76       805\n",
      "weighted avg       0.89      0.90      0.89       805\n",
      "\n"
     ]
    }
   ],
   "source": [
    "cat_model = cb.CatBoostClassifier(iterations=200, depth=6, learning_rate=0.05, loss_function='Logloss', verbose=0, random_seed=42)\n",
    "cat_model.fit(X_train, y_train)\n",
    "\n",
    "y_pred_cat = cat_model.predict(X_test)\n",
    "\n",
    "acc_cat = accuracy_score(y_test, y_pred_cat)\n",
    "\n",
    "print(\"🔹 CatBoost Model Performance 🔹\")\n",
    "print(\"Accuracy:\", accuracy_score(y_test, y_pred_cat))\n",
    "print(classification_report(y_test, y_pred_cat))"
   ]
  },
  {
   "cell_type": "markdown",
   "metadata": {},
   "source": [
    "# DL"
   ]
  },
  {
   "cell_type": "code",
   "execution_count": 23,
   "metadata": {},
   "outputs": [],
   "source": [
    "## PCA 주성분 개수\n",
    "n = 2"
   ]
  },
  {
   "cell_type": "code",
   "execution_count": 24,
   "metadata": {},
   "outputs": [],
   "source": [
    "df = pd.read_csv(\"Breast_Cancer.csv\")\n",
    "\n",
    "# Alzheimer’s Diagnosis를 종속 변수(y)로 설정\n",
    "y_col = \"Status\"\n",
    "y = df[y_col]\n",
    "\n",
    "# 독립 변수 설정\n",
    "X = df.drop(columns=[y_col])\n",
    "\n",
    "# 연속형 변수와 범주형 변수 분리\n",
    "continuous_vars = X.select_dtypes(include=[\"int64\", \"float64\"]).columns\n",
    "\n",
    "## PCA 적용 전 정규화 \n",
    "scaler = StandardScaler()\n",
    "scaled_data = scaler.fit_transform(df[continuous_vars])\n",
    "\n",
    "# PCA 적용\n",
    "pca = PCA(n_components=n)\n",
    "principal_components = pca.fit_transform(scaled_data)\n",
    "\n",
    "df_pca = pd.DataFrame(principal_components, columns=['PCA_1', 'PCA_2'])\n",
    "df = pd.concat([df, df_pca], axis=1)"
   ]
  },
  {
   "cell_type": "code",
   "execution_count": 25,
   "metadata": {},
   "outputs": [],
   "source": [
    "# 분류 task\n",
    "is_classification = True"
   ]
  },
  {
   "cell_type": "code",
   "execution_count": 26,
   "metadata": {},
   "outputs": [],
   "source": [
    "from torch_frame import numerical, categorical, text_embedded, embedding\n",
    "\n",
    "## 칼럼 별 Dtype 지정 \n",
    "col_to_stype={\"Age\" : numerical,\n",
    "              \"Race\" : categorical,\n",
    "              \"Marital Status\" : categorical,\n",
    "              \"T Stage \" : categorical,\n",
    "              \"N Stage\" : categorical,\n",
    "              \"6th Stage\" : categorical,\n",
    "              \"differentiate\" : categorical,\n",
    "              \"Grade\" : categorical,\n",
    "              \"A Stage\" : categorical,\n",
    "              \"Tumor Size\" : numerical,\n",
    "              \"Estrogen Status\" : categorical,\n",
    "              \"Progesterone Status\" : categorical,\n",
    "              \"Regional Node Examined\" : numerical,\n",
    "              \"Reginol Node Positive\" : numerical,\n",
    "              \"Survival Months\" : numerical,\n",
    "              \"Status\" : categorical}\n",
    "\n",
    "dataset = Dataset(df=df, \n",
    "                  col_to_stype=col_to_stype, \n",
    "                  target_col='Status')\n",
    "\n",
    "dataset.materialize()\n",
    "\n",
    "## split\n",
    "train_dataset, val_dataset, test_dataset = dataset[:0.6], dataset[0.6:0.7], dataset[0.7:]"
   ]
  },
  {
   "cell_type": "markdown",
   "metadata": {},
   "source": [
    "### ResNet"
   ]
  },
  {
   "cell_type": "code",
   "execution_count": 27,
   "metadata": {},
   "outputs": [
    {
     "data": {
      "text/plain": [
       "_StoreTrueAction(option_strings=['--compile'], dest='compile', nargs=0, const=True, default=False, type=None, choices=None, required=False, help=None, metavar=None)"
      ]
     },
     "execution_count": 27,
     "metadata": {},
     "output_type": "execute_result"
    }
   ],
   "source": [
    "parser = argparse.ArgumentParser()\n",
    "parser.add_argument('--dataset', type=str, default='adult')\n",
    "parser.add_argument('--numerical_encoder_type', type=str, default='linear',\n",
    "                    choices=['linear', 'linearbucket', 'linearperiodic'])\n",
    "parser.add_argument('--model_type', type=str, default='fttransformer',\n",
    "                    choices=['fttransformer', 'resnet'])\n",
    "parser.add_argument('--channels', type=int, default=256)\n",
    "parser.add_argument('--num_layers', type=int, default=4)\n",
    "parser.add_argument('--batch_size', type=int, default=512)\n",
    "parser.add_argument('--lr', type=float, default=0.0001)\n",
    "parser.add_argument('--epochs', type=int, default=100)\n",
    "parser.add_argument('--seed', type=int, default=0)\n",
    "parser.add_argument('--compile', action='store_true')"
   ]
  },
  {
   "cell_type": "code",
   "execution_count": 28,
   "metadata": {},
   "outputs": [],
   "source": [
    "# Jupyter에서 실행될 때는 sys.argv를 조정\n",
    "args = parser.parse_args([\n",
    "    #'--dataset', 'adult',\n",
    "    '--numerical_encoder_type', 'linear',\n",
    "    '--model_type', 'resnet',       # fttransformer : FT-T / resnet : ResNet\n",
    "    '--channels', '256',\n",
    "    '--num_layers', '4',\n",
    "    '--batch_size', '256',  # 데이터를 256개씩 한번에 \n",
    "    '--lr', '0.0001',\n",
    "    '--epochs', '15',\n",
    "    '--seed', '0'\n",
    "])"
   ]
  },
  {
   "cell_type": "code",
   "execution_count": 29,
   "metadata": {},
   "outputs": [],
   "source": [
    "# Set up data loaders\n",
    "train_tensor_frame = train_dataset.tensor_frame\n",
    "val_tensor_frame = val_dataset.tensor_frame\n",
    "test_tensor_frame = test_dataset.tensor_frame\n",
    "train_loader = DataLoader(train_tensor_frame, batch_size=args.batch_size,\n",
    "                          shuffle=True)\n",
    "val_loader = DataLoader(val_tensor_frame, batch_size=args.batch_size)\n",
    "test_loader = DataLoader(test_tensor_frame, batch_size=args.batch_size)\n",
    "\n",
    "if args.numerical_encoder_type == 'linear':\n",
    "    numerical_encoder = LinearEncoder()\n",
    "elif args.numerical_encoder_type == 'linearbucket':\n",
    "    numerical_encoder = LinearBucketEncoder()\n",
    "elif args.numerical_encoder_type == 'linearperiodic':\n",
    "    numerical_encoder = LinearPeriodicEncoder()\n",
    "else:\n",
    "    raise ValueError(\n",
    "        f'Unsupported encoder type: {args.numerical_encoder_type}')\n",
    "\n",
    "stype_encoder_dict = {\n",
    "    stype.categorical: EmbeddingEncoder(),\n",
    "    stype.numerical: numerical_encoder,\n",
    "}\n",
    "\n",
    "if is_classification:\n",
    "    #output_channels = dataset.num_classes    ->   contains StatType.COUNT을 포함하지 않아서 오류(?)\n",
    "    output_channels = 2 # 그냥 수동으로 설정.,,,,   => 분류 칼럼 unique 개수로 설정 \n",
    "else:\n",
    "    output_channels = 1"
   ]
  },
  {
   "cell_type": "code",
   "execution_count": 30,
   "metadata": {},
   "outputs": [],
   "source": [
    "if args.model_type == 'fttransformer':\n",
    "    model = FTTransformer(\n",
    "        channels=args.channels,\n",
    "        out_channels=output_channels,\n",
    "        num_layers=args.num_layers,\n",
    "        col_stats=dataset.col_stats,    # TensorFrame이 col_stats를 안받아서 transor frame으로 바꾸기 전으로 받아와야 함 \n",
    "        col_names_dict=train_tensor_frame.col_names_dict,\n",
    "        stype_encoder_dict=stype_encoder_dict,\n",
    "    ).to(device)\n",
    "\n",
    "elif args.model_type == 'resnet':\n",
    "    model = ResNet(\n",
    "        channels=args.channels,\n",
    "        out_channels=output_channels,\n",
    "        num_layers=args.num_layers,\n",
    "        col_stats=dataset.col_stats,\n",
    "        col_names_dict=train_tensor_frame.col_names_dict,\n",
    "    ).to(device)\n",
    "else:\n",
    "    raise ValueError(f'Unsupported model type: {args.model_type}')\n",
    "\n",
    "model = torch.compile(model, dynamic=True) if args.compile else model\n",
    "optimizer = torch.optim.AdamW(model.parameters(), lr=args.lr)"
   ]
  },
  {
   "cell_type": "code",
   "execution_count": 31,
   "metadata": {},
   "outputs": [],
   "source": [
    "def train(epoch: int) -> float:\n",
    "    model.train()\n",
    "    loss_accum = total_count = 0\n",
    "\n",
    "    for tf in tqdm(train_loader, desc=f'Epoch: {epoch}'):\n",
    "        tf = tf.to(device)\n",
    "        pred = model(tf)\n",
    "        if is_classification:\n",
    "            loss = F.cross_entropy(pred, tf.y.long())\n",
    "        else:\n",
    "            loss = F.mse_loss(pred.view(-1), tf.y.view(-1))\n",
    "        optimizer.zero_grad()\n",
    "        loss.backward()\n",
    "        loss_accum += float(loss) * len(tf.y)\n",
    "        total_count += len(tf.y)\n",
    "        optimizer.step()\n",
    "    return loss_accum / total_count\n",
    "\n",
    "\n",
    "@torch.no_grad()\n",
    "def test(loader: DataLoader) -> float:\n",
    "    model.eval()\n",
    "    accum = total_count = 0\n",
    "\n",
    "    for tf in loader:\n",
    "        tf = tf.to(device)\n",
    "        pred = model(tf)\n",
    "        if is_classification:\n",
    "            pred_class = pred.argmax(dim=-1)\n",
    "            accum += float((tf.y == pred_class).sum())\n",
    "        else:\n",
    "            accum += float(\n",
    "                F.mse_loss(pred.view(-1), tf.y.view(-1), reduction='sum'))\n",
    "        total_count += len(tf.y)\n",
    "\n",
    "    if is_classification:\n",
    "        accuracy = accum / total_count\n",
    "        return accuracy\n",
    "    else:\n",
    "        rmse = (accum / total_count)**0.5\n",
    "        return rmse\n"
   ]
  },
  {
   "cell_type": "code",
   "execution_count": 32,
   "metadata": {},
   "outputs": [
    {
     "name": "stderr",
     "output_type": "stream",
     "text": [
      "Epoch: 1: 100%|██████████| 10/10 [00:04<00:00,  2.41it/s]\n"
     ]
    },
    {
     "name": "stdout",
     "output_type": "stream",
     "text": [
      "Train Loss: 0.4614, Train Acc: 0.8534, Val Acc: 0.8437, Test Acc: 0.8592\n"
     ]
    },
    {
     "name": "stderr",
     "output_type": "stream",
     "text": [
      "Epoch: 2: 100%|██████████| 10/10 [00:00<00:00, 91.43it/s]\n"
     ]
    },
    {
     "name": "stdout",
     "output_type": "stream",
     "text": [
      "Train Loss: 0.3914, Train Acc: 0.8546, Val Acc: 0.8412, Test Acc: 0.8608\n"
     ]
    },
    {
     "name": "stderr",
     "output_type": "stream",
     "text": [
      "Epoch: 3: 100%|██████████| 10/10 [00:00<00:00, 93.56it/s]\n"
     ]
    },
    {
     "name": "stdout",
     "output_type": "stream",
     "text": [
      "Train Loss: 0.3796, Train Acc: 0.8534, Val Acc: 0.8437, Test Acc: 0.8542\n"
     ]
    },
    {
     "name": "stderr",
     "output_type": "stream",
     "text": [
      "Epoch: 4: 100%|██████████| 10/10 [00:00<00:00, 96.29it/s]\n"
     ]
    },
    {
     "name": "stdout",
     "output_type": "stream",
     "text": [
      "Train Loss: 0.3753, Train Acc: 0.8571, Val Acc: 0.8412, Test Acc: 0.8575\n"
     ]
    },
    {
     "name": "stderr",
     "output_type": "stream",
     "text": [
      "Epoch: 5: 100%|██████████| 10/10 [00:00<00:00, 38.64it/s]\n"
     ]
    },
    {
     "name": "stdout",
     "output_type": "stream",
     "text": [
      "Train Loss: 0.3678, Train Acc: 0.8587, Val Acc: 0.8462, Test Acc: 0.8575\n"
     ]
    },
    {
     "name": "stderr",
     "output_type": "stream",
     "text": [
      "Epoch: 6: 100%|██████████| 10/10 [00:00<00:00, 92.81it/s]\n"
     ]
    },
    {
     "name": "stdout",
     "output_type": "stream",
     "text": [
      "Train Loss: 0.3681, Train Acc: 0.8587, Val Acc: 0.8486, Test Acc: 0.8583\n"
     ]
    },
    {
     "name": "stderr",
     "output_type": "stream",
     "text": [
      "Epoch: 7: 100%|██████████| 10/10 [00:00<00:00, 161.53it/s]\n"
     ]
    },
    {
     "name": "stdout",
     "output_type": "stream",
     "text": [
      "Train Loss: 0.3646, Train Acc: 0.8625, Val Acc: 0.8511, Test Acc: 0.8592\n"
     ]
    },
    {
     "name": "stderr",
     "output_type": "stream",
     "text": [
      "Epoch: 8: 100%|██████████| 10/10 [00:00<00:00, 146.97it/s]\n"
     ]
    },
    {
     "name": "stdout",
     "output_type": "stream",
     "text": [
      "Train Loss: 0.3600, Train Acc: 0.8650, Val Acc: 0.8536, Test Acc: 0.8608\n"
     ]
    },
    {
     "name": "stderr",
     "output_type": "stream",
     "text": [
      "Epoch: 9: 100%|██████████| 10/10 [00:00<00:00, 147.39it/s]\n"
     ]
    },
    {
     "name": "stdout",
     "output_type": "stream",
     "text": [
      "Train Loss: 0.3569, Train Acc: 0.8670, Val Acc: 0.8536, Test Acc: 0.8608\n"
     ]
    },
    {
     "name": "stderr",
     "output_type": "stream",
     "text": [
      "Epoch: 10: 100%|██████████| 10/10 [00:00<00:00, 159.92it/s]\n"
     ]
    },
    {
     "name": "stdout",
     "output_type": "stream",
     "text": [
      "Train Loss: 0.3461, Train Acc: 0.8683, Val Acc: 0.8536, Test Acc: 0.8691\n"
     ]
    },
    {
     "name": "stderr",
     "output_type": "stream",
     "text": [
      "Epoch: 11: 100%|██████████| 10/10 [00:00<00:00, 158.78it/s]\n"
     ]
    },
    {
     "name": "stdout",
     "output_type": "stream",
     "text": [
      "Train Loss: 0.3380, Train Acc: 0.8778, Val Acc: 0.8635, Test Acc: 0.8683\n"
     ]
    },
    {
     "name": "stderr",
     "output_type": "stream",
     "text": [
      "Epoch: 12: 100%|██████████| 10/10 [00:00<00:00, 192.54it/s]\n"
     ]
    },
    {
     "name": "stdout",
     "output_type": "stream",
     "text": [
      "Train Loss: 0.3252, Train Acc: 0.8882, Val Acc: 0.8734, Test Acc: 0.8774\n"
     ]
    },
    {
     "name": "stderr",
     "output_type": "stream",
     "text": [
      "Epoch: 13: 100%|██████████| 10/10 [00:00<00:00, 108.15it/s]\n"
     ]
    },
    {
     "name": "stdout",
     "output_type": "stream",
     "text": [
      "Train Loss: 0.3064, Train Acc: 0.8911, Val Acc: 0.8859, Test Acc: 0.8906\n"
     ]
    },
    {
     "name": "stderr",
     "output_type": "stream",
     "text": [
      "Epoch: 14: 100%|██████████| 10/10 [00:00<00:00, 73.23it/s]\n"
     ]
    },
    {
     "name": "stdout",
     "output_type": "stream",
     "text": [
      "Train Loss: 0.2980, Train Acc: 0.8882, Val Acc: 0.8859, Test Acc: 0.8882\n"
     ]
    },
    {
     "name": "stderr",
     "output_type": "stream",
     "text": [
      "Epoch: 15: 100%|██████████| 10/10 [00:00<00:00, 87.38it/s]\n"
     ]
    },
    {
     "name": "stdout",
     "output_type": "stream",
     "text": [
      "Train Loss: 0.2940, Train Acc: 0.8948, Val Acc: 0.8859, Test Acc: 0.8890\n",
      "Best Val Acc: 0.8859, Best Test Acc: 0.8906\n"
     ]
    }
   ],
   "source": [
    "# 훈련 및 테스트\n",
    "\n",
    "if is_classification:\n",
    "    metric = 'Acc'\n",
    "    best_val_metric = 0\n",
    "    best_test_metric = 0\n",
    "else:\n",
    "    metric = 'RMSE'\n",
    "    best_val_metric = float('inf')\n",
    "    best_test_metric = float('inf')\n",
    "\n",
    "for epoch in range(1, args.epochs + 1):\n",
    "    train_loss = train(epoch)\n",
    "    train_metric = test(train_loader)\n",
    "    val_metric = test(val_loader)\n",
    "    test_metric = test(test_loader)\n",
    "\n",
    "    if is_classification and val_metric > best_val_metric:\n",
    "        best_val_metric = val_metric\n",
    "        best_test_metric = test_metric\n",
    "    elif not is_classification and val_metric < best_val_metric:\n",
    "        best_val_metric = val_metric\n",
    "        best_test_metric = test_metric\n",
    "\n",
    "    print(f'Train Loss: {train_loss:.4f}, Train {metric}: {train_metric:.4f}, '\n",
    "          f'Val {metric}: {val_metric:.4f}, Test {metric}: {test_metric:.4f}')\n",
    "\n",
    "print(f'Best Val {metric}: {best_val_metric:.4f}, '\n",
    "      f'Best Test {metric}: {best_test_metric:.4f}')\n"
   ]
  },
  {
   "cell_type": "code",
   "execution_count": 33,
   "metadata": {},
   "outputs": [
    {
     "data": {
      "text/plain": [
       "0.8906379453189727"
      ]
     },
     "execution_count": 33,
     "metadata": {},
     "output_type": "execute_result"
    }
   ],
   "source": [
    "resnet_score = best_test_metric\n",
    "resnet_score"
   ]
  },
  {
   "cell_type": "markdown",
   "metadata": {},
   "source": [
    "### FT-T"
   ]
  },
  {
   "cell_type": "code",
   "execution_count": 34,
   "metadata": {},
   "outputs": [
    {
     "data": {
      "text/plain": [
       "_StoreTrueAction(option_strings=['--compile'], dest='compile', nargs=0, const=True, default=False, type=None, choices=None, required=False, help=None, metavar=None)"
      ]
     },
     "execution_count": 34,
     "metadata": {},
     "output_type": "execute_result"
    }
   ],
   "source": [
    "parser = argparse.ArgumentParser()\n",
    "parser.add_argument('--dataset', type=str, default='adult')\n",
    "parser.add_argument('--numerical_encoder_type', type=str, default='linear',\n",
    "                    choices=['linear', 'linearbucket', 'linearperiodic'])\n",
    "parser.add_argument('--model_type', type=str, default='fttransformer',\n",
    "                    choices=['fttransformer', 'resnet'])\n",
    "parser.add_argument('--channels', type=int, default=256)\n",
    "parser.add_argument('--num_layers', type=int, default=4)\n",
    "parser.add_argument('--batch_size', type=int, default=512)\n",
    "parser.add_argument('--lr', type=float, default=0.0001)\n",
    "parser.add_argument('--epochs', type=int, default=100)\n",
    "parser.add_argument('--seed', type=int, default=0)\n",
    "parser.add_argument('--compile', action='store_true')"
   ]
  },
  {
   "cell_type": "code",
   "execution_count": 35,
   "metadata": {},
   "outputs": [],
   "source": [
    "# Jupyter에서 실행될 때는 sys.argv를 조정\n",
    "args = parser.parse_args([\n",
    "    #'--dataset', 'adult',\n",
    "    '--numerical_encoder_type', 'linear',\n",
    "    '--model_type', 'fttransformer',       # fttransformer : FT-T / resnet : ResNet\n",
    "    '--channels', '256',\n",
    "    '--num_layers', '4',\n",
    "    '--batch_size', '256',  # 데이터를 256개씩 한번에 \n",
    "    '--lr', '0.0001',\n",
    "    '--epochs', '15',\n",
    "    '--seed', '0'\n",
    "])"
   ]
  },
  {
   "cell_type": "code",
   "execution_count": 36,
   "metadata": {},
   "outputs": [],
   "source": [
    "# Set up data loaders\n",
    "train_tensor_frame = train_dataset.tensor_frame\n",
    "val_tensor_frame = val_dataset.tensor_frame\n",
    "test_tensor_frame = test_dataset.tensor_frame\n",
    "train_loader = DataLoader(train_tensor_frame, batch_size=args.batch_size,\n",
    "                          shuffle=True)\n",
    "val_loader = DataLoader(val_tensor_frame, batch_size=args.batch_size)\n",
    "test_loader = DataLoader(test_tensor_frame, batch_size=args.batch_size)\n",
    "\n",
    "if args.numerical_encoder_type == 'linear':\n",
    "    numerical_encoder = LinearEncoder()\n",
    "elif args.numerical_encoder_type == 'linearbucket':\n",
    "    numerical_encoder = LinearBucketEncoder()\n",
    "elif args.numerical_encoder_type == 'linearperiodic':\n",
    "    numerical_encoder = LinearPeriodicEncoder()\n",
    "else:\n",
    "    raise ValueError(\n",
    "        f'Unsupported encoder type: {args.numerical_encoder_type}')\n",
    "\n",
    "stype_encoder_dict = {\n",
    "    stype.categorical: EmbeddingEncoder(),\n",
    "    stype.numerical: numerical_encoder,\n",
    "}\n",
    "\n",
    "if is_classification:\n",
    "    #output_channels = dataset.num_classes    ->   contains StatType.COUNT을 포함하지 않아서 오류(?)\n",
    "    output_channels = 2 # 그냥 수동으로 설정.,,,,   => 분류 칼럼 unique 개수로 설정 \n",
    "else:\n",
    "    output_channels = 1"
   ]
  },
  {
   "cell_type": "code",
   "execution_count": 37,
   "metadata": {},
   "outputs": [],
   "source": [
    "if args.model_type == 'fttransformer':\n",
    "    model = FTTransformer(\n",
    "        channels=args.channels,\n",
    "        out_channels=output_channels,\n",
    "        num_layers=args.num_layers,\n",
    "        col_stats=dataset.col_stats,    # TensorFrame이 col_stats를 안받아서 transor frame으로 바꾸기 전으로 받아와야 함 \n",
    "        col_names_dict=train_tensor_frame.col_names_dict,\n",
    "        stype_encoder_dict=stype_encoder_dict,\n",
    "    ).to(device)\n",
    "\n",
    "elif args.model_type == 'resnet':\n",
    "    model = ResNet(\n",
    "        channels=args.channels,\n",
    "        out_channels=output_channels,\n",
    "        num_layers=args.num_layers,\n",
    "        col_stats=dataset.col_stats,\n",
    "        col_names_dict=train_tensor_frame.col_names_dict,\n",
    "    ).to(device)\n",
    "else:\n",
    "    raise ValueError(f'Unsupported model type: {args.model_type}')\n",
    "\n",
    "model = torch.compile(model, dynamic=True) if args.compile else model\n",
    "optimizer = torch.optim.AdamW(model.parameters(), lr=args.lr)"
   ]
  },
  {
   "cell_type": "code",
   "execution_count": 38,
   "metadata": {},
   "outputs": [],
   "source": [
    "def train(epoch: int) -> float:\n",
    "    model.train()\n",
    "    loss_accum = total_count = 0\n",
    "\n",
    "    for tf in tqdm(train_loader, desc=f'Epoch: {epoch}'):\n",
    "        tf = tf.to(device)\n",
    "        pred = model(tf)\n",
    "        if is_classification:\n",
    "            loss = F.cross_entropy(pred, tf.y.long())\n",
    "        else:\n",
    "            loss = F.mse_loss(pred.view(-1), tf.y.view(-1))\n",
    "        optimizer.zero_grad()\n",
    "        loss.backward()\n",
    "        loss_accum += float(loss) * len(tf.y)\n",
    "        total_count += len(tf.y)\n",
    "        optimizer.step()\n",
    "    return loss_accum / total_count\n",
    "\n",
    "\n",
    "@torch.no_grad()\n",
    "def test(loader: DataLoader) -> float:\n",
    "    model.eval()\n",
    "    accum = total_count = 0\n",
    "\n",
    "    for tf in loader:\n",
    "        tf = tf.to(device)\n",
    "        pred = model(tf)\n",
    "        if is_classification:\n",
    "            pred_class = pred.argmax(dim=-1)\n",
    "            accum += float((tf.y == pred_class).sum())\n",
    "        else:\n",
    "            accum += float(\n",
    "                F.mse_loss(pred.view(-1), tf.y.view(-1), reduction='sum'))\n",
    "        total_count += len(tf.y)\n",
    "\n",
    "    if is_classification:\n",
    "        accuracy = accum / total_count\n",
    "        return accuracy\n",
    "    else:\n",
    "        rmse = (accum / total_count)**0.5\n",
    "        return rmse\n"
   ]
  },
  {
   "cell_type": "code",
   "execution_count": 39,
   "metadata": {},
   "outputs": [
    {
     "name": "stderr",
     "output_type": "stream",
     "text": [
      "Epoch: 1: 100%|██████████| 10/10 [00:00<00:00, 61.45it/s]\n"
     ]
    },
    {
     "name": "stdout",
     "output_type": "stream",
     "text": [
      "Train Loss: 0.4686, Train Acc: 0.8447, Val Acc: 0.8387, Test Acc: 0.8542\n"
     ]
    },
    {
     "name": "stderr",
     "output_type": "stream",
     "text": [
      "Epoch: 2: 100%|██████████| 10/10 [00:00<00:00, 84.55it/s]\n"
     ]
    },
    {
     "name": "stdout",
     "output_type": "stream",
     "text": [
      "Train Loss: 0.4120, Train Acc: 0.8546, Val Acc: 0.8288, Test Acc: 0.8558\n"
     ]
    },
    {
     "name": "stderr",
     "output_type": "stream",
     "text": [
      "Epoch: 3: 100%|██████████| 10/10 [00:00<00:00, 86.61it/s]\n"
     ]
    },
    {
     "name": "stdout",
     "output_type": "stream",
     "text": [
      "Train Loss: 0.3936, Train Acc: 0.8538, Val Acc: 0.8288, Test Acc: 0.8550\n"
     ]
    },
    {
     "name": "stderr",
     "output_type": "stream",
     "text": [
      "Epoch: 4: 100%|██████████| 10/10 [00:00<00:00, 85.94it/s]\n"
     ]
    },
    {
     "name": "stdout",
     "output_type": "stream",
     "text": [
      "Train Loss: 0.3892, Train Acc: 0.8492, Val Acc: 0.8362, Test Acc: 0.8426\n"
     ]
    },
    {
     "name": "stderr",
     "output_type": "stream",
     "text": [
      "Epoch: 5: 100%|██████████| 10/10 [00:00<00:00, 86.93it/s]\n"
     ]
    },
    {
     "name": "stdout",
     "output_type": "stream",
     "text": [
      "Train Loss: 0.3836, Train Acc: 0.8554, Val Acc: 0.8437, Test Acc: 0.8500\n"
     ]
    },
    {
     "name": "stderr",
     "output_type": "stream",
     "text": [
      "Epoch: 6: 100%|██████████| 10/10 [00:00<00:00, 86.84it/s]\n"
     ]
    },
    {
     "name": "stdout",
     "output_type": "stream",
     "text": [
      "Train Loss: 0.3782, Train Acc: 0.8542, Val Acc: 0.8387, Test Acc: 0.8451\n"
     ]
    },
    {
     "name": "stderr",
     "output_type": "stream",
     "text": [
      "Epoch: 7: 100%|██████████| 10/10 [00:00<00:00, 86.82it/s]\n"
     ]
    },
    {
     "name": "stdout",
     "output_type": "stream",
     "text": [
      "Train Loss: 0.3781, Train Acc: 0.8579, Val Acc: 0.8412, Test Acc: 0.8575\n"
     ]
    },
    {
     "name": "stderr",
     "output_type": "stream",
     "text": [
      "Epoch: 8: 100%|██████████| 10/10 [00:00<00:00, 87.62it/s]\n"
     ]
    },
    {
     "name": "stdout",
     "output_type": "stream",
     "text": [
      "Train Loss: 0.3772, Train Acc: 0.8563, Val Acc: 0.8437, Test Acc: 0.8459\n"
     ]
    },
    {
     "name": "stderr",
     "output_type": "stream",
     "text": [
      "Epoch: 9: 100%|██████████| 10/10 [00:00<00:00, 80.32it/s]\n"
     ]
    },
    {
     "name": "stdout",
     "output_type": "stream",
     "text": [
      "Train Loss: 0.3752, Train Acc: 0.8583, Val Acc: 0.8412, Test Acc: 0.8484\n"
     ]
    },
    {
     "name": "stderr",
     "output_type": "stream",
     "text": [
      "Epoch: 10: 100%|██████████| 10/10 [00:00<00:00, 87.01it/s]\n"
     ]
    },
    {
     "name": "stdout",
     "output_type": "stream",
     "text": [
      "Train Loss: 0.3748, Train Acc: 0.8542, Val Acc: 0.8437, Test Acc: 0.8459\n"
     ]
    },
    {
     "name": "stderr",
     "output_type": "stream",
     "text": [
      "Epoch: 11: 100%|██████████| 10/10 [00:00<00:00, 88.27it/s]\n"
     ]
    },
    {
     "name": "stdout",
     "output_type": "stream",
     "text": [
      "Train Loss: 0.3732, Train Acc: 0.8538, Val Acc: 0.8412, Test Acc: 0.8426\n"
     ]
    },
    {
     "name": "stderr",
     "output_type": "stream",
     "text": [
      "Epoch: 12: 100%|██████████| 10/10 [00:00<00:00, 87.99it/s]\n"
     ]
    },
    {
     "name": "stdout",
     "output_type": "stream",
     "text": [
      "Train Loss: 0.3714, Train Acc: 0.8583, Val Acc: 0.8387, Test Acc: 0.8525\n"
     ]
    },
    {
     "name": "stderr",
     "output_type": "stream",
     "text": [
      "Epoch: 13: 100%|██████████| 10/10 [00:00<00:00, 84.87it/s]\n"
     ]
    },
    {
     "name": "stdout",
     "output_type": "stream",
     "text": [
      "Train Loss: 0.3720, Train Acc: 0.8583, Val Acc: 0.8462, Test Acc: 0.8534\n"
     ]
    },
    {
     "name": "stderr",
     "output_type": "stream",
     "text": [
      "Epoch: 14: 100%|██████████| 10/10 [00:00<00:00, 85.30it/s]\n"
     ]
    },
    {
     "name": "stdout",
     "output_type": "stream",
     "text": [
      "Train Loss: 0.3710, Train Acc: 0.8621, Val Acc: 0.8511, Test Acc: 0.8583\n"
     ]
    },
    {
     "name": "stderr",
     "output_type": "stream",
     "text": [
      "Epoch: 15: 100%|██████████| 10/10 [00:00<00:00, 86.10it/s]\n"
     ]
    },
    {
     "name": "stdout",
     "output_type": "stream",
     "text": [
      "Train Loss: 0.3684, Train Acc: 0.8587, Val Acc: 0.8486, Test Acc: 0.8509\n",
      "Best Val Acc: 0.8511, Best Test Acc: 0.8583\n"
     ]
    }
   ],
   "source": [
    "# 훈련 및 테스트\n",
    "\n",
    "if is_classification:\n",
    "    metric = 'Acc'\n",
    "    best_val_metric = 0\n",
    "    best_test_metric = 0\n",
    "else:\n",
    "    metric = 'RMSE'\n",
    "    best_val_metric = float('inf')\n",
    "    best_test_metric = float('inf')\n",
    "\n",
    "for epoch in range(1, args.epochs + 1):\n",
    "    train_loss = train(epoch)\n",
    "    train_metric = test(train_loader)\n",
    "    val_metric = test(val_loader)\n",
    "    test_metric = test(test_loader)\n",
    "\n",
    "    if is_classification and val_metric > best_val_metric:\n",
    "        best_val_metric = val_metric\n",
    "        best_test_metric = test_metric\n",
    "    elif not is_classification and val_metric < best_val_metric:\n",
    "        best_val_metric = val_metric\n",
    "        best_test_metric = test_metric\n",
    "\n",
    "    print(f'Train Loss: {train_loss:.4f}, Train {metric}: {train_metric:.4f}, '\n",
    "          f'Val {metric}: {val_metric:.4f}, Test {metric}: {test_metric:.4f}')\n",
    "\n",
    "print(f'Best Val {metric}: {best_val_metric:.4f}, '\n",
    "      f'Best Test {metric}: {best_test_metric:.4f}')\n"
   ]
  },
  {
   "cell_type": "code",
   "execution_count": 40,
   "metadata": {},
   "outputs": [
    {
     "data": {
      "text/plain": [
       "0.8583264291632146"
      ]
     },
     "execution_count": 40,
     "metadata": {},
     "output_type": "execute_result"
    }
   ],
   "source": [
    "ftt_score = best_test_metric\n",
    "ftt_score"
   ]
  },
  {
   "cell_type": "markdown",
   "metadata": {},
   "source": [
    "### TabNet"
   ]
  },
  {
   "cell_type": "code",
   "execution_count": 41,
   "metadata": {},
   "outputs": [
    {
     "data": {
      "text/plain": [
       "<torch._C.Generator at 0x7ff2457830f0>"
      ]
     },
     "execution_count": 41,
     "metadata": {},
     "output_type": "execute_result"
    }
   ],
   "source": [
    "parser = argparse.ArgumentParser()\n",
    "parser.add_argument('--dataset', type=str, default=\"ForestCoverType\",\n",
    "                    choices=[\"ForestCoverType\", \"KDDCensusIncome\"])\n",
    "parser.add_argument('--channels', type=int, default=128)\n",
    "parser.add_argument('--gamma', type=int, default=1.2)\n",
    "parser.add_argument('--num_layers', type=int, default=6)\n",
    "parser.add_argument('--batch_size', type=int, default=4096)\n",
    "parser.add_argument('--lr', type=float, default=0.005)\n",
    "parser.add_argument('--epochs', type=int, default=50)\n",
    "parser.add_argument('--seed', type=int, default=0)\n",
    "parser.add_argument('--compile', action='store_true')\n",
    "\n",
    "\n",
    "args = parser.parse_args([\n",
    "    \"--channels\", \"256\",\n",
    "    \"--num_layers\", \"4\",\n",
    "    \"--batch_size\", \"256\",\n",
    "    \"--lr\", \"0.0001\",\n",
    "    \"--epochs\", \"15\"\n",
    "])\n",
    "\n",
    "torch.manual_seed(args.seed)"
   ]
  },
  {
   "cell_type": "code",
   "execution_count": 42,
   "metadata": {},
   "outputs": [],
   "source": [
    "# Set up data loaders\n",
    "train_tensor_frame = train_dataset.tensor_frame\n",
    "val_tensor_frame = val_dataset.tensor_frame\n",
    "test_tensor_frame = test_dataset.tensor_frame\n",
    "train_loader = DataLoader(train_tensor_frame, batch_size=args.batch_size,\n",
    "                          shuffle=True)\n",
    "val_loader = DataLoader(val_tensor_frame, batch_size=args.batch_size)\n",
    "test_loader = DataLoader(test_tensor_frame, batch_size=args.batch_size)"
   ]
  },
  {
   "cell_type": "code",
   "execution_count": 43,
   "metadata": {},
   "outputs": [],
   "source": [
    "# Set up model and optimizer\n",
    "model = TabNet(\n",
    "    out_channels = 2,\n",
    "    num_layers=args.num_layers,\n",
    "    split_attn_channels=args.channels,\n",
    "    split_feat_channels=args.channels,\n",
    "    gamma=args.gamma,\n",
    "    col_stats=dataset.col_stats,\n",
    "    col_names_dict=train_tensor_frame.col_names_dict,\n",
    ").to(device)\n",
    "model = torch.compile(model, dynamic=True) if args.compile else model\n",
    "optimizer = torch.optim.Adam(model.parameters(), lr=args.lr)\n",
    "lr_scheduler = ExponentialLR(optimizer, gamma=0.95)"
   ]
  },
  {
   "cell_type": "code",
   "execution_count": 44,
   "metadata": {},
   "outputs": [],
   "source": [
    "def train(epoch: int) -> float:\n",
    "    model.train()\n",
    "    loss_accum = total_count = 0\n",
    "\n",
    "    for tf in tqdm(train_loader, desc=f'Epoch: {epoch}'):\n",
    "        tf = tf.to(device)\n",
    "        pred = model(tf)\n",
    "        loss = F.cross_entropy(pred, tf.y.long())\n",
    "        optimizer.zero_grad()\n",
    "        loss.backward()\n",
    "        loss_accum += float(loss) * len(tf.y)\n",
    "        total_count += len(tf.y)\n",
    "        optimizer.step()\n",
    "    return loss_accum / total_count\n",
    "\n",
    "\n",
    "@torch.no_grad()\n",
    "def test(loader: DataLoader) -> float:\n",
    "    model.eval()\n",
    "    accum = total_count = 0\n",
    "\n",
    "    for tf in loader:\n",
    "        tf = tf.to(device)\n",
    "        pred = model(tf)\n",
    "        pred_class = pred.argmax(dim=-1)\n",
    "        accum += float((tf.y == pred_class).sum())\n",
    "        total_count += len(tf.y)\n",
    "\n",
    "    return accum / total_count"
   ]
  },
  {
   "cell_type": "code",
   "execution_count": 45,
   "metadata": {},
   "outputs": [
    {
     "name": "stderr",
     "output_type": "stream",
     "text": [
      "Epoch: 1: 100%|██████████| 10/10 [00:00<00:00, 102.82it/s]\n"
     ]
    },
    {
     "name": "stdout",
     "output_type": "stream",
     "text": [
      "Train Loss: 0.7130, Train Acc: 0.1553, Val Acc: 0.1613, Test Acc: 0.1458\n"
     ]
    },
    {
     "name": "stderr",
     "output_type": "stream",
     "text": [
      "Epoch: 2: 100%|██████████| 10/10 [00:00<00:00, 109.35it/s]\n"
     ]
    },
    {
     "name": "stdout",
     "output_type": "stream",
     "text": [
      "Train Loss: 0.6889, Train Acc: 0.1727, Val Acc: 0.1712, Test Acc: 0.1582\n"
     ]
    },
    {
     "name": "stderr",
     "output_type": "stream",
     "text": [
      "Epoch: 3: 100%|██████████| 10/10 [00:00<00:00, 109.78it/s]\n"
     ]
    },
    {
     "name": "stdout",
     "output_type": "stream",
     "text": [
      "Train Loss: 0.6513, Train Acc: 0.3368, Val Acc: 0.3548, Test Acc: 0.3157\n"
     ]
    },
    {
     "name": "stderr",
     "output_type": "stream",
     "text": [
      "Epoch: 4: 100%|██████████| 10/10 [00:00<00:00, 107.18it/s]\n"
     ]
    },
    {
     "name": "stdout",
     "output_type": "stream",
     "text": [
      "Train Loss: 0.6104, Train Acc: 0.5638, Val Acc: 0.5906, Test Acc: 0.5427\n"
     ]
    },
    {
     "name": "stderr",
     "output_type": "stream",
     "text": [
      "Epoch: 5: 100%|██████████| 10/10 [00:00<00:00, 108.90it/s]\n"
     ]
    },
    {
     "name": "stdout",
     "output_type": "stream",
     "text": [
      "Train Loss: 0.5690, Train Acc: 0.7121, Val Acc: 0.7047, Test Acc: 0.6802\n"
     ]
    },
    {
     "name": "stderr",
     "output_type": "stream",
     "text": [
      "Epoch: 6: 100%|██████████| 10/10 [00:00<00:00, 109.64it/s]\n"
     ]
    },
    {
     "name": "stdout",
     "output_type": "stream",
     "text": [
      "Train Loss: 0.5230, Train Acc: 0.7875, Val Acc: 0.7891, Test Acc: 0.7655\n"
     ]
    },
    {
     "name": "stderr",
     "output_type": "stream",
     "text": [
      "Epoch: 7: 100%|██████████| 10/10 [00:00<00:00, 109.47it/s]\n"
     ]
    },
    {
     "name": "stdout",
     "output_type": "stream",
     "text": [
      "Train Loss: 0.4796, Train Acc: 0.8277, Val Acc: 0.8313, Test Acc: 0.8161\n"
     ]
    },
    {
     "name": "stderr",
     "output_type": "stream",
     "text": [
      "Epoch: 8: 100%|██████████| 10/10 [00:00<00:00, 109.49it/s]\n"
     ]
    },
    {
     "name": "stdout",
     "output_type": "stream",
     "text": [
      "Train Loss: 0.4368, Train Acc: 0.8583, Val Acc: 0.8511, Test Acc: 0.8459\n"
     ]
    },
    {
     "name": "stderr",
     "output_type": "stream",
     "text": [
      "Epoch: 9: 100%|██████████| 10/10 [00:00<00:00, 109.95it/s]\n"
     ]
    },
    {
     "name": "stdout",
     "output_type": "stream",
     "text": [
      "Train Loss: 0.3941, Train Acc: 0.8691, Val Acc: 0.8486, Test Acc: 0.8691\n"
     ]
    },
    {
     "name": "stderr",
     "output_type": "stream",
     "text": [
      "Epoch: 10: 100%|██████████| 10/10 [00:00<00:00, 110.17it/s]\n"
     ]
    },
    {
     "name": "stdout",
     "output_type": "stream",
     "text": [
      "Train Loss: 0.3594, Train Acc: 0.8782, Val Acc: 0.8660, Test Acc: 0.8766\n"
     ]
    },
    {
     "name": "stderr",
     "output_type": "stream",
     "text": [
      "Epoch: 11: 100%|██████████| 10/10 [00:00<00:00, 106.94it/s]\n"
     ]
    },
    {
     "name": "stdout",
     "output_type": "stream",
     "text": [
      "Train Loss: 0.3350, Train Acc: 0.8890, Val Acc: 0.8710, Test Acc: 0.8790\n"
     ]
    },
    {
     "name": "stderr",
     "output_type": "stream",
     "text": [
      "Epoch: 12: 100%|██████████| 10/10 [00:00<00:00, 107.49it/s]\n"
     ]
    },
    {
     "name": "stdout",
     "output_type": "stream",
     "text": [
      "Train Loss: 0.3126, Train Acc: 0.8944, Val Acc: 0.8710, Test Acc: 0.8848\n"
     ]
    },
    {
     "name": "stderr",
     "output_type": "stream",
     "text": [
      "Epoch: 13: 100%|██████████| 10/10 [00:00<00:00, 107.79it/s]\n"
     ]
    },
    {
     "name": "stdout",
     "output_type": "stream",
     "text": [
      "Train Loss: 0.2997, Train Acc: 0.8977, Val Acc: 0.8685, Test Acc: 0.8898\n"
     ]
    },
    {
     "name": "stderr",
     "output_type": "stream",
     "text": [
      "Epoch: 14: 100%|██████████| 10/10 [00:00<00:00, 109.11it/s]\n"
     ]
    },
    {
     "name": "stdout",
     "output_type": "stream",
     "text": [
      "Train Loss: 0.2821, Train Acc: 0.9035, Val Acc: 0.8734, Test Acc: 0.8890\n"
     ]
    },
    {
     "name": "stderr",
     "output_type": "stream",
     "text": [
      "Epoch: 15: 100%|██████████| 10/10 [00:00<00:00, 108.70it/s]\n"
     ]
    },
    {
     "name": "stdout",
     "output_type": "stream",
     "text": [
      "Train Loss: 0.2775, Train Acc: 0.9068, Val Acc: 0.8685, Test Acc: 0.8940\n",
      "Best Val Acc: 0.8734, Best Test Acc: 0.8890\n"
     ]
    }
   ],
   "source": [
    "best_val_acc = 0\n",
    "best_test_acc = 0\n",
    "for epoch in range(1, args.epochs + 1):\n",
    "    train_loss = train(epoch)\n",
    "    train_acc = test(train_loader)\n",
    "    val_acc = test(val_loader)\n",
    "    test_acc = test(test_loader)\n",
    "    if best_val_acc < val_acc:\n",
    "        best_val_acc = val_acc\n",
    "        best_test_acc = test_acc\n",
    "    print(f'Train Loss: {train_loss:.4f}, Train Acc: {train_acc:.4f}, '\n",
    "          f'Val Acc: {val_acc:.4f}, Test Acc: {test_acc:.4f}')\n",
    "    lr_scheduler.step()\n",
    "\n",
    "print(f'Best Val Acc: {best_val_acc:.4f}, Best Test Acc: {best_test_acc:.4f}')"
   ]
  },
  {
   "cell_type": "code",
   "execution_count": 46,
   "metadata": {},
   "outputs": [
    {
     "data": {
      "text/plain": [
       "0.8889809444904723"
      ]
     },
     "execution_count": 46,
     "metadata": {},
     "output_type": "execute_result"
    }
   ],
   "source": [
    "tabnet_score = best_test_acc\n",
    "tabnet_score"
   ]
  },
  {
   "cell_type": "markdown",
   "metadata": {},
   "source": [
    "### Tab_Transformer"
   ]
  },
  {
   "cell_type": "code",
   "execution_count": 47,
   "metadata": {},
   "outputs": [],
   "source": [
    "# Jupyter에서 실행될 때는 sys.argv를 조정\n",
    "parser = argparse.ArgumentParser()\n",
    "parser.add_argument('--dataset', type=str, default='dota2',\n",
    "                    choices=[\"adult\", \"dota2\", \"bank-marketing\"])\n",
    "parser.add_argument('--channels', type=int, default=32)\n",
    "parser.add_argument('--num_heads', type=int, default=8)\n",
    "parser.add_argument('--num_layers', type=int, default=6)\n",
    "parser.add_argument('--encoder_pad_size', type=int, default=2)\n",
    "parser.add_argument('--attention_dropout', type=float, default=0.3)\n",
    "parser.add_argument('--ffn_dropout', type=float, default=0.3)\n",
    "parser.add_argument('--batch_size', type=int, default=128)\n",
    "parser.add_argument('--lr', type=float, default=0.0001)\n",
    "parser.add_argument('--epochs', type=int, default=50)\n",
    "parser.add_argument('--seed', type=int, default=0)\n",
    "parser.add_argument('--compile', action='store_true')\n",
    "\n",
    "args = parser.parse_args([\n",
    "    '--channels', '256',\n",
    "    '--num_layers', '4',\n",
    "    '--batch_size', '256',  # 데이터를 256개씩 한번에 \n",
    "    '--lr', '0.0001',\n",
    "    '--epochs', '15',\n",
    "    '--seed', '0'\n",
    "])"
   ]
  },
  {
   "cell_type": "code",
   "execution_count": 48,
   "metadata": {},
   "outputs": [],
   "source": [
    "# Set up data loaders\n",
    "train_tensor_frame = train_dataset.tensor_frame\n",
    "val_tensor_frame = val_dataset.tensor_frame\n",
    "test_tensor_frame = test_dataset.tensor_frame\n",
    "train_loader = DataLoader(train_tensor_frame, batch_size=args.batch_size,\n",
    "                          shuffle=True)\n",
    "val_loader = DataLoader(val_tensor_frame, batch_size=args.batch_size)\n",
    "test_loader = DataLoader(test_tensor_frame, batch_size=args.batch_size)"
   ]
  },
  {
   "cell_type": "code",
   "execution_count": 49,
   "metadata": {},
   "outputs": [],
   "source": [
    "# Set up model and optimizer\n",
    "model = TabTransformer(\n",
    "    channels=args.channels,\n",
    "    out_channels= 2,        # stype 문제로 수동으로 설정 \n",
    "    num_layers=args.num_layers,\n",
    "    num_heads=args.num_heads,\n",
    "    encoder_pad_size=args.encoder_pad_size,\n",
    "    attn_dropout=args.attention_dropout,\n",
    "    ffn_dropout=args.ffn_dropout,\n",
    "    col_stats=dataset.col_stats,\n",
    "    col_names_dict=train_tensor_frame.col_names_dict,\n",
    ").to(device)\n",
    "model = torch.compile(model, dynamic=True) if args.compile else model\n",
    "optimizer = torch.optim.Adam(model.parameters(), lr=args.lr)\n",
    "lr_scheduler = ExponentialLR(optimizer, gamma=0.95)"
   ]
  },
  {
   "cell_type": "code",
   "execution_count": 50,
   "metadata": {},
   "outputs": [],
   "source": [
    "def train(epoch: int) -> float:\n",
    "    model.train()\n",
    "    loss_accum = total_count = 0\n",
    "\n",
    "    for tf in tqdm(train_loader, desc=f'Epoch: {epoch}'):\n",
    "        tf = tf.to(device)\n",
    "        pred = model.forward(tf)\n",
    "        loss = F.cross_entropy(pred, tf.y.long())   # expected scalar type Long but found Float 때문에 tf.y => tf.y.long()\n",
    "        optimizer.zero_grad()\n",
    "        loss.backward()\n",
    "        loss_accum += float(loss) * len(tf.y)\n",
    "        total_count += len(tf.y)\n",
    "        optimizer.step()\n",
    "    return loss_accum / total_count\n",
    "\n",
    "\n",
    "@torch.no_grad()\n",
    "def test(loader: DataLoader) -> float:\n",
    "    model.eval()\n",
    "    accum = total_count = 0\n",
    "\n",
    "    for tf in loader:\n",
    "        tf = tf.to(device)\n",
    "        pred = model(tf)\n",
    "        if is_classification:\n",
    "            pred_class = pred.argmax(dim=-1)\n",
    "            accum += float((tf.y == pred_class).sum())\n",
    "        else:\n",
    "            accum += float(\n",
    "                F.mse_loss(pred.view(-1), tf.y.view(-1), reduction='sum'))\n",
    "        total_count += len(tf.y)\n",
    "\n",
    "    if is_classification:\n",
    "        accuracy = accum / total_count\n",
    "        return accuracy\n",
    "    else:\n",
    "        rmse = (accum / total_count)**0.5\n",
    "        return rmse"
   ]
  },
  {
   "cell_type": "code",
   "execution_count": 51,
   "metadata": {},
   "outputs": [
    {
     "name": "stderr",
     "output_type": "stream",
     "text": [
      "Epoch: 1: 100%|██████████| 10/10 [00:00<00:00, 38.53it/s]\n"
     ]
    },
    {
     "name": "stdout",
     "output_type": "stream",
     "text": [
      "Train Loss: 1.3470, Train ACC: 0.7908, Val ACC: 0.7916, Test ACC: 0.7664\n"
     ]
    },
    {
     "name": "stderr",
     "output_type": "stream",
     "text": [
      "Epoch: 2: 100%|██████████| 10/10 [00:00<00:00, 36.53it/s]\n"
     ]
    },
    {
     "name": "stdout",
     "output_type": "stream",
     "text": [
      "Train Loss: 1.2042, Train ACC: 0.7622, Val ACC: 0.7444, Test ACC: 0.7341\n"
     ]
    },
    {
     "name": "stderr",
     "output_type": "stream",
     "text": [
      "Epoch: 3: 100%|██████████| 10/10 [00:00<00:00, 34.09it/s]\n"
     ]
    },
    {
     "name": "stdout",
     "output_type": "stream",
     "text": [
      "Train Loss: 0.9772, Train ACC: 0.8604, Val ACC: 0.8660, Test ACC: 0.8525\n"
     ]
    },
    {
     "name": "stderr",
     "output_type": "stream",
     "text": [
      "Epoch: 4: 100%|██████████| 10/10 [00:00<00:00, 34.08it/s]\n"
     ]
    },
    {
     "name": "stdout",
     "output_type": "stream",
     "text": [
      "Train Loss: 0.9031, Train ACC: 0.6819, Val ACC: 0.7122, Test ACC: 0.6495\n"
     ]
    },
    {
     "name": "stderr",
     "output_type": "stream",
     "text": [
      "Epoch: 5: 100%|██████████| 10/10 [00:00<00:00, 33.90it/s]\n"
     ]
    },
    {
     "name": "stdout",
     "output_type": "stream",
     "text": [
      "Train Loss: 0.7761, Train ACC: 0.6748, Val ACC: 0.6948, Test ACC: 0.6504\n"
     ]
    },
    {
     "name": "stderr",
     "output_type": "stream",
     "text": [
      "Epoch: 6: 100%|██████████| 10/10 [00:00<00:00, 34.56it/s]\n"
     ]
    },
    {
     "name": "stdout",
     "output_type": "stream",
     "text": [
      "Train Loss: 0.7321, Train ACC: 0.8198, Val ACC: 0.8189, Test ACC: 0.7995\n"
     ]
    },
    {
     "name": "stderr",
     "output_type": "stream",
     "text": [
      "Epoch: 7: 100%|██████████| 10/10 [00:00<00:00, 33.46it/s]\n"
     ]
    },
    {
     "name": "stdout",
     "output_type": "stream",
     "text": [
      "Train Loss: 0.6699, Train ACC: 0.7162, Val ACC: 0.7097, Test ACC: 0.6785\n"
     ]
    },
    {
     "name": "stderr",
     "output_type": "stream",
     "text": [
      "Epoch: 8: 100%|██████████| 10/10 [00:00<00:00, 33.82it/s]\n"
     ]
    },
    {
     "name": "stdout",
     "output_type": "stream",
     "text": [
      "Train Loss: 0.6541, Train ACC: 0.8107, Val ACC: 0.7891, Test ACC: 0.7871\n"
     ]
    },
    {
     "name": "stderr",
     "output_type": "stream",
     "text": [
      "Epoch: 9: 100%|██████████| 10/10 [00:00<00:00, 32.30it/s]\n"
     ]
    },
    {
     "name": "stdout",
     "output_type": "stream",
     "text": [
      "Train Loss: 0.6389, Train ACC: 0.7879, Val ACC: 0.7990, Test ACC: 0.7539\n"
     ]
    },
    {
     "name": "stderr",
     "output_type": "stream",
     "text": [
      "Epoch: 10: 100%|██████████| 10/10 [00:00<00:00, 31.05it/s]\n"
     ]
    },
    {
     "name": "stdout",
     "output_type": "stream",
     "text": [
      "Train Loss: 0.6019, Train ACC: 0.8256, Val ACC: 0.8164, Test ACC: 0.8111\n"
     ]
    },
    {
     "name": "stderr",
     "output_type": "stream",
     "text": [
      "Epoch: 11: 100%|██████████| 10/10 [00:00<00:00, 34.17it/s]\n"
     ]
    },
    {
     "name": "stdout",
     "output_type": "stream",
     "text": [
      "Train Loss: 0.5782, Train ACC: 0.8194, Val ACC: 0.8139, Test ACC: 0.7954\n"
     ]
    },
    {
     "name": "stderr",
     "output_type": "stream",
     "text": [
      "Epoch: 12: 100%|██████████| 10/10 [00:00<00:00, 33.04it/s]\n"
     ]
    },
    {
     "name": "stdout",
     "output_type": "stream",
     "text": [
      "Train Loss: 0.5705, Train ACC: 0.8455, Val ACC: 0.8511, Test ACC: 0.8409\n"
     ]
    },
    {
     "name": "stderr",
     "output_type": "stream",
     "text": [
      "Epoch: 13: 100%|██████████| 10/10 [00:00<00:00, 33.42it/s]\n"
     ]
    },
    {
     "name": "stdout",
     "output_type": "stream",
     "text": [
      "Train Loss: 0.5605, Train ACC: 0.7978, Val ACC: 0.7816, Test ACC: 0.7780\n"
     ]
    },
    {
     "name": "stderr",
     "output_type": "stream",
     "text": [
      "Epoch: 14: 100%|██████████| 10/10 [00:00<00:00, 33.26it/s]\n"
     ]
    },
    {
     "name": "stdout",
     "output_type": "stream",
     "text": [
      "Train Loss: 0.5587, Train ACC: 0.8186, Val ACC: 0.8040, Test ACC: 0.8028\n"
     ]
    },
    {
     "name": "stderr",
     "output_type": "stream",
     "text": [
      "Epoch: 15: 100%|██████████| 10/10 [00:00<00:00, 33.75it/s]\n"
     ]
    },
    {
     "name": "stdout",
     "output_type": "stream",
     "text": [
      "Train Loss: 0.5476, Train ACC: 0.8057, Val ACC: 0.8288, Test ACC: 0.7821\n",
      "Best Val ACC: 0.8660, Best Test ACC: 0.8525\n"
     ]
    }
   ],
   "source": [
    "metric = 'ACC'\n",
    "best_val_metric = 0\n",
    "best_test_metric = 0\n",
    "for epoch in range(1, args.epochs + 1):\n",
    "    train_loss = train(epoch)\n",
    "    train_metric = test(train_loader)\n",
    "    val_metric = test(val_loader)\n",
    "    test_metric = test(test_loader)\n",
    "\n",
    "    if val_metric > best_val_metric:\n",
    "        best_val_metric = val_metric\n",
    "        best_test_metric = test_metric\n",
    "\n",
    "    print(f'Train Loss: {train_loss:.4f}, Train {metric}: {train_metric:.4f}, '\n",
    "          f'Val {metric}: {val_metric:.4f}, Test {metric}: {test_metric:.4f}')\n",
    "    lr_scheduler.step()\n",
    "\n",
    "print(f'Best Val {metric}: {best_val_metric:.4f}, '\n",
    "      f'Best Test {metric}: {best_test_metric:.4f}')"
   ]
  },
  {
   "cell_type": "code",
   "execution_count": 52,
   "metadata": {},
   "outputs": [
    {
     "data": {
      "text/plain": [
       "0.8525269262634632"
      ]
     },
     "execution_count": 52,
     "metadata": {},
     "output_type": "execute_result"
    }
   ],
   "source": [
    "tab_transformer_score = best_test_metric\n",
    "tab_transformer_score"
   ]
  },
  {
   "cell_type": "markdown",
   "metadata": {},
   "source": [
    "# 시각화"
   ]
  },
  {
   "cell_type": "code",
   "execution_count": 53,
   "metadata": {},
   "outputs": [
    {
     "data": {
      "image/png": "[encoded data removed]",
      "text/plain": [
       "<Figure size 1000x600 with 1 Axes>"
      ]
     },
     "metadata": {},
     "output_type": "display_data"
    }
   ],
   "source": [
    "import matplotlib.pyplot as plt\n",
    "import seaborn as sns\n",
    "\n",
    "models = ['Logistic Regression', 'Decision Tree', 'Random Forest', 'LightGBM', 'XGBoost', 'CatBoost', 'ResNet', 'FT-Transformer', 'TabNet', 'Tab_transformer']\n",
    "accuracies = [log_acc, acc_dt, rf_acc, acc_lgb, acc_xgb, acc_cat, resnet_score, ftt_score, tabnet_score, tab_transformer_score]\n",
    "\n",
    "colors = sns.color_palette(\"pastel\", len(models))\n",
    "\n",
    "plt.figure(figsize=(10, 6))\n",
    "\n",
    "# 바 차트 그리기\n",
    "bars = plt.bar(models, accuracies, color=colors,  linewidth=1.2)\n",
    "\n",
    "plt.ylim(0, 1)\n",
    "\n",
    "for bar, acc in zip(bars, accuracies):\n",
    "    plt.text(bar.get_x() + bar.get_width()/2, bar.get_height(), f\"{acc:.2%}\",\n",
    "             ha='center', va='bottom', fontsize=10)\n",
    "\n",
    "\n",
    "plt.xlabel(\"Models\", fontsize=12)\n",
    "plt.ylabel(\"Accuracy Score\", fontsize=12)\n",
    "plt.title(\"Comparison of Model Accuracies\", fontsize=14, fontweight='bold')\n",
    "plt.xticks(rotation=15)\n",
    "plt.grid(axis='y', linestyle='--', alpha=0.7)\n",
    "\n",
    "plt.show()"
   ]
  }
 ],
 "metadata": {
  "kernelspec": {
   "display_name": "base",
   "language": "python",
   "name": "python3"
  },
  "language_info": {
   "codemirror_mode": {
    "name": "ipython",
    "version": 3
   },
   "file_extension": ".py",
   "mimetype": "text/x-python",
   "name": "python",
   "nbconvert_exporter": "python",
   "pygments_lexer": "ipython3",
   "version": "3.10.13"
  }
 },
 "nbformat": 4,
 "nbformat_minor": 2
}
